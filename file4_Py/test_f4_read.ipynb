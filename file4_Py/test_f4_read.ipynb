{
 "cells": [
  {
   "cell_type": "code",
   "execution_count": 3,
   "metadata": {},
   "outputs": [
    {
     "name": "stdout",
     "output_type": "stream",
     "text": [
      "Populating the interactive namespace from numpy and matplotlib\n"
     ]
    }
   ],
   "source": [
    "import numpy\n",
    "import matplotlib\n",
    "import os\n",
    "%pylab inline"
   ]
  },
  {
   "cell_type": "code",
   "execution_count": 4,
   "metadata": {},
   "outputs": [
    {
     "name": "stdout",
     "output_type": "stream",
     "text": [
      "(3.6415832e-38, 0.0, 0)\n",
      "(5.9155871e-39, 3.1389086e-43, 1)\n",
      "(1.9078465e+18, 3.1389086e-43, 2)\n",
      "(1.9078465e+18, 3.1389086e-43, 3)\n",
      "(1.9078465e+18, 3.1389086e-43, 4)\n",
      "(1.9078465e+18, 3.1389086e-43, 5)\n",
      "(1.9078465e+18, 2.6904931e-43, 6)\n",
      "(-7.6617666e+31, 2.6904931e-43, 7)\n",
      "(-8.7025819e-39, 2.6904931e-43, 8)\n",
      "(2.4855673e+17, 1.793662e-43, 9)\n",
      "(1.6289414e+22, 3.1389086e-43, 10)\n",
      "(-7.8007342e-22, 4.4841551e-44, 11)\n",
      "(-8.6238256e-12, 0.0, 12)\n",
      "(-6.8810562e-07, 3.1389086e-43, 13)\n",
      "(-3.5715993e-23, 0.0, 14)\n",
      "(11.419497, 3.1389086e-43, 15)\n",
      "(5.3400341e-37, 4.4841551e-44, 16)\n",
      "(9.8313541e+15, 2.2420775e-43, 17)\n",
      "(-1.2134403e+09, 3.1389086e-43, 18)\n",
      "(-1.8863888e+22, 4.4841551e-44, 19)\n",
      "(-8.8350629e-16, 1.3452465e-43, 20)\n",
      "(-5.610363e-32, 0.0, 21)\n",
      "(7.8082409e-25, 0.0, 22)\n",
      "(-2.7992702e-24, 1.793662e-43, 23)\n",
      "(-6.2933477e+31, 2.2420775e-43, 24)\n",
      "(-1.216512e-37, 8.9683102e-44, 25)\n",
      "(6.545811e-25, 8.9683102e-44, 26)\n",
      "(-1.2881955e+22, 2.6904931e-43, 27)\n",
      "(-7.2863569e+21, 0.0, 28)\n",
      "(8.3283237e+36, 1.793662e-43, 29)\n",
      "(3.6734748e+35, 8.9683102e-44, 30)\n",
      "(1.1048734e-12, 1.3452465e-43, 31)\n",
      "(0.0082703251, 4.4841551e-44, 32)\n",
      "(65376.258, 1.793662e-43, 33)\n",
      "(-4.8472074e+21, 8.9683102e-44, 34)\n",
      "(-1.5279941e-38, 3.1389086e-43, 35)\n",
      "(-1.8933374e-25, 1.793662e-43, 36)\n",
      "(-3.1381613e+15, 2.2420775e-43, 37)\n",
      "(4.8866965e+29, 1.3452465e-43, 38)\n",
      "(5.3064025e+18, 3.1389086e-43, 39)\n",
      "(-1.0388108e-19, 4.4841551e-44, 40)\n",
      "(7.6032005e+12, 1.3452465e-43, 41)\n",
      "(2.0072689e+19, 4.4841551e-44, 42)\n",
      "(-5928.6572, 8.9683102e-44, 43)\n",
      "(-2.2257367e-24, 2.6904931e-43, 44)\n"
     ]
    }
   ],
   "source": [
    "\n",
    "filename='f4.nu'\n",
    "fid = open(filename, 'rb')\n",
    "ldor0=1024\n",
    "# numpy function \n",
    "for iz in range(0,45):\n",
    "    pole=np.fromfile(fid,dtype='float32',count=ldor0)\n",
    "    print(pole[0],pole[ldor0-1],iz)\n",
    "#fid.seek(4*ldor0,os.SEEK_SET)\n",
    "#pole=np.fromfile(fid,dtype='float32',count=ldor0)\n",
    "#print(pole[0])\n"
   ]
  },
  {
   "cell_type": "code",
   "execution_count": null,
   "metadata": {},
   "outputs": [],
   "source": []
  },
  {
   "cell_type": "code",
   "execution_count": null,
   "metadata": {},
   "outputs": [],
   "source": []
  },
  {
   "cell_type": "code",
   "execution_count": null,
   "metadata": {},
   "outputs": [],
   "source": []
  }
 ],
 "metadata": {
  "kernelspec": {
   "display_name": "Python 2",
   "language": "python",
   "name": "python2"
  },
  "language_info": {
   "codemirror_mode": {
    "name": "ipython",
    "version": 2
   },
   "file_extension": ".py",
   "mimetype": "text/x-python",
   "name": "python",
   "nbconvert_exporter": "python",
   "pygments_lexer": "ipython2",
   "version": "2.7.13"
  }
 },
 "nbformat": 4,
 "nbformat_minor": 2
}

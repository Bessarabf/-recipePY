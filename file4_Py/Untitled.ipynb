{
 "cells": [
  {
   "cell_type": "code",
   "execution_count": 1,
   "metadata": {},
   "outputs": [
    {
     "name": "stdout",
     "output_type": "stream",
     "text": [
      "Populating the interactive namespace from numpy and matplotlib\n"
     ]
    }
   ],
   "source": [
    "\n",
    "# coding: utf-8\n",
    "\n",
    "import numpy as np\n",
    "import matplotlib.pyplot as plt\n",
    "%pylab inline\n",
    "\n"
   ]
  },
  {
   "cell_type": "code",
   "execution_count": 2,
   "metadata": {},
   "outputs": [
    {
     "name": "stdout",
     "output_type": "stream",
     "text": [
      "('nh=', 30)\n",
      "('dtets=', 5.0)\n",
      "37\n",
      "('ddolgt=', 5.0)\n",
      "37\n",
      "42624\n",
      "(42624, -2.5026072e+11, 7.3999971e+13)\n"
     ]
    }
   ],
   "source": [
    "#- reading inform record ------------------------------------------------------------------------------\n",
    "ldor0 = 1024\n",
    "filename='f4.nu'\n",
    "fid = open(filename, 'rb')\n",
    "\n",
    "# numpy function \n",
    "pole=np.fromfile(fid,dtype='float32',count=ldor0)\n",
    "\n",
    "# print (pole)\n",
    "\n",
    "# first python massive index =0 (fortran - 1)\n",
    "kpars = int(pole[51-1])\n",
    "nh = int(pole[60-1]); \n",
    "print('nh=',nh)\n",
    "\n",
    "ddolgs = pole[56-1]\n",
    "dtets = pole[57-1]\n",
    "print('dtets=',dtets)\n",
    "\n",
    "ids = int(360.1 / ddolgs)\n",
    "its = int(180.1 / dtets + 1); \n",
    "print (its)\n",
    "\n",
    "\n",
    "ntr = int(pole[58-1])\n",
    "ddolgt = pole[54-1]; print ('ddolgt=',ddolgt)\n",
    "idt = int(360.1 / ddolgt)\n",
    "\n",
    "nl = int(pole[61-1])\n",
    "nl2 = nl + nl + 3; \n",
    "print (nl2)\n",
    "#-------------------------------------------------------------------------------\n",
    "size_zap_p= ntr * idt * nl2\n",
    "#size_zap_p=42*ldor0 # potential\n",
    "print (size_zap_p)\n",
    "\n",
    "#fid.seek(4*ldor0)\n",
    "potef=np.fromfile(fid,dtype='float32',count=size_zap_p)\n",
    "\n",
    "fid.seek(4*43*ldor0)\n",
    "size_zap = kpars * nh * its * ids\n",
    "pgl0 = np.fromfile(fid,dtype='float32',count=size_zap)\n",
    "fid.close()\n",
    "print(len(potef),potef[0],pgl0[0])\n"
   ]
  },
  {
   "cell_type": "code",
   "execution_count": 3,
   "metadata": {},
   "outputs": [
    {
     "data": {
      "text/plain": [
       "<matplotlib.colorbar.Colorbar at 0x693fe50>"
      ]
     },
     "execution_count": 3,
     "metadata": {},
     "output_type": "execute_result"
    },
    {
     "data": {
      "image/png": "[encoded data removed]",
      "text/plain": [
       "<matplotlib.figure.Figure at 0x69233d0>"
      ]
     },
     "metadata": {},
     "output_type": "display_data"
    }
   ],
   "source": [
    "#-------------------------------------------------------------------------------\n",
    "pgl = pgl0.reshape(ids,its,nh,kpars)\n",
    "pgl_ris=np.zeros(its*ids).reshape(ids,its)\n",
    "pgl_ris[:,:] = pgl[:, :, 20,11] # temperature at 80 km\n",
    "    #[X,Y]=meshgrid(its,ids);\n",
    "# plt.contourf(pgl_ris.T)\n",
    "#pgl_ris[71,36] = pgl_ris[70,36]  \n",
    "#pgl_ris[0,0:3] = 1500.0 #it's here\n",
    "# plt.imshow(pgl_ris.T[3:,:])\n",
    "plt.imshow(pgl_ris.T)\n",
    "plt.colorbar()\n",
    "#plt.show()"
   ]
  },
  {
   "cell_type": "code",
   "execution_count": 4,
   "metadata": {},
   "outputs": [
    {
     "name": "stdout",
     "output_type": "stream",
     "text": [
      "(16235.0205078125, 16605.810546875)\n"
     ]
    }
   ],
   "source": [
    "print(pgl_ris[71,36] , pgl_ris[70,36]  )"
   ]
  },
  {
   "cell_type": "code",
   "execution_count": 5,
   "metadata": {},
   "outputs": [
    {
     "data": {
      "text/plain": [
       "42624"
      ]
     },
     "execution_count": 5,
     "metadata": {},
     "output_type": "execute_result"
    }
   ],
   "source": [
    "ntr * idt * nl2"
   ]
  },
  {
   "cell_type": "code",
   "execution_count": 6,
   "metadata": {},
   "outputs": [
    {
     "data": {
      "text/plain": [
       "41.625"
      ]
     },
     "execution_count": 6,
     "metadata": {},
     "output_type": "execute_result"
    }
   ],
   "source": [
    "float(ntr * idt * nl2)/1024."
   ]
  },
  {
   "cell_type": "code",
   "execution_count": null,
   "metadata": {
    "collapsed": true
   },
   "outputs": [],
   "source": []
  }
 ],
 "metadata": {
  "kernelspec": {
   "display_name": "Python 2",
   "language": "python",
   "name": "python2"
  },
  "language_info": {
   "codemirror_mode": {
    "name": "ipython",
    "version": 2
   },
   "file_extension": ".py",
   "mimetype": "text/x-python",
   "name": "python",
   "nbconvert_exporter": "python",
   "pygments_lexer": "ipython2",
   "version": "2.7.13"
  }
 },
 "nbformat": 4,
 "nbformat_minor": 2
}

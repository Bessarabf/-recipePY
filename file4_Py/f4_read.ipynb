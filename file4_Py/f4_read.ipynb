{
 "cells": [
  {
   "cell_type": "code",
   "execution_count": 31,
   "metadata": {
    "collapsed": false
   },
   "outputs": [
    {
     "name": "stdout",
     "output_type": "stream",
     "text": [
      "Populating the interactive namespace from numpy and matplotlib\n"
     ]
    }
   ],
   "source": [
    "import numpy\n",
    "import matplotlib\n",
    "import os\n",
    "%pylab inline"
   ]
  },
  {
   "cell_type": "code",
   "execution_count": 32,
   "metadata": {
    "collapsed": false
   },
   "outputs": [
    {
     "name": "stdout",
     "output_type": "stream",
     "text": [
      "4096.0\n"
     ]
    }
   ],
   "source": [
    "ldor0=1024\n",
    "filename='f4.nu'\n",
    "fid = open(filename, 'rb')\n",
    "\n",
    "# numpy function \n",
    "pole=np.fromfile(fid,dtype='float32',count=ldor0)\n",
    "print(pole[0])\n",
    "#fid.seek(4*ldor0,os.SEEK_SET)\n",
    "#pole=np.fromfile(fid,dtype='float32',count=ldor0)\n",
    "#print(pole[0])\n"
   ]
  },
  {
   "cell_type": "code",
   "execution_count": 33,
   "metadata": {
    "collapsed": false
   },
   "outputs": [
    {
     "name": "stdout",
     "output_type": "stream",
     "text": [
      "('nh=', 30)\n",
      "('dtets=', 5.0)\n",
      "37\n",
      "('ddolgt=', 5.0, 16)\n",
      "37\n",
      "42624\n",
      "41\n"
     ]
    }
   ],
   "source": [
    "kpars = int(pole[50])\n",
    "nh = int(pole[59]); \n",
    "print('nh=',nh)\n",
    "\n",
    "ddolgs = pole[55]\n",
    "dtets = pole[56]\n",
    "print('dtets=',dtets)\n",
    "\n",
    "ids = int(360.1 / ddolgs)\n",
    "its = int(180.1 / dtets + 1); print its\n",
    "\n",
    "\n",
    "ntr = int(pole[57])\n",
    "ddolgt = pole[53]; print ('ddolgt=',ddolgt,ntr)\n",
    "idt = int(360.1 / ddolgt)\n",
    "\n",
    "nl = int(pole[60])\n",
    "nl2 = nl + nl + 3; print nl2\n",
    "#-------------------------------------------------------------------------------\n",
    "size_zap = (ntr * idt * nl2)\n",
    "#size_zap=43*ldor0 # potential\n",
    "print size_zap\n",
    "#potef = fread(fid, mcat([size_zap + 1]), mstring('float'))\n",
    "print(int((ntr * idt * nl2)/ldor0))\n"
   ]
  },
  {
   "cell_type": "code",
   "execution_count": 34,
   "metadata": {
    "collapsed": false
   },
   "outputs": [
    {
     "name": "stdout",
     "output_type": "stream",
     "text": [
      "(-3.7687837e+11, -2.7769399e+11, 4.4485543e+13)\n"
     ]
    }
   ],
   "source": [
    "#fid.seek(4*ldor0,os.SEEK_SET)\n",
    "potef=fromfile(fid,dtype='float32',count=size_zap)\n",
    "\n",
    "fid.seek(4*(43*ldor0),os.SEEK_SET)\n",
    "size_zap = kpars * nh * its * ids\n",
    "pgl0 = fromfile(fid,dtype='float32',count=size_zap)\n",
    "fid.close()\n",
    "print(potef[0],potef[ntr * idt * nl2-1],pgl0[0])\n",
    "\n",
    "#-------------------------------------------------------------------------------\n"
   ]
  },
  {
   "cell_type": "code",
   "execution_count": 35,
   "metadata": {
    "collapsed": false
   },
   "outputs": [
    {
     "data": {
      "text/plain": [
       "<matplotlib.colorbar.Colorbar at 0xa19a518>"
      ]
     },
     "execution_count": 35,
     "metadata": {},
     "output_type": "execute_result"
    },
    {
     "data": {
      "image/png": "[encoded data removed]",
      "text/plain": [
       "<matplotlib.figure.Figure at 0x9ed9048>"
      ]
     },
     "metadata": {},
     "output_type": "display_data"
    }
   ],
   "source": [
    "pgl = pgl0.reshape(ids,its,nh,kpars)\n",
    "pgl_ris=zeros(its*ids).reshape(ids,its)\n",
    "pgl_ris[:,:] = pgl[:, :, 0,6] # temperature at 80 km\n",
    "    #[X,Y]=meshgrid(its,ids);\n",
    "contourf(pgl_ris.T)\n",
    "colorbar()"
   ]
  }
 ],
 "metadata": {
  "kernelspec": {
   "display_name": "Python 2",
   "language": "python",
   "name": "python2"
  },
  "language_info": {
   "codemirror_mode": {
    "name": "ipython",
    "version": 2
   },
   "file_extension": ".py",
   "mimetype": "text/x-python",
   "name": "python",
   "nbconvert_exporter": "python",
   "pygments_lexer": "ipython2",
   "version": "2.7.13"
  }
 },
 "nbformat": 4,
 "nbformat_minor": 2
}

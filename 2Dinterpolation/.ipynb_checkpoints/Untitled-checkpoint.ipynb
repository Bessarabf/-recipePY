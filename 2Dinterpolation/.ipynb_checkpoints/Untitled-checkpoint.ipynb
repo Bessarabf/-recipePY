{
 "cells": [
  {
   "cell_type": "markdown",
   "metadata": {},
   "source": [
    "### 2D interpolation function"
   ]
  },
  {
   "cell_type": "code",
   "execution_count": 1,
   "metadata": {
    "collapsed": true
   },
   "outputs": [],
   "source": [
    "import numpy as np"
   ]
  },
  {
   "cell_type": "code",
   "execution_count": 2,
   "metadata": {
    "collapsed": true
   },
   "outputs": [],
   "source": [
    "def interp_2d(farray,x,y,xp,yp):\n",
    "    # farray - 4 value in point [x0,y0] ... [x1,y1]\n",
    "    # x,y - coordinates 4 points\n",
    "    # xp,yp - coordinates point \n",
    "    # rezult - function value in xp,yp point\n",
    "    a=(farray[1,0]-farray[0,0])/(x[1]-x[0])\n",
    "    f1=farray[0,0]+a*xp\n",
    "    a=(farray[1,1]-farray[0,1])/(x[1]-x[0])\n",
    "    f2=farray[0,1]+a*xp\n",
    "    finter=f1+(f2-f1)/(y[1]-y[0])*yp\n",
    "    return finter\n",
    "    "
   ]
  },
  {
   "cell_type": "code",
   "execution_count": 7,
   "metadata": {
    "collapsed": true
   },
   "outputs": [],
   "source": [
    "# test\n",
    "func=np.zeros(4).reshape(2,2)\n",
    "x=np.zeros(2)\n",
    "y=np.zeros(2)\n",
    "xp=0.7\n",
    "yp=1.5\n",
    "for i in range(2):\n",
    "    x[i] = float(i)\n",
    "    y[i] = float(i)+1.\n",
    "    func[i,i]=4."
   ]
  },
  {
   "cell_type": "code",
   "execution_count": 9,
   "metadata": {},
   "outputs": [
    {
     "name": "stdout",
     "output_type": "stream",
     "text": [
      "3.6\n"
     ]
    }
   ],
   "source": [
    "# rezult\n",
    "print(interp_2d(func,x,y,xp,yp))"
   ]
  },
  {
   "cell_type": "code",
   "execution_count": null,
   "metadata": {
    "collapsed": true
   },
   "outputs": [],
   "source": []
  }
 ],
 "metadata": {
  "kernelspec": {
   "display_name": "Python 2",
   "language": "python",
   "name": "python2"
  },
  "language_info": {
   "codemirror_mode": {
    "name": "ipython",
    "version": 2
   },
   "file_extension": ".py",
   "mimetype": "text/x-python",
   "name": "python",
   "nbconvert_exporter": "python",
   "pygments_lexer": "ipython2",
   "version": "2.7.13"
  }
 },
 "nbformat": 4,
 "nbformat_minor": 2
}

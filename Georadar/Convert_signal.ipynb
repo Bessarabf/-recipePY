{
 "cells": [
  {
   "cell_type": "code",
   "execution_count": 1,
   "metadata": {
    "collapsed": false
   },
   "outputs": [
    {
     "name": "stdout",
     "output_type": "stream",
     "text": [
      "Populating the interactive namespace from numpy and matplotlib\n"
     ]
    }
   ],
   "source": [
    "import numpy\n",
    "import matplotlib\n",
    "from scipy.optimize import curve_fit\n",
    "%pylab inline"
   ]
  },
  {
   "cell_type": "code",
   "execution_count": 2,
   "metadata": {
    "collapsed": false
   },
   "outputs": [],
   "source": [
    "def func(x, a, b):\n",
    "    return a*exp(b*x)"
   ]
  },
  {
   "cell_type": "code",
   "execution_count": 3,
   "metadata": {
    "collapsed": true
   },
   "outputs": [],
   "source": [
    "# data=zeros(256)\n",
    "data=loadtxt('capa_1.txt',skiprows=1,dtype=int)\n",
    "#savetxt('tmp',data)\n",
    "#data"
   ]
  },
  {
   "cell_type": "code",
   "execution_count": 4,
   "metadata": {
    "collapsed": false
   },
   "outputs": [
    {
     "data": {
      "text/plain": [
       "array([[     0,      4,   9678,  18303,  25990,  32841,  38947,  44389],\n",
       "       [ 49240,  53562,  57415,  60849,  63909,  66637,  69068,  71234],\n",
       "       [ 73165,  74886,  76420,  77787,  79005,  80091,  81059,  81921],\n",
       "       [ 82690,  83375,  83986,  84530,  85015,  85447,  85833,  86176],\n",
       "       [ 86482,  86755,  86998,  87214,  87408,  87580,  87773,  87870],\n",
       "       [ 87992,  88100,  88197,  88283,  88360,  88429,  88490,  88544],\n",
       "       [ 88592,  88636,  88674,  88709,  88739,  88766,  88791,  88812],\n",
       "       [ 88832,  88849,  88864,  88878,  88890,  88901,  88911,  88919],\n",
       "       [ 88924,  88927,  88928,  88929,  88930,  88931,  88932,  88933],\n",
       "       [ 88934,  88935,  88936,  88937,  88938,  88939,  88940,  88941],\n",
       "       [ 88942,  88943,  88944,  88945,  88946,  88947,  88948,  88949],\n",
       "       [ 88950,  88951,  88952,  88953,  88954,  88955,  88956,  88957],\n",
       "       [ 88958,  88959,  88960,  88961,  88962,  88963,  88964,  88965],\n",
       "       [ 88966,  88967,  88968,  88969,  88970,  88971,  88972,  88973],\n",
       "       [ 88974,  88975,  88976,  88977,  88978,  88979,  88980,  88981],\n",
       "       [ 88982,  88983,  88984,  88985,  88986,  88987,  88988,  88989],\n",
       "       [ 88990,  88991,  88992,  88993,  88994,  88995,  88996,  88997],\n",
       "       [ 88998,  88999,  89000,  89001,  89002,  89003,  89004,  89005],\n",
       "       [ 89006,  89007,  89008,  89009,  89010,  89011,  89012,  89013],\n",
       "       [ 89014,  89015,  89016,  89017,  89018,  89019,  89020,  89021],\n",
       "       [ 89022,  89023,  89024,  89025,  89026,  89027,  89028,  89029],\n",
       "       [ 89030,  89031,  89032,  89033,  89034,  89035,  89036,  89037],\n",
       "       [ 89038,  89039,  89040,  89041,  89042,  89043,  89044,  89045],\n",
       "       [ 89046,  89047,  89048,  89049,  89050,  89051,  89052,  89053],\n",
       "       [ 89056,  89061,  89069,  89079,  89090,  89102,  89116,  89131],\n",
       "       [ 89148,  89168,  89189,  89214,  89241,  89271,  89306,  89344],\n",
       "       [ 89388,  89436,  89490,  89551,  89620,  89697,  89783,  89880],\n",
       "       [ 89988,  90110,  90247,  90400,  90572,  90766,  90982,  91225],\n",
       "       [ 91498,  91804,  92147,  92533,  92965,  93450,  93994,  94605],\n",
       "       [ 95290,  96059,  96921,  97889,  98975, 100193, 101560, 103094],\n",
       "       [104815, 106746, 108912, 111343, 114071, 117131, 120565, 124418],\n",
       "       [128740, 133591, 139033, 145139, 151990, 159677, 168302, 177980]])"
      ]
     },
     "execution_count": 4,
     "metadata": {},
     "output_type": "execute_result"
    }
   ],
   "source": [
    "data"
   ]
  },
  {
   "cell_type": "code",
   "execution_count": 5,
   "metadata": {
    "collapsed": false
   },
   "outputs": [],
   "source": [
    "data1=zeros(256)\n",
    "fit_ar=zeros(128)\n",
    "data1=data.reshape(256)\n",
    "med=data1[128]\n",
    "data1=data1-med\n",
    "fit_ar=data1[128:128+32]\n",
    "#print fit_ar[127],med"
   ]
  },
  {
   "cell_type": "code",
   "execution_count": 6,
   "metadata": {
    "collapsed": false
   },
   "outputs": [],
   "source": [
    "popt=[1,1]\n",
    "#x = linspace(0,127,128)\n",
    "x=linspace(0,31,32)\n",
    "#print len(x),len(fit_ar)\n",
    "popt,pcov= curve_fit(func, x, fit_ar)\n",
    "#print popt,pcov"
   ]
  },
  {
   "cell_type": "code",
   "execution_count": 7,
   "metadata": {
    "collapsed": false
   },
   "outputs": [
    {
     "data": {
      "text/plain": [
       "<matplotlib.legend.Legend at 0x220e1d0>"
      ]
     },
     "execution_count": 7,
     "metadata": {},
     "output_type": "execute_result"
    },
    {
     "data": {
      "image/png": "[encoded data removed]",
      "text/plain": [
       "<matplotlib.figure.Figure at 0x8ed2a20>"
      ]
     },
     "metadata": {},
     "output_type": "display_data"
    }
   ],
   "source": [
    "plot(x, fit_ar, 'ko', label=\"Original Data\")\n",
    "plot(x, func(x, *popt), 'r-', label=\"Fitted Curve\")\n",
    "legend()"
   ]
  },
  {
   "cell_type": "code",
   "execution_count": 8,
   "metadata": {
    "collapsed": false,
    "scrolled": true
   },
   "outputs": [],
   "source": [
    "data=loadtxt('capa_2.txt',skiprows=1,dtype=int)\n"
   ]
  },
  {
   "cell_type": "code",
   "execution_count": 9,
   "metadata": {
    "collapsed": false
   },
   "outputs": [
    {
     "name": "stdout",
     "output_type": "stream",
     "text": [
      "(2508, 5016)\n"
     ]
    }
   ],
   "source": [
    "data2=zeros(256)\n",
    "data2=data.reshape(256)\n",
    "print (data2[128],data2[255])"
   ]
  },
  {
   "cell_type": "code",
   "execution_count": 10,
   "metadata": {
    "collapsed": false
   },
   "outputs": [
    {
     "data": {
      "text/plain": [
       "[<matplotlib.lines.Line2D at 0x92df588>]"
      ]
     },
     "execution_count": 10,
     "metadata": {},
     "output_type": "execute_result"
    },
    {
     "data": {
      "image/png": "[encoded data removed]",
      "text/plain": [
       "<matplotlib.figure.Figure at 0x8ed29e8>"
      ]
     },
     "metadata": {},
     "output_type": "display_data"
    }
   ],
   "source": [
    "plot(data2[1:])"
   ]
  },
  {
   "cell_type": "code",
   "execution_count": 11,
   "metadata": {
    "collapsed": true
   },
   "outputs": [],
   "source": [
    "data=loadtxt('capa_3.txt',skiprows=1,dtype=int)"
   ]
  },
  {
   "cell_type": "code",
   "execution_count": 12,
   "metadata": {
    "collapsed": false
   },
   "outputs": [],
   "source": [
    "data3=zeros(256)\n",
    "data3=data.reshape(256)"
   ]
  },
  {
   "cell_type": "code",
   "execution_count": 13,
   "metadata": {
    "collapsed": false
   },
   "outputs": [
    {
     "data": {
      "text/plain": [
       "[<matplotlib.lines.Line2D at 0x9a89828>]"
      ]
     },
     "execution_count": 13,
     "metadata": {},
     "output_type": "execute_result"
    },
    {
     "data": {
      "image/png": "[encoded data removed]",
      "text/plain": [
       "<matplotlib.figure.Figure at 0x999a390>"
      ]
     },
     "metadata": {},
     "output_type": "display_data"
    }
   ],
   "source": [
    "#plot(data3)\n",
    "semilogy(data3[1:])"
   ]
  },
  {
   "cell_type": "code",
   "execution_count": 14,
   "metadata": {
    "collapsed": false
   },
   "outputs": [],
   "source": [
    "capa_255=[0,3016,6032,9148,12264,14588,16912,18596,\n",
    "        20280,21608,22936,23988,25040,25864,26688,27340,\n",
    "        27992,28500,29008,29412,29816,30124,30432,30676,\n",
    "        30920,31104,31288,31428,31568,31669,31780,31857,\n",
    "        31944,32006,32068,32114,32160,32196,32232,32263,\n",
    "        32294,32321,32348,32372,32395,32416,32436,32454,\n",
    "        32472,32488,32504,32518,32532,32545,32557,32568,\n",
    "        32579,32589,32598,32608,32617,32625,32633,32639,\n",
    "        32645,32650,32655,32660,32664,32668,32672,32676,\n",
    "        32680,32683,32686,32689,32692,32695,32698,32701,\n",
    "        32704,32706,32708,32710,32712,32714,32716,32718,\n",
    "        32720,32722,32724,32726,32728,32730,32732,32734,\n",
    "        32736,32737,32738,32739,32740,32741,32742,32743,\n",
    "        32744,32745,32746,32747,32748,32749,32750,32751,\n",
    "        32752,32753,32754,32755,32756,32757,32758,32759,\n",
    "        32760,32761,32762,32763,32764,32765,32766,32767,\n",
    "        32768,\n",
    "        32769,32770,32771,32772,32773,32774,32775,32776,\n",
    "        32777,32778,32779,32780,32781,32782,32783,32784,\n",
    "        32785,32786,32787,32788,32789,32790,32791,32792,\n",
    "        32793,32794,32795,32796,32797,32798,32799,32800,\n",
    "        32802,32804,32806,32808,32810,32812,32814,32816,\n",
    "        32818,32820,32822,32824,32826,32828,32830,32832,\n",
    "        32835,32838,32841,32844,32847,32850,32853,32856,\n",
    "        32860,32864,32868,32872,32877,32882,32887,32893,\n",
    "        32899,32906,32914,32921,32930,32938,32948,32957,\n",
    "        32968,32979,32992,33004,33018,33032,33048,33064,\n",
    "        33082,33100,33121,33141,33165,33188,33215,33242,\n",
    "        33273,33304,33340,33376,33422,33468,33530,33592,\n",
    "        33674,33756,33862,33968,34108,34248,34432,34616,\n",
    "        34860,35104,35412,35720,36124,36528,37036,37544,\n",
    "        38196,38848,39672,40496,41548,42600,43928,45256,\n",
    "        46940,48624,50948,53272,56388,59504,62520,65535]\n",
    "capa=asarray(capa_255)\n"
   ]
  },
  {
   "cell_type": "code",
   "execution_count": 15,
   "metadata": {
    "collapsed": true
   },
   "outputs": [],
   "source": [
    "med=capa[128]\n",
    "#capa=zeros(257)\n",
    "capa=capa-med"
   ]
  },
  {
   "cell_type": "code",
   "execution_count": 16,
   "metadata": {
    "collapsed": false
   },
   "outputs": [
    {
     "data": {
      "text/plain": [
       "[<matplotlib.lines.Line2D at 0x9c09080>]"
      ]
     },
     "execution_count": 16,
     "metadata": {},
     "output_type": "execute_result"
    },
    {
     "data": {
      "image/png": "[encoded data removed]",
      "text/plain": [
       "<matplotlib.figure.Figure at 0x99a4748>"
      ]
     },
     "metadata": {},
     "output_type": "display_data"
    }
   ],
   "source": [
    "plot(capa)"
   ]
  },
  {
   "cell_type": "code",
   "execution_count": null,
   "metadata": {
    "collapsed": true
   },
   "outputs": [],
   "source": []
  }
 ],
 "metadata": {
  "anaconda-cloud": {},
  "kernelspec": {
   "display_name": "Python 2",
   "language": "python",
   "name": "python2"
  },
  "language_info": {
   "codemirror_mode": {
    "name": "ipython",
    "version": 2
   },
   "file_extension": ".py",
   "mimetype": "text/x-python",
   "name": "python",
   "nbconvert_exporter": "python",
   "pygments_lexer": "ipython2",
   "version": "2.7.13"
  }
 },
 "nbformat": 4,
 "nbformat_minor": 0
}

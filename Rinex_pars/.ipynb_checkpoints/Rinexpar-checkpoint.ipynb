{
 "cells": [
  {
   "cell_type": "code",
   "execution_count": 189,
   "metadata": {},
   "outputs": [],
   "source": [
    "import sys\n",
    "import datetime\n",
    "import os"
   ]
  },
  {
   "cell_type": "code",
   "execution_count": 190,
   "metadata": {},
   "outputs": [
    {
     "data": {
      "text/plain": [
       "''"
      ]
     },
     "execution_count": 190,
     "metadata": {},
     "output_type": "execute_result"
    }
   ],
   "source": [
    "\n",
    "\n",
    "# Set up the dictionary structure for possible measurements.\n",
    "#   C => C/A code measurement  \n",
    "#   P => P code measurement\n",
    "#   L => Carrier phase\n",
    "#   D => Doppler\n",
    "#   S => Carrier noise density (dB-Hz)\n",
    "#\n",
    "#   Numbers indicate the signal band (1 => L1, 2 => L2, 3 => L5)\n",
    "#   P2 is the P code measurment on the L2 band in compliance with the RINEX\n",
    "#   2.11 speccification.\n",
    "''"
   ]
  },
  {
   "cell_type": "code",
   "execution_count": 191,
   "metadata": {},
   "outputs": [],
   "source": [
    "rinFileName = \"klg12990.19o\"\n",
    "csvFileName = \"klg12990.csv\"\n",
    "\n",
    "#rinFileName = \"KLGD2130.08O\"\n",
    "#csvFileName = \"KLGD2130.csv\"\n",
    "writeMode = \"w\"\n",
    "\n",
    "#csvFields = [\"time\", \"prn\", \"C1\", \"P1\", \"L1\", \"D1\", \"S1\", \"C2\", \"P2\", \"L2\", \n",
    " # \"D2\", \"S2\", \"C5\", \"L5\", \"D5\", \"S5\"]\n",
    "rinFields = []\n",
    "\n",
    "numFields = 0\n",
    "#print(csvFields)"
   ]
  },
  {
   "cell_type": "code",
   "execution_count": 192,
   "metadata": {},
   "outputs": [
    {
     "name": "stdout",
     "output_type": "stream",
     "text": [
      "                                                            END OF HEADER       \n",
      "\n",
      "['C1', 'L1', 'D1', 'S1', 'P2', 'L2', 'D2', 'S2']\n",
      "time,N_sat,C1,L1,D1,S1,P2,L2,D2,S2\n",
      "34 2\n"
     ]
    }
   ],
   "source": [
    "# Open the rinex file and extract header data\n",
    "rinFile = open(rinFileName, \"r\")\n",
    "csvFile = open(csvFileName, writeMode)\n",
    "currentLine = rinFile.readline()\n",
    "while currentLine[60:].rstrip() != \"END OF HEADER\":\n",
    "    if currentLine[60:].rstrip() == \"# / TYPES OF OBSERV\": # Extract header data\n",
    "        numFields = int(currentLine[1:6])\n",
    "        \n",
    "       # print(numFields)\n",
    "        firstLine='time,'+'N_sat,'\n",
    "        for j in range(int(numFields/9)):\n",
    "            #print(\"j=\",j)\n",
    "            for i in range(9):\n",
    "                rinFields.append(currentLine[(7+i*6):(12+i*6)].lstrip())\n",
    "                firstLine=firstLine+currentLine[(7+i*6):(12+i*6)].lstrip()+','\n",
    "            currentLine = rinFile.readline()\n",
    "       # print(numFields%9)            \n",
    "        for i in range(numFields%9):\n",
    "            rinFields.append(currentLine[(7+i*6):(12+i*6)].lstrip())\n",
    "            firstLine=firstLine+currentLine[(7+i*6):(12+i*6)].lstrip()+','\n",
    "            #print(i,currentLine)\n",
    "    currentLine = rinFile.readline()\n",
    "print(currentLine)\n",
    "print(rinFields)\n",
    "# Удаляем последнюю запятую\n",
    "firstLine=firstLine[:len(firstLine)-1]+\"\"\n",
    "\n",
    "csvFile.write(firstLine+\"\\n\")\n",
    "print(firstLine)\n",
    "print(len(firstLine),firstLine[len(firstLine)-1])\n",
    "csvFile.close()"
   ]
  },
  {
   "cell_type": "code",
   "execution_count": 193,
   "metadata": {},
   "outputs": [
    {
     "name": "stdout",
     "output_type": "stream",
     "text": [
      "{'time': '0', 'prn': '0', 'C1': 0, 'L1': 0, 'D1': 0, 'S1': 0, 'P2': 0, 'L2': 0, 'D2': 0, 'S2': 0}\n",
      "['time', 'prn', 'C1', 'L1', 'D1', 'S1', 'P2', 'L2', 'D2', 'S2']\n"
     ]
    }
   ],
   "source": [
    "# СОЗДАЕМ СЛОВАРЬ ИЗ СПИСКА ПОЛЕЙ + ВРЕМЯ И N СПУТНИКА\n",
    "gpsRecord = dict(\n",
    "  time = '0',\n",
    "  prn = '0'\n",
    ")\n",
    "# create new dict from rinFields \n",
    "d = dict.fromkeys(rinFields, 0)\n",
    "# renew gpsrecord with new dict d \n",
    "gpsRecord.update(d)\n",
    "print(gpsRecord)\n",
    "# convert dict to list for writing list to csv file\n",
    "csvFields=list(gpsRecord)\n",
    "#csvFields=(gpsRecord.keys())\n",
    "#for i in \n",
    "#    csvFields.append(gpsRecord)\n",
    "print(csvFields)"
   ]
  },
  {
   "cell_type": "code",
   "execution_count": 194,
   "metadata": {},
   "outputs": [
    {
     "name": "stdout",
     "output_type": "stream",
     "text": [
      "numSats= 16\n",
      "0 G02\n",
      "1 G06\n",
      "2 G12\n",
      "3 G14\n",
      "4 G24\n",
      "5 G25\n",
      "6 G29\n",
      "7 G31\n",
      "8 G32\n",
      "9 R02\n",
      "10 R03\n",
      "11 R09\n",
      "0 R10\n",
      "1 R11\n",
      "2 R20\n",
      "3 R21\n",
      "8\n",
      "8\n",
      "8\n",
      "8\n",
      "8\n",
      "8\n",
      "8\n",
      "5 0 1\n"
     ]
    },
    {
     "ename": "TypeError",
     "evalue": "list indices must be integers or slices, not float",
     "output_type": "error",
     "traceback": [
      "\u001b[1;31m---------------------------------------------------------------------------\u001b[0m",
      "\u001b[1;31mTypeError\u001b[0m                                 Traceback (most recent call last)",
      "\u001b[1;32m<ipython-input-194-a9597e4c6e50>\u001b[0m in \u001b[0;36m<module>\u001b[1;34m\u001b[0m\n\u001b[0;32m     58\u001b[0m                     \u001b[0mpos\u001b[0m\u001b[1;33m=\u001b[0m\u001b[0mint\u001b[0m\u001b[1;33m(\u001b[0m\u001b[0mnumFields\u001b[0m\u001b[1;33m/\u001b[0m\u001b[1;36m5\u001b[0m\u001b[1;33m)\u001b[0m\u001b[1;33m*\u001b[0m\u001b[1;36m5\u001b[0m\u001b[1;33m+\u001b[0m\u001b[0mi\u001b[0m\u001b[1;33m\u001b[0m\u001b[1;33m\u001b[0m\u001b[0m\n\u001b[0;32m     59\u001b[0m                     \u001b[0mprint\u001b[0m\u001b[1;33m(\u001b[0m\u001b[0mpos\u001b[0m\u001b[1;33m,\u001b[0m\u001b[0mi\u001b[0m\u001b[1;33m,\u001b[0m\u001b[0mnumFields\u001b[0m\u001b[1;33m//\u001b[0m\u001b[1;36m5\u001b[0m\u001b[1;33m)\u001b[0m\u001b[1;33m\u001b[0m\u001b[1;33m\u001b[0m\u001b[0m\n\u001b[1;32m---> 60\u001b[1;33m                     \u001b[0mgpsRecord\u001b[0m\u001b[1;33m[\u001b[0m\u001b[0mrinFields\u001b[0m\u001b[1;33m[\u001b[0m\u001b[0mnumFields\u001b[0m\u001b[1;33m/\u001b[0m\u001b[1;36m5\u001b[0m\u001b[1;33m*\u001b[0m\u001b[1;36m5\u001b[0m\u001b[1;33m+\u001b[0m\u001b[0mi\u001b[0m\u001b[1;33m]\u001b[0m\u001b[1;33m]\u001b[0m \u001b[1;33m=\u001b[0m \u001b[1;34m\"0\"\u001b[0m\u001b[1;33m\u001b[0m\u001b[1;33m\u001b[0m\u001b[0m\n\u001b[0m\u001b[0;32m     61\u001b[0m                 \u001b[1;32melse\u001b[0m\u001b[1;33m:\u001b[0m\u001b[1;33m\u001b[0m\u001b[1;33m\u001b[0m\u001b[0m\n\u001b[0;32m     62\u001b[0m                     \u001b[0mgpsRecord\u001b[0m\u001b[1;33m[\u001b[0m\u001b[0mrinFields\u001b[0m\u001b[1;33m[\u001b[0m\u001b[0mnumFields\u001b[0m\u001b[1;33m//\u001b[0m\u001b[1;36m5\u001b[0m\u001b[1;33m*\u001b[0m\u001b[1;36m5\u001b[0m\u001b[1;33m+\u001b[0m\u001b[0mi\u001b[0m\u001b[1;33m]\u001b[0m\u001b[1;33m]\u001b[0m \u001b[1;33m=\u001b[0m \u001b[0mrecord\u001b[0m\u001b[1;33m\u001b[0m\u001b[1;33m\u001b[0m\u001b[0m\n",
      "\u001b[1;31mTypeError\u001b[0m: list indices must be integers or slices, not float"
     ]
    }
   ],
   "source": [
    "# Open CSV file and add data\n",
    "writeMode=\"a\"\n",
    "csvFile = open(csvFileName, writeMode)\n",
    "# write first string\n",
    "# Scroll through looking for valid epochs\n",
    "currentLine = rinFile.readline()\n",
    "while currentLine != \"\":\n",
    "      \n",
    "    if (currentLine[27:30]) == \" 0 \":\n",
    "        year = int(currentLine[1:3])\n",
    "        if year < 80: \n",
    "            year = 2000 + year\n",
    "        else: \n",
    "            1900 + year\n",
    "        month = int(currentLine[4:6])\n",
    "        day = int(currentLine[7:9])\n",
    "        hour = int(currentLine[10:12])\n",
    "        mm = int(currentLine[13:15])\n",
    "        sec = float(currentLine[16:26])\n",
    "        # время \n",
    "        # gpsRecord[\"time\"] = str(datetime.date(year, month, day).isoweekday() \\\n",
    "        #  % 7 * 24 * 3600 + hour * 3600 + mm * 60 + sec)\n",
    "        timef=datetime.date(year, month, day).isoweekday() \\\n",
    "          // 7  + hour + mm/60. + sec/3600.\n",
    "        gpsRecord[\"time\"] = str('{:.3f}'.format(timef))   \n",
    "        # Parse the PRN values for this epoch\n",
    "        numSats = int(currentLine[30:32]) # число спутников\n",
    "        print('numSats=',numSats)\n",
    "        epochPRN = []\n",
    "        for j in range(int(numSats / 12)):\n",
    "   \n",
    "            for i in range(12):\n",
    "                epochPRN.append(currentLine[32+i*3:35+i*3])\n",
    "                print(i,currentLine[32+i*3:35+i*3])\n",
    "        # если спутников > 12\n",
    "        if (numSats>12):\n",
    "            currentLine = rinFile.readline()\n",
    "        for i in range(numSats % 12):\n",
    "            \n",
    "            epochPRN.append(currentLine[32+i*3:35+i*3])\n",
    "            print(i,currentLine[32+i*3:35+i*3])\n",
    "        for prn in epochPRN:\n",
    "            gpsRecord[\"prn\"] = prn\n",
    "            for j in range(int(numFields / 5)):\n",
    "                currentLine = rinFile.readline()\n",
    "                for i in range(5):\n",
    "                    record = currentLine[i*16+1:i*16+14].lstrip()\n",
    "                    if record == \"\":\n",
    "                        gpsRecord[rinFields[j*5+i]] = \"0\"\n",
    "                    else:\n",
    "                        gpsRecord[rinFields[j*5+i]] = record\n",
    "            #currentLine = rinFile.readline()\n",
    "            print(numFields)\n",
    "            for i in range(numFields % 5):\n",
    "                currentLine = rinFile.readline()\n",
    "                record = currentLine[i*16+1:i*16+14].lstrip()\n",
    "                if record == \"\":\n",
    "                    pos=int(numFields/5)*5+i\n",
    "                    print(pos,i,numFields//5)\n",
    "                    gpsRecord[rinFields[numFields/5*5+i]] = \"0\"\n",
    "                else:\n",
    "                    gpsRecord[rinFields[numFields//5*5+i]] = record\n",
    "            \n",
    "            \n",
    "            csvLine = \"\"\n",
    "            for field in csvFields:\n",
    "                csvLine += gpsRecord[field] + \",\"\n",
    "            csvFile.write(csvLine[:-1]+\"\\r\\n\")\n",
    "\n",
    "    currentLine = rinFile.readline()\n",
    "\n"
   ]
  },
  {
   "cell_type": "code",
   "execution_count": null,
   "metadata": {},
   "outputs": [],
   "source": [
    "# Close files and clean up\n",
    "rinFile.close()\n",
    "csvFile.close()"
   ]
  },
  {
   "cell_type": "code",
   "execution_count": null,
   "metadata": {},
   "outputs": [],
   "source": [
    "datetime.date(year, month, day).isoweekday() \\\n",
    "          // 7  + hour + mm/60. + sec/3600."
   ]
  }
 ],
 "metadata": {
  "kernelspec": {
   "display_name": "Python 3",
   "language": "python",
   "name": "python3"
  },
  "language_info": {
   "codemirror_mode": {
    "name": "ipython",
    "version": 3
   },
   "file_extension": ".py",
   "mimetype": "text/x-python",
   "name": "python",
   "nbconvert_exporter": "python",
   "pygments_lexer": "ipython3",
   "version": "3.7.4"
  }
 },
 "nbformat": 4,
 "nbformat_minor": 2
}

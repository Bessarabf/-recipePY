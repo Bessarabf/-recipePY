{
 "cells": [
  {
   "cell_type": "code",
   "execution_count": 1,
   "metadata": {
    "collapsed": true
   },
   "outputs": [],
   "source": [
    "import sys\n",
    "import datetime\n",
    "import os"
   ]
  },
  {
   "cell_type": "code",
   "execution_count": 2,
   "metadata": {
    "collapsed": false
   },
   "outputs": [
    {
     "data": {
      "text/plain": [
       "''"
      ]
     },
     "execution_count": 2,
     "metadata": {},
     "output_type": "execute_result"
    }
   ],
   "source": [
    "\n",
    "\n",
    "# Set up the dictionary structure for possible measurements.\n",
    "#   C => C/A code measurement  \n",
    "#   P => P code measurement\n",
    "#   L => Carrier phase\n",
    "#   D => Doppler\n",
    "#   S => Carrier noise density (dB-Hz)\n",
    "#\n",
    "#   Numbers indicate the signal band (1 => L1, 2 => L2, 3 => L5)\n",
    "#   P2 is the P code measurment on the L2 band in compliance with the RINEX\n",
    "#   2.11 speccification.\n",
    "''"
   ]
  },
  {
   "cell_type": "code",
   "execution_count": 3,
   "metadata": {
    "collapsed": true
   },
   "outputs": [],
   "source": [
    "rinFileName = \"lama0100.18o\"\n",
    "csvFileName = \"lama0100.csv\"\n",
    "\n",
    "#rinFileName = \"KLGD2130.08O\"\n",
    "#csvFileName = \"KLGD2130.csv\"\n",
    "writeMode = \"w\"\n",
    "\n",
    "#csvFields = [\"time\", \"prn\", \"C1\", \"P1\", \"L1\", \"D1\", \"S1\", \"C2\", \"P2\", \"L2\", \n",
    " # \"D2\", \"S2\", \"C5\", \"L5\", \"D5\", \"S5\"]\n",
    "rinFields = []\n",
    "\n",
    "numFields = 0\n",
    "#print(csvFields)"
   ]
  },
  {
   "cell_type": "code",
   "execution_count": 4,
   "metadata": {
    "collapsed": false
   },
   "outputs": [
    {
     "name": "stdout",
     "output_type": "stream",
     "text": [
      "                                                            END OF HEADER\n",
      "\n",
      "['L1', 'L2', 'P1', 'P2', 'C1']\n",
      "time,N_sat,L1,L2,P1,P2,C1\n",
      "(25, '1')\n"
     ]
    }
   ],
   "source": [
    "# numFields - number of columns of data\n",
    "# Open the rinex file and extract header data\n",
    "rinFile = open(rinFileName, \"r\")\n",
    "csvFile = open(csvFileName, writeMode)\n",
    "currentLine = rinFile.readline()\n",
    "\n",
    "# cycle before end of header\n",
    "while currentLine[60:].rstrip() != \"END OF HEADER\":\n",
    "    if currentLine[60:].rstrip() == \"# / TYPES OF OBSERV\": # Extract header data\n",
    "        numFields = int(currentLine[1:6])\n",
    "        \n",
    "       # print(numFields)\n",
    "        firstLine='time,'+'N_sat,'\n",
    "        for j in range(int(numFields/9)):\n",
    "            #print(\"j=\",j)\n",
    "            for i in range(9):\n",
    "                rinFields.append(currentLine[(7+i*6):(12+i*6)].lstrip())\n",
    "                firstLine=firstLine+currentLine[(7+i*6):(12+i*6)].lstrip()+','\n",
    "            currentLine = rinFile.readline()\n",
    "       # print(numFields%9)            \n",
    "        for i in range(numFields%9):\n",
    "            rinFields.append(currentLine[(7+i*6):(12+i*6)].lstrip())\n",
    "            firstLine=firstLine+currentLine[(7+i*6):(12+i*6)].lstrip()+','\n",
    "            #print(i,currentLine)\n",
    "    currentLine = rinFile.readline()\n",
    "print(currentLine)\n",
    "print(rinFields)\n",
    "# Удаляем последнюю запятую\n",
    "firstLine=firstLine[:len(firstLine)-1]+\"\"\n",
    "\n",
    "csvFile.write(firstLine+\"\\n\")\n",
    "print(firstLine)\n",
    "print(len(firstLine),firstLine[len(firstLine)-1])\n",
    "csvFile.close()"
   ]
  },
  {
   "cell_type": "code",
   "execution_count": 5,
   "metadata": {
    "collapsed": false
   },
   "outputs": [
    {
     "name": "stdout",
     "output_type": "stream",
     "text": [
      "{'P2': 0, 'P1': 0, 'L2': 0, 'L1': 0, 'time': '0', 'C1': 0, 'prn': '0'}\n",
      "['P2', 'P1', 'L2', 'L1', 'time', 'C1', 'prn']\n"
     ]
    }
   ],
   "source": [
    "# СОЗДАЕМ СЛОВАРЬ ИЗ СПИСКА ПОЛЕЙ + ВРЕМЯ И N СПУТНИКА\n",
    "gpsRecord = dict(\n",
    "  time = '0',\n",
    "  prn = '0'\n",
    ")\n",
    "# create new dict from rinFields \n",
    "d = dict.fromkeys(rinFields, 0)\n",
    "# renew gpsrecord with new dict d \n",
    "gpsRecord.update(d)\n",
    "print(gpsRecord)\n",
    "# convert dict to list for writing list to csv file\n",
    "csvFields=list(gpsRecord)\n",
    "#csvFields=(gpsRecord.keys())\n",
    "#for i in \n",
    "#    csvFields.append(gpsRecord)\n",
    "print(csvFields)"
   ]
  },
  {
   "cell_type": "code",
   "execution_count": 6,
   "metadata": {
    "collapsed": false,
    "scrolled": false
   },
   "outputs": [
    {
     "ename": "IndentationError",
     "evalue": "unindent does not match any outer indentation level (<ipython-input-6-1d993c00a2c4>, line 36)",
     "output_type": "error",
     "traceback": [
      "\u001b[0;36m  File \u001b[0;32m\"<ipython-input-6-1d993c00a2c4>\"\u001b[0;36m, line \u001b[0;32m36\u001b[0m\n\u001b[0;31m    currentLine = rinFile.readline()\u001b[0m\n\u001b[0m                                    ^\u001b[0m\n\u001b[0;31mIndentationError\u001b[0m\u001b[0;31m:\u001b[0m unindent does not match any outer indentation level\n"
     ]
    }
   ],
   "source": [
    "# READING data after HEADER\n",
    "# Open CSV file and add data\n",
    "writeMode=\"a\"\n",
    "csvFile = open(csvFileName, writeMode)\n",
    "# write first string\n",
    "# Scroll through looking for valid epochs (time and number of satellites)\n",
    "currentLine = rinFile.readline()\n",
    "while currentLine != \"\":\n",
    "      \n",
    "    if (currentLine[27:30]) == \" 0 \":\n",
    "        year = int(currentLine[1:3])\n",
    "        if year < 80: \n",
    "            year = 2000 + year\n",
    "        else: \n",
    "            1900 + year\n",
    "        month = int(currentLine[4:6])\n",
    "        day = int(currentLine[7:9])\n",
    "        hour = int(currentLine[10:12])\n",
    "        mm = int(currentLine[13:15])\n",
    "        sec = float(currentLine[16:26])\n",
    "        # время \n",
    "        # gpsRecord[\"time\"] = str(datetime.date(year, month, day).isoweekday() \\\n",
    "        #  % 7 * 24 * 3600 + hour * 3600 + mm * 60 + sec)\n",
    "        timef=datetime.date(year, month, day).isoweekday() \\\n",
    "          // 7  + hour + mm/60. + sec/3600.\n",
    "        gpsRecord[\"time\"] = str('{:.3f}'.format(timef))   \n",
    "        # Parse the PRN values for this epoch\n",
    "        numSats = int(currentLine[30:32]) # число спутников\n",
    "        #print('numSats=',numSats)\n",
    "        epochPRN = []\n",
    "        for j in range(int(numSats / 12)):\n",
    "        # работает, если numSats>=12    \n",
    "            for i in range(12):\n",
    "                epochPRN.append(currentLine[32+i*3:35+i*3])\n",
    "                #print(i,currentLine[32+i*3:35+i*3])\n",
    "        #    читаем следующию строку для новых спутников > 12\n",
    "             currentLine = rinFile.readline()\n",
    "        # работает всегда\n",
    "        for i in range(numSats % 12):\n",
    "\n",
    "                epochPRN.append(currentLine[32+i*3:35+i*3])\n",
    "                #print(i,currentLine[32+i*3:35+i*3])\n",
    " \n",
    "        # parsing epoch\n",
    "        currentLine = rinFile.readline()\n",
    "        for prn in epochPRN:\n",
    "            currentLine = rinFile.readline()\n",
    "            print(prn,currentLine)\n",
    "            gpsRecord[\"prn\"] = prn\n",
    "            for j in range(int(numFields / 5)):\n",
    "                #currentLine = rinFile.readline()\n",
    "                for i in range(5):\n",
    "                    record = currentLine[i*16+1:i*16+14].lstrip()\n",
    "                    if record == \"\":\n",
    "                        gpsRecord[rinFields[j*5+i]] = \"0\"\n",
    "                    else:\n",
    "                        gpsRecord[rinFields[j*5+i]] = record\n",
    "            if numFields > 5:\n",
    "                currentLine = rinFile.readline()            #print(numFields)\n",
    "                for i in range(numFields % 5):\n",
    "                    #currentLine = rinFile.readline()\n",
    "                    record = currentLine[i*16+1:i*16+14].lstrip()\n",
    "                    if record == \"\":\n",
    "                        pos=int(numFields/5)*5+i\n",
    "                        print(pos,i,numFields//5)\n",
    "                        gpsRecord[rinFields[numFields//5*5+i]] = \"0\"\n",
    "                    else:\n",
    "                        gpsRecord[rinFields[numFields//5*5+i]] = record\n",
    "                        print(record)\n",
    "            \n",
    "            csvLine = \"\"\n",
    "            for field in csvFields:\n",
    "                csvLine += gpsRecord[field] + \",\"\n",
    "            csvFile.write(csvLine[:-1]+\"\\r\\n\")\n",
    "\n",
    "    currentLine = rinFile.readline()\n",
    "\n"
   ]
  },
  {
   "cell_type": "code",
   "execution_count": null,
   "metadata": {
    "collapsed": true
   },
   "outputs": [],
   "source": [
    "# Close files and clean up\n",
    "rinFile.close()\n",
    "csvFile.close()"
   ]
  },
  {
   "cell_type": "code",
   "execution_count": null,
   "metadata": {
    "collapsed": false
   },
   "outputs": [],
   "source": [
    "datetime.date(year, month, day).isoweekday() \\\n",
    "          // 7  + hour + mm/60. + sec/3600."
   ]
  }
 ],
 "metadata": {
  "kernelspec": {
   "display_name": "Python 2",
   "language": "python",
   "name": "python2"
  },
  "language_info": {
   "codemirror_mode": {
    "name": "ipython",
    "version": 2
   },
   "file_extension": ".py",
   "mimetype": "text/x-python",
   "name": "python",
   "nbconvert_exporter": "python",
   "pygments_lexer": "ipython2",
   "version": "2.7.13"
  }
 },
 "nbformat": 4,
 "nbformat_minor": 2
}

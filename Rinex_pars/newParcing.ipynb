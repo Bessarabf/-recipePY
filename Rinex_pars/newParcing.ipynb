{
 "cells": [
  {
   "cell_type": "markdown",
   "metadata": {},
   "source": [
    "### Тест ПАРСИНГА "
   ]
  },
  {
   "cell_type": "code",
   "execution_count": 1,
   "metadata": {
    "collapsed": true
   },
   "outputs": [],
   "source": [
    "from collections import OrderedDict"
   ]
  },
  {
   "cell_type": "code",
   "execution_count": 2,
   "metadata": {
    "collapsed": true
   },
   "outputs": [],
   "source": [
    "def pars(rinFileName,csvFileName):\n",
    "    import datetime\n",
    "    from collections import OrderedDict\n",
    "    rinFields = [] # list of data fields (L1, L2 etc) \n",
    "    numFields = 0  # numba of data fields\n",
    "    # Open the rinex file and extract header data\n",
    "    writeMode=\"w\"\n",
    "    rinFile = open(rinFileName, \"r\")\n",
    "    csvFile = open(csvFileName, writeMode)\n",
    "    \n",
    "# Анализ заголовка RINEX - файла\n",
    "    currentLine = rinFile.readline().rstrip('\\n')\n",
    "\n",
    "    while currentLine[60:].rstrip() != \"END OF HEADER\":\n",
    "        #print(currentLine.rstrip('\\n'))\n",
    "        if currentLine[60:].rstrip() == \"# / TYPES OF OBSERV\": # Extract header data\n",
    "            numFields = int(currentLine[1:6])\n",
    "        \n",
    "            #print(\"number of data columns \",numFields)\n",
    "            firstLine='time,'+'N_sat,'\n",
    "            for j in range(int(numFields/9)):\n",
    "                #print(\"j=\",j)\n",
    "                for i in range(9):\n",
    "                    rinFields.append(currentLine[(7+i*6):(12+i*6)].lstrip())\n",
    "                    firstLine=firstLine+currentLine[(7+i*6):(12+i*6)].lstrip()+','\n",
    "                currentLine = rinFile.readline().rstrip('\\n')\n",
    "            #print(numFields%9)            \n",
    "            for i in range(numFields%9):\n",
    "                rinFields.append(currentLine[(7+i*6):(12+i*6)].lstrip())\n",
    "                firstLine=firstLine+currentLine[(7+i*6):(12+i*6)].lstrip()+','\n",
    "                #print(i,currentLine)\n",
    "        currentLine = rinFile.readline().rstrip('\\n')\n",
    "   \n",
    "    #print(rinFields)\n",
    "    # Удаляем последнюю запятую в списке\n",
    "    firstLine=firstLine[:len(firstLine)-1]+\"\"\n",
    "\n",
    "    csvFile.write(firstLine+\"\\n\")\n",
    "    \n",
    "    csvFile.close()\n",
    "    print(\"END OF HEADER\")\n",
    "\n",
    "# СОЗДАЕМ СЛОВАРЬ ИЗ СПИСКА ПОЛЕЙ + ВРЕМЯ И N СПУТНИКА\n",
    "    gpsRecord = OrderedDict(\n",
    "      time = '0'\n",
    "     \n",
    "    )\n",
    "    gpsRecord.update({'prn':'0'})\n",
    "    # print(gpsRecord)\n",
    "    \n",
    "# create new dict from rinFields \n",
    "    d = OrderedDict.fromkeys(rinFields, 0)\n",
    "# renew gpsrecord with new dict d \n",
    "    gpsRecord.update(d)\n",
    "    #print(gpsRecord)\n",
    "    # convert dict to list for writing list to csv file\n",
    "    csvFields=list(gpsRecord)\n",
    "    #csvFields=(gpsRecord.keys())\n",
    "    #for i in \n",
    "    #    csvFields.append(gpsRecord)\n",
    "    \n",
    "# Open CSV file again and add data\n",
    "    writeMode=\"a\"\n",
    "    csvFile = open(csvFileName, writeMode)\n",
    "    print(\"ReOpenFile\")\n",
    "    # write first string\n",
    "    # Scroll through looking for valid epochs\n",
    "    currentLine = rinFile.readline().rstrip('\\n')\n",
    "    #print(gpsRecord)\n",
    "    while currentLine != \"\":\n",
    "        # current line starts new epoch?\n",
    "        if (currentLine[27:30]).strip()  == \"0\":\n",
    "            #print(currentLine)\n",
    "            year = int(currentLine[1:3])\n",
    "            if year < 80: \n",
    "                year = 2000 + year\n",
    "            else: \n",
    "                1900 + year\n",
    "            month = int(currentLine[4:6])\n",
    "            day = int(currentLine[7:9])\n",
    "            hour = int(currentLine[10:12].strip())\n",
    "            mm = int(currentLine[13:15].strip())\n",
    "            sec = float(currentLine[16:26].strip())\n",
    "            \n",
    "            # время \n",
    "            # gpsRecord[\"time\"] = str(datetime.date(year, month, day).isoweekday() \\\n",
    "            #  % 7 * 24 * 3600 + hour * 3600 + mm * 60 + sec)\n",
    "            #timef=datetime.date(year, month, day).isoweekday() \\\n",
    "            #  // 7  +\n",
    "            timef=hour + mm/60. + sec/3600.\n",
    "            gpsRecord[\"time\"] = str('{:.3f}'.format(timef))   \n",
    "            \n",
    "# How many satellites in this epoch?\n",
    "            numSats = int(currentLine[30:32]) # число спутников\n",
    "            #print('numSats=',numSats)\n",
    "            epochPRN = []\n",
    "#           \n",
    "# работает, если numSats>=12\n",
    "            for j in range(int(numSats / 12)):\n",
    "                for i in range(12):\n",
    "                    epochPRN.append(currentLine[32+i*3:35+i*3])\n",
    "                    #print(i,currentLine[32+i*3:35+i*3])\n",
    "            #    читаем следующию строку для новых спутников > 12\n",
    "            if numSats > 12:\n",
    "                currentLine = rinFile.readline()\n",
    "        # работает всегда\n",
    "            for i in range(numSats % 12):\n",
    "\n",
    "                epochPRN.append(currentLine[32+i*3:35+i*3])\n",
    "                #print(i,currentLine[32+i*3:35+i*3])\n",
    "            #print(numSats,epochPRN)\n",
    "# parsing epoch\n",
    "            \n",
    "# reading next lines for each satellite                    \n",
    "            for prn in epochPRN:\n",
    "                currentLine = rinFile.readline().rstrip('\\n')\n",
    "                gpsRecord[\"prn\"] = prn\n",
    "                #print(\"prn1=\",prn,currentLine)\n",
    "            # работает, если numFields >=5\n",
    "                for j in range(int(numFields / 5)):\n",
    "                    \n",
    "                    for i in range(5):\n",
    "                        record = currentLine[i*16+1:i*16+14].lstrip()\n",
    "                        if record == \"\":\n",
    "                            gpsRecord[rinFields[j*5+i]] = \"0\"\n",
    "                        else:\n",
    "                            gpsRecord[rinFields[j*5+i]] = record\n",
    "                if numFields>5:\n",
    "                    currentLine = rinFile.readline().rstrip('\\n')\n",
    "                    #print(\"prn2=\",prn,currentLine)\n",
    "                for i in range(numFields % 5):\n",
    "                    #currentLine = rinFile.readline()\n",
    "                    record = currentLine[i*16+1:i*16+14].lstrip()\n",
    "                    if record == \"\":\n",
    "                        gpsRecord[rinFields[numFields//5*5+i]] = \"0\"\n",
    "                    else:\n",
    "                        gpsRecord[rinFields[numFields//5*5+i]] = record\n",
    "            \n",
    "            \n",
    "                csvLine = \"\"\n",
    "                \n",
    "                for field in csvFields:\n",
    "                    csvLine += gpsRecord[field] + \",\"\n",
    "                csvFile.write(csvLine[:-1]+\"\\r\\n\")\n",
    "\n",
    "        currentLine = rinFile.readline().rstrip('\\n')\n",
    "\n",
    "\n",
    "    # Close files \n",
    "    rinFile.close()\n",
    "    csvFile.close()\n",
    "    print('Parsing ',rinFileName,' end')\n"
   ]
  },
  {
   "cell_type": "code",
   "execution_count": 3,
   "metadata": {
    "scrolled": false
   },
   "outputs": [
    {
     "name": "stdout",
     "output_type": "stream",
     "text": [
      "END OF HEADER\n",
      "ReOpenFile\n",
      "('Parsing ', 'lama0100.18o', ' end')\n"
     ]
    }
   ],
   "source": [
    "if __name__ == \"__main__\":\n",
    "    \n",
    "    rinFileName =\"lama0100.18o\" #\"lama0101.19o\" #\"KLGD2860test.08o\" #\"lama0101.19o\"\n",
    "    csvFileName = \"lama0100_18o.csv\" #\"lama0101.csv\" #\"KLGD2860test.csv\" #\"lama0101.csv\"\n",
    "    pars(rinFileName,csvFileName)"
   ]
  },
  {
   "cell_type": "code",
   "execution_count": 4,
   "metadata": {},
   "outputs": [
    {
     "data": {
      "text/plain": [
       "0.008333333333333333"
      ]
     },
     "execution_count": 4,
     "metadata": {},
     "output_type": "execute_result"
    }
   ],
   "source": [
    "30/3600.\n"
   ]
  },
  {
   "cell_type": "code",
   "execution_count": 5,
   "metadata": {},
   "outputs": [
    {
     "data": {
      "text/plain": [
       "11"
      ]
     },
     "execution_count": 5,
     "metadata": {},
     "output_type": "execute_result"
    }
   ],
   "source": [
    "11 % 12"
   ]
  },
  {
   "cell_type": "code",
   "execution_count": 6,
   "metadata": {},
   "outputs": [
    {
     "name": "stdout",
     "output_type": "stream",
     "text": [
      "(' 0 ', 3)\n",
      "('0', 1)\n"
     ]
    }
   ],
   "source": [
    "linetest=\" 0 \"\n",
    "newline=linetest.strip()\n",
    "print(linetest,len(linetest))\n",
    "print(newline,len(newline))"
   ]
  },
  {
   "cell_type": "code",
   "execution_count": null,
   "metadata": {
    "collapsed": true
   },
   "outputs": [],
   "source": []
  }
 ],
 "metadata": {
  "kernelspec": {
   "display_name": "Python 2",
   "language": "python",
   "name": "python2"
  },
  "language_info": {
   "codemirror_mode": {
    "name": "ipython",
    "version": 2
   },
   "file_extension": ".py",
   "mimetype": "text/x-python",
   "name": "python",
   "nbconvert_exporter": "python",
   "pygments_lexer": "ipython2",
   "version": "2.7.13"
  }
 },
 "nbformat": 4,
 "nbformat_minor": 2
}

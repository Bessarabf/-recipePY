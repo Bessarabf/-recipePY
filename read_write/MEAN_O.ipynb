{
 "cells": [
  {
   "cell_type": "code",
   "execution_count": 1,
   "metadata": {
    "collapsed": false
   },
   "outputs": [
    {
     "name": "stdout",
     "output_type": "stream",
     "text": [
      "Populating the interactive namespace from numpy and matplotlib\n"
     ]
    }
   ],
   "source": [
    "import numpy\n",
    "import seaborn as sns\n",
    "import pandas as pd\n",
    "import os\n",
    "%pylab inline"
   ]
  },
  {
   "cell_type": "code",
   "execution_count": null,
   "metadata": {
    "collapsed": true
   },
   "outputs": [],
   "source": [
    "def medianGNSS(filenm):\n",
    "    dataS=pd.read_csv(filename,sep=',',header=None,skiprows=1)\n",
    "    dataS.columns = ['sat','max_o','min_o','mean_o']\n",
    "    medGNS=dataS[dataS['sat']>='R01'].min_o.median()\n",
    "    medGPS=dataS[dataS['sat']<'R01'].min_o.median()\n",
    "    num=len(dataS['sat'])\n",
    "    GNS=zeros(num-1)\n",
    "    GNS[:]=medGNS\n",
    "    GPS=zeros(num-1)\n",
    "    GPS[:]=medGPS"
   ]
  },
  {
   "cell_type": "code",
   "execution_count": 5,
   "metadata": {
    "collapsed": false
   },
   "outputs": [
    {
     "name": "stdout",
     "output_type": "stream",
     "text": [
      "['.ipynb_checkpoints' '15.02.02.xls' '15.02.17.xls' '15.02.24.xls'\n",
      " '15.03.02.xls' '15.04.10.xls' '15.05.06.xls' '15.05.13.xls' '15.06.08.xls'\n",
      " '15.07.23.xls' '15.08.27.xls' '15.09.11.xls' '15.09.20.xls' '15.10.07.xls'\n",
      " '15.12.20.xls' 'MEAN_O.ipynb']\n"
     ]
    }
   ],
   "source": [
    "arr = os.listdir('./')\n",
    "arr=sort(arr)\n",
    "print(arr)"
   ]
  },
  {
   "cell_type": "code",
   "execution_count": null,
   "metadata": {
    "collapsed": false,
    "scrolled": false
   },
   "outputs": [],
   "source": [
    "filename='15.10.07.xls'\n",
    "\n",
    "dataS=pd.read_csv(filename,sep=',',header=None,skiprows=1)\n",
    "\n",
    "dataS.columns = ['sat','max_o','min_o','mean_o']\n",
    "dataS.head()"
   ]
  },
  {
   "cell_type": "code",
   "execution_count": null,
   "metadata": {
    "collapsed": false
   },
   "outputs": [],
   "source": [
    "plot(dataS[dataS['sat']>='R01'].max_o,'r.')\n",
    "plot(dataS[dataS['sat']<'R01'].max_o,'g.')\n",
    "legend(['GLONAS','GPS'])\n",
    "#dataS['sat'=='R24'].max_o.plot()"
   ]
  },
  {
   "cell_type": "code",
   "execution_count": null,
   "metadata": {
    "collapsed": false
   },
   "outputs": [],
   "source": [
    "medGNS=dataS[dataS['sat']>='R01'].min_o.median()\n",
    "medGPS=dataS[dataS['sat']<'R01'].min_o.median()\n",
    "num=len(dataS['sat'])\n",
    "GNS=zeros(num-1)\n",
    "GNS[:]=medGNS\n",
    "GPS=zeros(num-1)\n",
    "GPS[:]=medGPS\n",
    "print(num)"
   ]
  },
  {
   "cell_type": "code",
   "execution_count": null,
   "metadata": {
    "collapsed": false
   },
   "outputs": [],
   "source": [
    "sns.set(style=\"whitegrid\")\n",
    "plot(dataS[dataS['sat']>='R01'].min_o,'r.')\n",
    "plot(dataS[dataS['sat']<'R01'].min_o,'g.')\n",
    "plot(GNS,'r--')\n",
    "plot(GPS,'g--')\n",
    "legend(['GLONAS','GPS','medianGLONAS','medianGPS'])"
   ]
  },
  {
   "cell_type": "code",
   "execution_count": null,
   "metadata": {
    "collapsed": false
   },
   "outputs": [],
   "source": [
    "medGNS=dataS[dataS['sat']>='R01'].min_o.median()\n",
    "medGPS=dataS[dataS['sat']<'R01'].min_o.median()\n",
    "print(medGPS,medGNS)"
   ]
  },
  {
   "cell_type": "code",
   "execution_count": null,
   "metadata": {
    "collapsed": true
   },
   "outputs": [],
   "source": []
  }
 ],
 "metadata": {
  "kernelspec": {
   "display_name": "Python 2",
   "language": "python",
   "name": "python2"
  },
  "language_info": {
   "codemirror_mode": {
    "name": "ipython",
    "version": 2
   },
   "file_extension": ".py",
   "mimetype": "text/x-python",
   "name": "python",
   "nbconvert_exporter": "python",
   "pygments_lexer": "ipython2",
   "version": "2.7.13"
  }
 },
 "nbformat": 4,
 "nbformat_minor": 2
}

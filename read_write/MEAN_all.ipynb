{
 "cells": [
  {
   "cell_type": "code",
   "execution_count": 53,
   "metadata": {
    "collapsed": false
   },
   "outputs": [
    {
     "name": "stdout",
     "output_type": "stream",
     "text": [
      "Populating the interactive namespace from numpy and matplotlib\n"
     ]
    }
   ],
   "source": [
    "import numpy\n",
    "import seaborn as sns\n",
    "import pandas as pd\n",
    "import os\n",
    "%pylab inline"
   ]
  },
  {
   "cell_type": "code",
   "execution_count": 54,
   "metadata": {
    "collapsed": true
   },
   "outputs": [],
   "source": [
    "# вычисление медианных значений среднекв. отклонений \n",
    "def medianGNSS(filenm):\n",
    "    global medGNS,medGPS \n",
    "    dataS=pd.read_csv(filename,sep=',',header=None,skiprows=1)\n",
    "    dataS.columns = ['sat','max_o','min_o','mean_o']\n",
    "    medGNS=dataS[dataS['sat']>='R01'].min_o.median()\n",
    "    medGPS=dataS[dataS['sat']<'R01'].min_o.median()\n",
    "    num=len(dataS['sat'])\n",
    "    #print(medGNS,medGPS)\n",
    "    #GNS=zeros(num-1)\n",
    "    #GNS[:]=medGNS\n",
    "    #GPS=zeros(num-1)\n",
    "    #GPS[:]=medGPS\n",
    "    return()"
   ]
  },
  {
   "cell_type": "code",
   "execution_count": null,
   "metadata": {
    "collapsed": true
   },
   "outputs": [],
   "source": []
  },
  {
   "cell_type": "code",
   "execution_count": 55,
   "metadata": {
    "collapsed": false
   },
   "outputs": [
    {
     "name": "stdout",
     "output_type": "stream",
     "text": [
      "['.ipynb_checkpoints' '15.02.02.xls' '15.02.17.xls' '15.02.24.xls'\n",
      " '15.03.02.xls' '15.04.10.xls' '15.05.06.xls' '15.05.13.xls' '15.06.08.xls'\n",
      " '15.07.23.xls' '15.08.27.xls' '15.09.11.xls' '15.09.20.xls' '15.10.07.xls'\n",
      " '15.12.20.xls' 'MEAN_O.ipynb' 'MEAN_all.ipynb' 'median_all.dat']\n"
     ]
    }
   ],
   "source": [
    "# список файлов в директории\n",
    "arr = os.listdir('./')\n",
    "arr=sort(arr)\n",
    "numfile=len(arr)\n",
    "print(arr)"
   ]
  },
  {
   "cell_type": "code",
   "execution_count": 56,
   "metadata": {
    "collapsed": false
   },
   "outputs": [
    {
     "name": "stdout",
     "output_type": "stream",
     "text": [
      "15.02.02.xls\n",
      "15.02.17.xls\n",
      "15.02.24.xls\n",
      "15.03.02.xls\n",
      "15.04.10.xls\n",
      "15.05.06.xls\n",
      "15.05.13.xls\n",
      "15.06.08.xls\n",
      "15.07.23.xls\n",
      "15.08.27.xls\n",
      "15.09.11.xls\n",
      "15.09.20.xls\n",
      "15.10.07.xls\n",
      "15.12.20.xls\n"
     ]
    }
   ],
   "source": [
    "# Открываем файл для записи медианных значений и Ap\n",
    "writeFile=open('median_all.dat','w')\n",
    "for i in range(1,numfile-3):\n",
    "    filename=arr[i]\n",
    "    print(filename)\n",
    "    # Выделяем Ap\n",
    "    readFile = open(filename, \"r\")\n",
    "    line=readFile.readline()\n",
    "    apline=line.split('Ap=')\n",
    "    apstr=str(apline[-1:])\n",
    "\n",
    "    ap=int(apstr[2:4])\n",
    "\n",
    "    readFile.close()\n",
    "    # Рассчитываем медианные значения\n",
    "    medGNS=0.\n",
    "    medGPS=0.\n",
    "    medianGNSS(filename)\n",
    "\n",
    "    #print(ap,medGNS,medGPS)\n",
    "    str1=filename[:-3]+ '  '+str(medGPS)+'  '+str(medGNS)+'  '+str(ap)+'\\n'\n",
    "    # Пишем в файл\n",
    "    writeFile.write(str1)\n"
   ]
  },
  {
   "cell_type": "code",
   "execution_count": 57,
   "metadata": {
    "collapsed": true
   },
   "outputs": [],
   "source": [
    "writeFile.close()"
   ]
  }
 ],
 "metadata": {
  "kernelspec": {
   "display_name": "Python 2",
   "language": "python",
   "name": "python2"
  },
  "language_info": {
   "codemirror_mode": {
    "name": "ipython",
    "version": 2
   },
   "file_extension": ".py",
   "mimetype": "text/x-python",
   "name": "python",
   "nbconvert_exporter": "python",
   "pygments_lexer": "ipython2",
   "version": "2.7.13"
  }
 },
 "nbformat": 4,
 "nbformat_minor": 2
}

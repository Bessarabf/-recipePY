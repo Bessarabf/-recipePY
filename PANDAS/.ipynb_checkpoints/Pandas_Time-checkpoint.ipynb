{
 "cells": [
  {
   "cell_type": "code",
   "execution_count": 2,
   "metadata": {
    "collapsed": false
   },
   "outputs": [],
   "source": [
    "import pandas as pd"
   ]
  },
  {
   "cell_type": "code",
   "execution_count": 2,
   "metadata": {
    "collapsed": false
   },
   "outputs": [],
   "source": []
  },
  {
   "cell_type": "code",
   "execution_count": 3,
   "metadata": {
    "collapsed": false
   },
   "outputs": [
    {
     "name": "stderr",
     "output_type": "stream",
     "text": [
      "C:\\Python27\\lib\\site-packages\\pandas\\io\\parsers.py:639: ParserWarning: Falling back to the 'python' engine because the 'c' engine does not support regex separators; you can avoid this warning by specifying engine='python'.\n",
      "  ParserWarning)\n"
     ]
    }
   ],
   "source": [
    "fof2 = pd.read_csv('SMJ67.txt', parse_dates=True,header=0,sep=r'\\s*',index_col='Time')"
   ]
  },
  {
   "cell_type": "code",
   "execution_count": 11,
   "metadata": {
    "collapsed": false
   },
   "outputs": [
    {
     "data": {
      "text/html": [
       "<div style=\"max-height:1000px;max-width:1500px;overflow:auto;\">\n",
       "<table border=\"1\" class=\"dataframe\">\n",
       "  <thead>\n",
       "    <tr style=\"text-align: right;\">\n",
       "      <th></th>\n",
       "      <th>Obs</th>\n",
       "      <th>IRTAM</th>\n",
       "      <th>IRI</th>\n",
       "      <th>DifIRTAM</th>\n",
       "      <th>DifIRI</th>\n",
       "      <th>Expand</th>\n",
       "      <th>DifExp</th>\n",
       "      <th>conf</th>\n",
       "    </tr>\n",
       "  </thead>\n",
       "  <tbody>\n",
       "    <tr>\n",
       "      <th>2002-02-07 00:00:00</th>\n",
       "      <td> 6.53</td>\n",
       "      <td> 5.20</td>\n",
       "      <td> 4.83</td>\n",
       "      <td> 1.34</td>\n",
       "      <td> 1.71</td>\n",
       "      <td> 6.44</td>\n",
       "      <td> 0.09</td>\n",
       "      <td>  42</td>\n",
       "    </tr>\n",
       "    <tr>\n",
       "      <th>2002-02-07 00:15:00</th>\n",
       "      <td> 6.45</td>\n",
       "      <td> 5.11</td>\n",
       "      <td> 4.76</td>\n",
       "      <td> 1.34</td>\n",
       "      <td> 1.69</td>\n",
       "      <td> 6.25</td>\n",
       "      <td> 0.20</td>\n",
       "      <td> 100</td>\n",
       "    </tr>\n",
       "    <tr>\n",
       "      <th>2002-02-07 00:30:00</th>\n",
       "      <td> 6.30</td>\n",
       "      <td> 5.03</td>\n",
       "      <td> 4.70</td>\n",
       "      <td> 1.27</td>\n",
       "      <td> 1.60</td>\n",
       "      <td> 6.07</td>\n",
       "      <td> 0.23</td>\n",
       "      <td> 100</td>\n",
       "    </tr>\n",
       "    <tr>\n",
       "      <th>2002-02-07 00:45:00</th>\n",
       "      <td> 6.35</td>\n",
       "      <td> 4.97</td>\n",
       "      <td> 4.65</td>\n",
       "      <td> 1.38</td>\n",
       "      <td> 1.70</td>\n",
       "      <td> 5.91</td>\n",
       "      <td> 0.44</td>\n",
       "      <td> 100</td>\n",
       "    </tr>\n",
       "    <tr>\n",
       "      <th>2002-02-07 01:00:00</th>\n",
       "      <td> 5.80</td>\n",
       "      <td> 4.92</td>\n",
       "      <td> 4.61</td>\n",
       "      <td> 0.88</td>\n",
       "      <td> 1.19</td>\n",
       "      <td> 5.78</td>\n",
       "      <td> 0.02</td>\n",
       "      <td> 100</td>\n",
       "    </tr>\n",
       "  </tbody>\n",
       "</table>\n",
       "</div>"
      ],
      "text/plain": [
       "                      Obs  IRTAM   IRI  DifIRTAM  DifIRI  Expand  DifExp  conf\n",
       "2002-02-07 00:00:00  6.53   5.20  4.83      1.34    1.71    6.44    0.09    42\n",
       "2002-02-07 00:15:00  6.45   5.11  4.76      1.34    1.69    6.25    0.20   100\n",
       "2002-02-07 00:30:00  6.30   5.03  4.70      1.27    1.60    6.07    0.23   100\n",
       "2002-02-07 00:45:00  6.35   4.97  4.65      1.38    1.70    5.91    0.44   100\n",
       "2002-02-07 01:00:00  5.80   4.92  4.61      0.88    1.19    5.78    0.02   100"
      ]
     },
     "execution_count": 11,
     "metadata": {},
     "output_type": "execute_result"
    }
   ],
   "source": [
    "fof2.head()\n"
   ]
  },
  {
   "cell_type": "markdown",
   "metadata": {},
   "source": [
    "Дата и время не распознались, поэтому сгенерируем нужные нам дату и время вручную:"
   ]
  },
  {
   "cell_type": "code",
   "execution_count": 5,
   "metadata": {
    "collapsed": false
   },
   "outputs": [
    {
     "data": {
      "text/plain": [
       "<class 'pandas.tseries.index.DatetimeIndex'>\n",
       "[2002-02-07 00:00:00, ..., 2002-02-07 23:45:00]\n",
       "Length: 96, Freq: 15T, Timezone: None"
      ]
     },
     "execution_count": 5,
     "metadata": {},
     "output_type": "execute_result"
    }
   ],
   "source": [
    "dTime=pd.date_range('2002-02-07',periods=96,freq='15min')\n",
    "dTime"
   ]
  },
  {
   "cell_type": "markdown",
   "metadata": {},
   "source": [
    "теперь заменяем индексы на сгенерированные нами даты:"
   ]
  },
  {
   "cell_type": "code",
   "execution_count": 6,
   "metadata": {
    "collapsed": false
   },
   "outputs": [
    {
     "data": {
      "text/html": [
       "<div style=\"max-height:1000px;max-width:1500px;overflow:auto;\">\n",
       "<table border=\"1\" class=\"dataframe\">\n",
       "  <thead>\n",
       "    <tr style=\"text-align: right;\">\n",
       "      <th></th>\n",
       "      <th>Obs</th>\n",
       "      <th>IRTAM</th>\n",
       "      <th>IRI</th>\n",
       "      <th>DifIRTAM</th>\n",
       "      <th>DifIRI</th>\n",
       "      <th>Expand</th>\n",
       "      <th>DifExp</th>\n",
       "      <th>conf</th>\n",
       "    </tr>\n",
       "  </thead>\n",
       "  <tbody>\n",
       "    <tr>\n",
       "      <th>2002-02-07 00:00:00</th>\n",
       "      <td> 6.53</td>\n",
       "      <td> 5.20</td>\n",
       "      <td> 4.83</td>\n",
       "      <td> 1.34</td>\n",
       "      <td> 1.71</td>\n",
       "      <td> 6.44</td>\n",
       "      <td> 0.09</td>\n",
       "      <td>  42</td>\n",
       "    </tr>\n",
       "    <tr>\n",
       "      <th>2002-02-07 00:15:00</th>\n",
       "      <td> 6.45</td>\n",
       "      <td> 5.11</td>\n",
       "      <td> 4.76</td>\n",
       "      <td> 1.34</td>\n",
       "      <td> 1.69</td>\n",
       "      <td> 6.25</td>\n",
       "      <td> 0.20</td>\n",
       "      <td> 100</td>\n",
       "    </tr>\n",
       "    <tr>\n",
       "      <th>2002-02-07 00:30:00</th>\n",
       "      <td> 6.30</td>\n",
       "      <td> 5.03</td>\n",
       "      <td> 4.70</td>\n",
       "      <td> 1.27</td>\n",
       "      <td> 1.60</td>\n",
       "      <td> 6.07</td>\n",
       "      <td> 0.23</td>\n",
       "      <td> 100</td>\n",
       "    </tr>\n",
       "    <tr>\n",
       "      <th>2002-02-07 00:45:00</th>\n",
       "      <td> 6.35</td>\n",
       "      <td> 4.97</td>\n",
       "      <td> 4.65</td>\n",
       "      <td> 1.38</td>\n",
       "      <td> 1.70</td>\n",
       "      <td> 5.91</td>\n",
       "      <td> 0.44</td>\n",
       "      <td> 100</td>\n",
       "    </tr>\n",
       "    <tr>\n",
       "      <th>2002-02-07 01:00:00</th>\n",
       "      <td> 5.80</td>\n",
       "      <td> 4.92</td>\n",
       "      <td> 4.61</td>\n",
       "      <td> 0.88</td>\n",
       "      <td> 1.19</td>\n",
       "      <td> 5.78</td>\n",
       "      <td> 0.02</td>\n",
       "      <td> 100</td>\n",
       "    </tr>\n",
       "  </tbody>\n",
       "</table>\n",
       "</div>"
      ],
      "text/plain": [
       "                      Obs  IRTAM   IRI  DifIRTAM  DifIRI  Expand  DifExp  conf\n",
       "2002-02-07 00:00:00  6.53   5.20  4.83      1.34    1.71    6.44    0.09    42\n",
       "2002-02-07 00:15:00  6.45   5.11  4.76      1.34    1.69    6.25    0.20   100\n",
       "2002-02-07 00:30:00  6.30   5.03  4.70      1.27    1.60    6.07    0.23   100\n",
       "2002-02-07 00:45:00  6.35   4.97  4.65      1.38    1.70    5.91    0.44   100\n",
       "2002-02-07 01:00:00  5.80   4.92  4.61      0.88    1.19    5.78    0.02   100"
      ]
     },
     "execution_count": 6,
     "metadata": {},
     "output_type": "execute_result"
    }
   ],
   "source": [
    "fof2.index=dTime\n",
    "fof2.head()"
   ]
  },
  {
   "cell_type": "code",
   "execution_count": 14,
   "metadata": {
    "collapsed": false
   },
   "outputs": [
    {
     "data": {
      "text/plain": [
       "<matplotlib.legend.Legend at 0x3dc5850>"
      ]
     },
     "execution_count": 14,
     "metadata": {},
     "output_type": "execute_result"
    },
    {
     "data": {
      "image/png": "[encoded data removed]"
     },
     "metadata": {},
     "output_type": "display_data"
    }
   ],
   "source": [
    "fof2['Obs'].plot()\n",
    "fof2['IRTAM'].plot()\n",
    "fof2['IRI'].plot()\n",
    "legend()"
   ]
  },
  {
   "cell_type": "code",
   "execution_count": 8,
   "metadata": {
    "collapsed": false
   },
   "outputs": [
    {
     "data": {
      "text/plain": [
       "6.9091666666666667"
      ]
     },
     "execution_count": 8,
     "metadata": {},
     "output_type": "execute_result"
    }
   ],
   "source": [
    "fof2['Obs'].mean()\n"
   ]
  },
  {
   "cell_type": "code",
   "execution_count": 9,
   "metadata": {
    "collapsed": false
   },
   "outputs": [
    {
     "data": {
      "text/plain": [
       "6.4900000000000002"
      ]
     },
     "execution_count": 9,
     "metadata": {},
     "output_type": "execute_result"
    }
   ],
   "source": [
    "median(fof2['Obs'])"
   ]
  },
  {
   "cell_type": "markdown",
   "metadata": {},
   "source": [
    "Выбор интервала времени из таблицы"
   ]
  },
  {
   "cell_type": "code",
   "execution_count": 19,
   "metadata": {
    "collapsed": false
   },
   "outputs": [
    {
     "data": {
      "text/html": [
       "<div style=\"max-height:1000px;max-width:1500px;overflow:auto;\">\n",
       "<table border=\"1\" class=\"dataframe\">\n",
       "  <thead>\n",
       "    <tr style=\"text-align: right;\">\n",
       "      <th></th>\n",
       "      <th>Obs</th>\n",
       "      <th>IRTAM</th>\n",
       "      <th>IRI</th>\n",
       "      <th>DifIRTAM</th>\n",
       "      <th>DifIRI</th>\n",
       "      <th>Expand</th>\n",
       "      <th>DifExp</th>\n",
       "      <th>conf</th>\n",
       "    </tr>\n",
       "  </thead>\n",
       "  <tbody>\n",
       "    <tr>\n",
       "      <th>2002-02-07 06:45:00</th>\n",
       "      <td> 5.05</td>\n",
       "      <td> 3.98</td>\n",
       "      <td> 3.65</td>\n",
       "      <td> 1.07</td>\n",
       "      <td> 1.40</td>\n",
       "      <td> 4.78</td>\n",
       "      <td> 0.27</td>\n",
       "      <td> 100</td>\n",
       "    </tr>\n",
       "    <tr>\n",
       "      <th>2002-02-07 07:00:00</th>\n",
       "      <td> 4.93</td>\n",
       "      <td> 3.94</td>\n",
       "      <td> 3.59</td>\n",
       "      <td> 0.99</td>\n",
       "      <td> 1.34</td>\n",
       "      <td> 4.81</td>\n",
       "      <td> 0.12</td>\n",
       "      <td>  42</td>\n",
       "    </tr>\n",
       "    <tr>\n",
       "      <th>2002-02-07 07:15:00</th>\n",
       "      <td> 4.70</td>\n",
       "      <td> 3.91</td>\n",
       "      <td> 3.54</td>\n",
       "      <td> 0.79</td>\n",
       "      <td> 1.16</td>\n",
       "      <td> 4.85</td>\n",
       "      <td>-0.15</td>\n",
       "      <td> 100</td>\n",
       "    </tr>\n",
       "    <tr>\n",
       "      <th>2002-02-07 07:30:00</th>\n",
       "      <td> 4.95</td>\n",
       "      <td> 3.90</td>\n",
       "      <td> 3.50</td>\n",
       "      <td> 1.05</td>\n",
       "      <td> 1.45</td>\n",
       "      <td> 4.89</td>\n",
       "      <td> 0.06</td>\n",
       "      <td> 100</td>\n",
       "    </tr>\n",
       "    <tr>\n",
       "      <th>2002-02-07 07:45:00</th>\n",
       "      <td> 4.75</td>\n",
       "      <td> 3.91</td>\n",
       "      <td> 3.49</td>\n",
       "      <td> 0.84</td>\n",
       "      <td> 1.26</td>\n",
       "      <td> 4.93</td>\n",
       "      <td>-0.18</td>\n",
       "      <td> 100</td>\n",
       "    </tr>\n",
       "  </tbody>\n",
       "</table>\n",
       "</div>"
      ],
      "text/plain": [
       "                      Obs  IRTAM   IRI  DifIRTAM  DifIRI  Expand  DifExp  conf\n",
       "2002-02-07 06:45:00  5.05   3.98  3.65      1.07    1.40    4.78    0.27   100\n",
       "2002-02-07 07:00:00  4.93   3.94  3.59      0.99    1.34    4.81    0.12    42\n",
       "2002-02-07 07:15:00  4.70   3.91  3.54      0.79    1.16    4.85   -0.15   100\n",
       "2002-02-07 07:30:00  4.95   3.90  3.50      1.05    1.45    4.89    0.06   100\n",
       "2002-02-07 07:45:00  4.75   3.91  3.49      0.84    1.26    4.93   -0.18   100"
      ]
     },
     "execution_count": 19,
     "metadata": {},
     "output_type": "execute_result"
    }
   ],
   "source": [
    "fof2.between_time('06:45','07:45')\n"
   ]
  },
  {
   "cell_type": "code",
   "execution_count": 21,
   "metadata": {
    "collapsed": false
   },
   "outputs": [
    {
     "data": {
      "text/plain": [
       "4.8759999999999994"
      ]
     },
     "execution_count": 21,
     "metadata": {},
     "output_type": "execute_result"
    }
   ],
   "source": [
    "# вычисление среднего\n",
    "mean(fof2['Obs'].between_time('06:45','07:45'))"
   ]
  },
  {
   "cell_type": "markdown",
   "metadata": {},
   "source": [
    "Выбор момента времени:"
   ]
  },
  {
   "cell_type": "code",
   "execution_count": 22,
   "metadata": {
    "collapsed": false
   },
   "outputs": [
    {
     "data": {
      "text/html": [
       "<div style=\"max-height:1000px;max-width:1500px;overflow:auto;\">\n",
       "<table border=\"1\" class=\"dataframe\">\n",
       "  <thead>\n",
       "    <tr style=\"text-align: right;\">\n",
       "      <th></th>\n",
       "      <th>Obs</th>\n",
       "      <th>IRTAM</th>\n",
       "      <th>IRI</th>\n",
       "      <th>DifIRTAM</th>\n",
       "      <th>DifIRI</th>\n",
       "      <th>Expand</th>\n",
       "      <th>DifExp</th>\n",
       "      <th>conf</th>\n",
       "    </tr>\n",
       "  </thead>\n",
       "  <tbody>\n",
       "    <tr>\n",
       "      <th>2002-02-07 06:45:00</th>\n",
       "      <td> 5.05</td>\n",
       "      <td> 3.98</td>\n",
       "      <td> 3.65</td>\n",
       "      <td> 1.07</td>\n",
       "      <td> 1.4</td>\n",
       "      <td> 4.78</td>\n",
       "      <td> 0.27</td>\n",
       "      <td> 100</td>\n",
       "    </tr>\n",
       "  </tbody>\n",
       "</table>\n",
       "</div>"
      ],
      "text/plain": [
       "                      Obs  IRTAM   IRI  DifIRTAM  DifIRI  Expand  DifExp  conf\n",
       "2002-02-07 06:45:00  5.05   3.98  3.65      1.07     1.4    4.78    0.27   100"
      ]
     },
     "execution_count": 22,
     "metadata": {},
     "output_type": "execute_result"
    }
   ],
   "source": [
    "fof2.between_time('06:45','06:45') # start time = end time"
   ]
  },
  {
   "cell_type": "code",
   "execution_count": 24,
   "metadata": {
    "collapsed": false
   },
   "outputs": [
    {
     "data": {
      "text/html": [
       "<div style=\"max-height:1000px;max-width:1500px;overflow:auto;\">\n",
       "<table border=\"1\" class=\"dataframe\">\n",
       "  <thead>\n",
       "    <tr style=\"text-align: right;\">\n",
       "      <th></th>\n",
       "      <th>Obs</th>\n",
       "      <th>IRTAM</th>\n",
       "      <th>IRI</th>\n",
       "      <th>DifIRTAM</th>\n",
       "      <th>DifIRI</th>\n",
       "      <th>Expand</th>\n",
       "      <th>DifExp</th>\n",
       "      <th>conf</th>\n",
       "    </tr>\n",
       "  </thead>\n",
       "  <tbody>\n",
       "    <tr>\n",
       "      <th>2002-02-07 06:45:00</th>\n",
       "      <td> 5.05</td>\n",
       "      <td> 3.98</td>\n",
       "      <td> 3.65</td>\n",
       "      <td> 1.07</td>\n",
       "      <td> 1.4</td>\n",
       "      <td> 4.78</td>\n",
       "      <td> 0.27</td>\n",
       "      <td> 100</td>\n",
       "    </tr>\n",
       "  </tbody>\n",
       "</table>\n",
       "</div>"
      ],
      "text/plain": [
       "                      Obs  IRTAM   IRI  DifIRTAM  DifIRI  Expand  DifExp  conf\n",
       "2002-02-07 06:45:00  5.05   3.98  3.65      1.07     1.4    4.78    0.27   100"
      ]
     },
     "execution_count": 24,
     "metadata": {},
     "output_type": "execute_result"
    }
   ],
   "source": [
    "# или \n",
    "fof2.at_time('6:45')"
   ]
  },
  {
   "cell_type": "code",
   "execution_count": null,
   "metadata": {
    "collapsed": false
   },
   "outputs": [],
   "source": []
  }
 ],
 "metadata": {
  "kernelspec": {
   "display_name": "Python 2",
   "language": "python",
   "name": "python2"
  },
  "language_info": {
   "codemirror_mode": {
    "name": "ipython",
    "version": 2
   },
   "file_extension": ".py",
   "mimetype": "text/x-python",
   "name": "python",
   "nbconvert_exporter": "python",
   "pygments_lexer": "ipython2",
   "version": "2.7.10"
  }
 },
 "nbformat": 4,
 "nbformat_minor": 0
}

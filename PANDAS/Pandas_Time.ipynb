{
 "cells": [
  {
   "cell_type": "code",
   "execution_count": 17,
   "metadata": {
    "collapsed": false
   },
   "outputs": [
    {
     "name": "stdout",
     "output_type": "stream",
     "text": [
      "Populating the interactive namespace from numpy and matplotlib\n"
     ]
    }
   ],
   "source": [
    "import pandas as pd\n",
    "import matplotlib\n",
    "%pylab inline"
   ]
  },
  {
   "cell_type": "markdown",
   "metadata": {},
   "source": [
    "### Читаем файл с данными, в которых записаны суточные данные измерений foF2, моделей IRTAM и IRI "
   ]
  },
  {
   "cell_type": "code",
   "execution_count": 18,
   "metadata": {
    "collapsed": false
   },
   "outputs": [],
   "source": [
    "fof2 = pd.read_csv('SMJ67.txt', parse_dates=True,header=0,sep=r'\\s*',index_col='Time')"
   ]
  },
  {
   "cell_type": "code",
   "execution_count": 19,
   "metadata": {
    "collapsed": false
   },
   "outputs": [
    {
     "data": {
      "text/html": [
       "<div>\n",
       "<table border=\"1\" class=\"dataframe\">\n",
       "  <thead>\n",
       "    <tr style=\"text-align: right;\">\n",
       "      <th></th>\n",
       "      <th>Obs</th>\n",
       "      <th>IRTAM</th>\n",
       "      <th>IRI</th>\n",
       "      <th>DifIRTAM</th>\n",
       "      <th>DifIRI</th>\n",
       "      <th>Expand</th>\n",
       "      <th>DifExp</th>\n",
       "      <th>conf</th>\n",
       "    </tr>\n",
       "    <tr>\n",
       "      <th>Time</th>\n",
       "      <th></th>\n",
       "      <th></th>\n",
       "      <th></th>\n",
       "      <th></th>\n",
       "      <th></th>\n",
       "      <th></th>\n",
       "      <th></th>\n",
       "      <th></th>\n",
       "    </tr>\n",
       "  </thead>\n",
       "  <tbody>\n",
       "    <tr>\n",
       "      <th>20020208_00:00</th>\n",
       "      <td>6.53</td>\n",
       "      <td>5.20</td>\n",
       "      <td>4.83</td>\n",
       "      <td>1.34</td>\n",
       "      <td>1.71</td>\n",
       "      <td>6.44</td>\n",
       "      <td>0.09</td>\n",
       "      <td>42</td>\n",
       "    </tr>\n",
       "    <tr>\n",
       "      <th>20020207_00:15</th>\n",
       "      <td>6.45</td>\n",
       "      <td>5.11</td>\n",
       "      <td>4.76</td>\n",
       "      <td>1.34</td>\n",
       "      <td>1.69</td>\n",
       "      <td>6.25</td>\n",
       "      <td>0.20</td>\n",
       "      <td>100</td>\n",
       "    </tr>\n",
       "    <tr>\n",
       "      <th>20020207_00:30</th>\n",
       "      <td>6.30</td>\n",
       "      <td>5.03</td>\n",
       "      <td>4.70</td>\n",
       "      <td>1.27</td>\n",
       "      <td>1.60</td>\n",
       "      <td>6.07</td>\n",
       "      <td>0.23</td>\n",
       "      <td>100</td>\n",
       "    </tr>\n",
       "    <tr>\n",
       "      <th>20020207_00:45</th>\n",
       "      <td>6.35</td>\n",
       "      <td>4.97</td>\n",
       "      <td>4.65</td>\n",
       "      <td>1.38</td>\n",
       "      <td>1.70</td>\n",
       "      <td>5.91</td>\n",
       "      <td>0.44</td>\n",
       "      <td>100</td>\n",
       "    </tr>\n",
       "    <tr>\n",
       "      <th>20020207_01:00</th>\n",
       "      <td>5.80</td>\n",
       "      <td>4.92</td>\n",
       "      <td>4.61</td>\n",
       "      <td>0.88</td>\n",
       "      <td>1.19</td>\n",
       "      <td>5.78</td>\n",
       "      <td>0.02</td>\n",
       "      <td>100</td>\n",
       "    </tr>\n",
       "  </tbody>\n",
       "</table>\n",
       "</div>"
      ],
      "text/plain": [
       "                 Obs  IRTAM   IRI  DifIRTAM  DifIRI  Expand  DifExp  conf\n",
       "Time                                                                     \n",
       "20020208_00:00  6.53   5.20  4.83      1.34    1.71    6.44    0.09    42\n",
       "20020207_00:15  6.45   5.11  4.76      1.34    1.69    6.25    0.20   100\n",
       "20020207_00:30  6.30   5.03  4.70      1.27    1.60    6.07    0.23   100\n",
       "20020207_00:45  6.35   4.97  4.65      1.38    1.70    5.91    0.44   100\n",
       "20020207_01:00  5.80   4.92  4.61      0.88    1.19    5.78    0.02   100"
      ]
     },
     "execution_count": 19,
     "metadata": {},
     "output_type": "execute_result"
    }
   ],
   "source": [
    "fof2.head()\n"
   ]
  },
  {
   "cell_type": "markdown",
   "metadata": {},
   "source": [
    "Дата и время не распознались, поэтому сгенерируем нужные нам дату и время вручную:"
   ]
  },
  {
   "cell_type": "code",
   "execution_count": 20,
   "metadata": {
    "collapsed": false
   },
   "outputs": [
    {
     "data": {
      "text/plain": [
       "DatetimeIndex(['2002-02-07 00:00:00', '2002-02-07 00:15:00',\n",
       "               '2002-02-07 00:30:00'],\n",
       "              dtype='datetime64[ns]', freq='15T', tz=None)"
      ]
     },
     "execution_count": 20,
     "metadata": {},
     "output_type": "execute_result"
    }
   ],
   "source": [
    "dTime=pd.date_range('2002-02-07',periods=96,freq='15min')\n",
    "dTime[:3] # 3 первые строки"
   ]
  },
  {
   "cell_type": "markdown",
   "metadata": {},
   "source": [
    "теперь заменяем индексы на сгенерированные нами даты:"
   ]
  },
  {
   "cell_type": "code",
   "execution_count": 21,
   "metadata": {
    "collapsed": false
   },
   "outputs": [
    {
     "data": {
      "text/html": [
       "<div>\n",
       "<table border=\"1\" class=\"dataframe\">\n",
       "  <thead>\n",
       "    <tr style=\"text-align: right;\">\n",
       "      <th></th>\n",
       "      <th>Obs</th>\n",
       "      <th>IRTAM</th>\n",
       "      <th>IRI</th>\n",
       "      <th>DifIRTAM</th>\n",
       "      <th>DifIRI</th>\n",
       "      <th>Expand</th>\n",
       "      <th>DifExp</th>\n",
       "      <th>conf</th>\n",
       "    </tr>\n",
       "  </thead>\n",
       "  <tbody>\n",
       "    <tr>\n",
       "      <th>2002-02-07 00:00:00</th>\n",
       "      <td>6.53</td>\n",
       "      <td>5.20</td>\n",
       "      <td>4.83</td>\n",
       "      <td>1.34</td>\n",
       "      <td>1.71</td>\n",
       "      <td>6.44</td>\n",
       "      <td>0.09</td>\n",
       "      <td>42</td>\n",
       "    </tr>\n",
       "    <tr>\n",
       "      <th>2002-02-07 00:15:00</th>\n",
       "      <td>6.45</td>\n",
       "      <td>5.11</td>\n",
       "      <td>4.76</td>\n",
       "      <td>1.34</td>\n",
       "      <td>1.69</td>\n",
       "      <td>6.25</td>\n",
       "      <td>0.20</td>\n",
       "      <td>100</td>\n",
       "    </tr>\n",
       "    <tr>\n",
       "      <th>2002-02-07 00:30:00</th>\n",
       "      <td>6.30</td>\n",
       "      <td>5.03</td>\n",
       "      <td>4.70</td>\n",
       "      <td>1.27</td>\n",
       "      <td>1.60</td>\n",
       "      <td>6.07</td>\n",
       "      <td>0.23</td>\n",
       "      <td>100</td>\n",
       "    </tr>\n",
       "    <tr>\n",
       "      <th>2002-02-07 00:45:00</th>\n",
       "      <td>6.35</td>\n",
       "      <td>4.97</td>\n",
       "      <td>4.65</td>\n",
       "      <td>1.38</td>\n",
       "      <td>1.70</td>\n",
       "      <td>5.91</td>\n",
       "      <td>0.44</td>\n",
       "      <td>100</td>\n",
       "    </tr>\n",
       "    <tr>\n",
       "      <th>2002-02-07 01:00:00</th>\n",
       "      <td>5.80</td>\n",
       "      <td>4.92</td>\n",
       "      <td>4.61</td>\n",
       "      <td>0.88</td>\n",
       "      <td>1.19</td>\n",
       "      <td>5.78</td>\n",
       "      <td>0.02</td>\n",
       "      <td>100</td>\n",
       "    </tr>\n",
       "  </tbody>\n",
       "</table>\n",
       "</div>"
      ],
      "text/plain": [
       "                      Obs  IRTAM   IRI  DifIRTAM  DifIRI  Expand  DifExp  conf\n",
       "2002-02-07 00:00:00  6.53   5.20  4.83      1.34    1.71    6.44    0.09    42\n",
       "2002-02-07 00:15:00  6.45   5.11  4.76      1.34    1.69    6.25    0.20   100\n",
       "2002-02-07 00:30:00  6.30   5.03  4.70      1.27    1.60    6.07    0.23   100\n",
       "2002-02-07 00:45:00  6.35   4.97  4.65      1.38    1.70    5.91    0.44   100\n",
       "2002-02-07 01:00:00  5.80   4.92  4.61      0.88    1.19    5.78    0.02   100"
      ]
     },
     "execution_count": 21,
     "metadata": {},
     "output_type": "execute_result"
    }
   ],
   "source": [
    "fof2.index=dTime\n",
    "fof2.head()"
   ]
  },
  {
   "cell_type": "code",
   "execution_count": 29,
   "metadata": {
    "collapsed": false
   },
   "outputs": [
    {
     "data": {
      "text/plain": [
       "<matplotlib.legend.Legend at 0x9395eb0>"
      ]
     },
     "execution_count": 29,
     "metadata": {},
     "output_type": "execute_result"
    },
    {
     "data": {
      "image/png": "[encoded data removed]",
      "text/plain": [
       "<matplotlib.figure.Figure at 0x928e190>"
      ]
     },
     "metadata": {},
     "output_type": "display_data"
    }
   ],
   "source": [
    "fof2['Obs'].plot()\n",
    "fof2['IRTAM'].plot()\n",
    "fof2['IRI'].plot()\n",
    "legend()"
   ]
  },
  {
   "cell_type": "code",
   "execution_count": 23,
   "metadata": {
    "collapsed": false
   },
   "outputs": [
    {
     "data": {
      "text/plain": [
       "6.909166666666668"
      ]
     },
     "execution_count": 23,
     "metadata": {},
     "output_type": "execute_result"
    }
   ],
   "source": [
    "# среднее по столбцу Obs\n",
    "fof2['Obs'].mean()\n"
   ]
  },
  {
   "cell_type": "code",
   "execution_count": 24,
   "metadata": {
    "collapsed": false
   },
   "outputs": [
    {
     "data": {
      "text/plain": [
       "6.49"
      ]
     },
     "execution_count": 24,
     "metadata": {},
     "output_type": "execute_result"
    }
   ],
   "source": [
    "fof2['Obs'].median() # а это медиана"
   ]
  },
  {
   "cell_type": "markdown",
   "metadata": {},
   "source": [
    "Создаем DataFrame в 24 строки, индексируем по дате и времени + столбец с данными"
   ]
  },
  {
   "cell_type": "code",
   "execution_count": 66,
   "metadata": {
    "collapsed": false
   },
   "outputs": [],
   "source": [
    "ObsM = pd.DataFrame(columns=['ObsMed'],index=pd.date_range('20020207',periods=24,freq='H'))"
   ]
  },
  {
   "cell_type": "code",
   "execution_count": 74,
   "metadata": {
    "collapsed": false
   },
   "outputs": [
    {
     "data": {
      "text/plain": [
       "<matplotlib.legend.Legend at 0xcaf7f90>"
      ]
     },
     "execution_count": 74,
     "metadata": {},
     "output_type": "execute_result"
    },
    {
     "data": {
      "image/png": "[encoded data removed]",
      "text/plain": [
       "<matplotlib.figure.Figure at 0xc930e70>"
      ]
     },
     "metadata": {},
     "output_type": "display_data"
    }
   ],
   "source": [
    "# вычисляем средние значения за час\n",
    "for i in range(24):\n",
    "    ObsM[ObsM.index.hour==i]=fof2.Obs[fof2.index.hour==i].mean()\n",
    "\n",
    "fof2['Obs'].plot()\n",
    "ObsM['ObsMed'].plot()\n",
    "legend()"
   ]
  },
  {
   "cell_type": "markdown",
   "metadata": {},
   "source": [
    "Выбор интервала времени из таблицы"
   ]
  },
  {
   "cell_type": "code",
   "execution_count": 25,
   "metadata": {
    "collapsed": false
   },
   "outputs": [
    {
     "data": {
      "text/html": [
       "<div>\n",
       "<table border=\"1\" class=\"dataframe\">\n",
       "  <thead>\n",
       "    <tr style=\"text-align: right;\">\n",
       "      <th></th>\n",
       "      <th>Obs</th>\n",
       "      <th>IRTAM</th>\n",
       "      <th>IRI</th>\n",
       "      <th>DifIRTAM</th>\n",
       "      <th>DifIRI</th>\n",
       "      <th>Expand</th>\n",
       "      <th>DifExp</th>\n",
       "      <th>conf</th>\n",
       "    </tr>\n",
       "  </thead>\n",
       "  <tbody>\n",
       "    <tr>\n",
       "      <th>2002-02-07 06:45:00</th>\n",
       "      <td>5.05</td>\n",
       "      <td>3.98</td>\n",
       "      <td>3.65</td>\n",
       "      <td>1.07</td>\n",
       "      <td>1.40</td>\n",
       "      <td>4.78</td>\n",
       "      <td>0.27</td>\n",
       "      <td>100</td>\n",
       "    </tr>\n",
       "    <tr>\n",
       "      <th>2002-02-07 07:00:00</th>\n",
       "      <td>4.93</td>\n",
       "      <td>3.94</td>\n",
       "      <td>3.59</td>\n",
       "      <td>0.99</td>\n",
       "      <td>1.34</td>\n",
       "      <td>4.81</td>\n",
       "      <td>0.12</td>\n",
       "      <td>42</td>\n",
       "    </tr>\n",
       "    <tr>\n",
       "      <th>2002-02-07 07:15:00</th>\n",
       "      <td>4.70</td>\n",
       "      <td>3.91</td>\n",
       "      <td>3.54</td>\n",
       "      <td>0.79</td>\n",
       "      <td>1.16</td>\n",
       "      <td>4.85</td>\n",
       "      <td>-0.15</td>\n",
       "      <td>100</td>\n",
       "    </tr>\n",
       "    <tr>\n",
       "      <th>2002-02-07 07:30:00</th>\n",
       "      <td>4.95</td>\n",
       "      <td>3.90</td>\n",
       "      <td>3.50</td>\n",
       "      <td>1.05</td>\n",
       "      <td>1.45</td>\n",
       "      <td>4.89</td>\n",
       "      <td>0.06</td>\n",
       "      <td>100</td>\n",
       "    </tr>\n",
       "    <tr>\n",
       "      <th>2002-02-07 07:45:00</th>\n",
       "      <td>4.75</td>\n",
       "      <td>3.91</td>\n",
       "      <td>3.49</td>\n",
       "      <td>0.84</td>\n",
       "      <td>1.26</td>\n",
       "      <td>4.93</td>\n",
       "      <td>-0.18</td>\n",
       "      <td>100</td>\n",
       "    </tr>\n",
       "  </tbody>\n",
       "</table>\n",
       "</div>"
      ],
      "text/plain": [
       "                      Obs  IRTAM   IRI  DifIRTAM  DifIRI  Expand  DifExp  conf\n",
       "2002-02-07 06:45:00  5.05   3.98  3.65      1.07    1.40    4.78    0.27   100\n",
       "2002-02-07 07:00:00  4.93   3.94  3.59      0.99    1.34    4.81    0.12    42\n",
       "2002-02-07 07:15:00  4.70   3.91  3.54      0.79    1.16    4.85   -0.15   100\n",
       "2002-02-07 07:30:00  4.95   3.90  3.50      1.05    1.45    4.89    0.06   100\n",
       "2002-02-07 07:45:00  4.75   3.91  3.49      0.84    1.26    4.93   -0.18   100"
      ]
     },
     "execution_count": 25,
     "metadata": {},
     "output_type": "execute_result"
    }
   ],
   "source": [
    "fof2.between_time('06:45','07:45')\n"
   ]
  },
  {
   "cell_type": "code",
   "execution_count": 26,
   "metadata": {
    "collapsed": false
   },
   "outputs": [
    {
     "data": {
      "text/plain": [
       "4.8759999999999994"
      ]
     },
     "execution_count": 26,
     "metadata": {},
     "output_type": "execute_result"
    }
   ],
   "source": [
    "# вычисление среднего\n",
    "mean(fof2['Obs'].between_time('06:45','07:45'))"
   ]
  },
  {
   "cell_type": "markdown",
   "metadata": {},
   "source": [
    "Выбор момента времени:"
   ]
  },
  {
   "cell_type": "code",
   "execution_count": 27,
   "metadata": {
    "collapsed": false
   },
   "outputs": [
    {
     "data": {
      "text/html": [
       "<div>\n",
       "<table border=\"1\" class=\"dataframe\">\n",
       "  <thead>\n",
       "    <tr style=\"text-align: right;\">\n",
       "      <th></th>\n",
       "      <th>Obs</th>\n",
       "      <th>IRTAM</th>\n",
       "      <th>IRI</th>\n",
       "      <th>DifIRTAM</th>\n",
       "      <th>DifIRI</th>\n",
       "      <th>Expand</th>\n",
       "      <th>DifExp</th>\n",
       "      <th>conf</th>\n",
       "    </tr>\n",
       "  </thead>\n",
       "  <tbody>\n",
       "    <tr>\n",
       "      <th>2002-02-07 06:45:00</th>\n",
       "      <td>5.05</td>\n",
       "      <td>3.98</td>\n",
       "      <td>3.65</td>\n",
       "      <td>1.07</td>\n",
       "      <td>1.4</td>\n",
       "      <td>4.78</td>\n",
       "      <td>0.27</td>\n",
       "      <td>100</td>\n",
       "    </tr>\n",
       "  </tbody>\n",
       "</table>\n",
       "</div>"
      ],
      "text/plain": [
       "                      Obs  IRTAM   IRI  DifIRTAM  DifIRI  Expand  DifExp  conf\n",
       "2002-02-07 06:45:00  5.05   3.98  3.65      1.07     1.4    4.78    0.27   100"
      ]
     },
     "execution_count": 27,
     "metadata": {},
     "output_type": "execute_result"
    }
   ],
   "source": [
    "fof2.between_time('06:45','06:45') # start time = end time"
   ]
  },
  {
   "cell_type": "code",
   "execution_count": 28,
   "metadata": {
    "collapsed": false
   },
   "outputs": [
    {
     "data": {
      "text/html": [
       "<div>\n",
       "<table border=\"1\" class=\"dataframe\">\n",
       "  <thead>\n",
       "    <tr style=\"text-align: right;\">\n",
       "      <th></th>\n",
       "      <th>Obs</th>\n",
       "      <th>IRTAM</th>\n",
       "      <th>IRI</th>\n",
       "      <th>DifIRTAM</th>\n",
       "      <th>DifIRI</th>\n",
       "      <th>Expand</th>\n",
       "      <th>DifExp</th>\n",
       "      <th>conf</th>\n",
       "    </tr>\n",
       "  </thead>\n",
       "  <tbody>\n",
       "    <tr>\n",
       "      <th>2002-02-07 06:45:00</th>\n",
       "      <td>5.05</td>\n",
       "      <td>3.98</td>\n",
       "      <td>3.65</td>\n",
       "      <td>1.07</td>\n",
       "      <td>1.4</td>\n",
       "      <td>4.78</td>\n",
       "      <td>0.27</td>\n",
       "      <td>100</td>\n",
       "    </tr>\n",
       "  </tbody>\n",
       "</table>\n",
       "</div>"
      ],
      "text/plain": [
       "                      Obs  IRTAM   IRI  DifIRTAM  DifIRI  Expand  DifExp  conf\n",
       "2002-02-07 06:45:00  5.05   3.98  3.65      1.07     1.4    4.78    0.27   100"
      ]
     },
     "execution_count": 28,
     "metadata": {},
     "output_type": "execute_result"
    }
   ],
   "source": [
    "# или \n",
    "fof2.at_time('6:45')"
   ]
  },
  {
   "cell_type": "code",
   "execution_count": null,
   "metadata": {
    "collapsed": false
   },
   "outputs": [],
   "source": []
  }
 ],
 "metadata": {
  "kernelspec": {
   "display_name": "Python 2",
   "language": "python",
   "name": "python2"
  },
  "language_info": {
   "codemirror_mode": {
    "name": "ipython",
    "version": 2
   },
   "file_extension": ".py",
   "mimetype": "text/x-python",
   "name": "python",
   "nbconvert_exporter": "python",
   "pygments_lexer": "ipython2",
   "version": "2.7.10"
  }
 },
 "nbformat": 4,
 "nbformat_minor": 0
}

{
 "cells": [
  {
   "cell_type": "code",
   "execution_count": 1,
   "metadata": {},
   "outputs": [],
   "source": [
    "import matplotlib.pyplot as plt\n",
    "from matplotlib import cm\n",
    "import scipy.signal as signal\n",
    "import numpy as np\n",
    "%matplotlib inline"
   ]
  },
  {
   "cell_type": "code",
   "execution_count": 2,
   "metadata": {},
   "outputs": [
    {
     "name": "stdout",
     "output_type": "stream",
     "text": [
      "62.0772362180806 50 1000\n"
     ]
    }
   ],
   "source": [
    "#First define some input parameters for the signal:\n",
    "#\n",
    "A = 2.\n",
    "w = 1.\n",
    "phi = 0.5 * np.pi\n",
    "nin = 1000\n",
    "nout = 1000\n",
    "frac_points = 0.95 # Fraction of points to select\n",
    "\n",
    "#Randomly select a fraction of an array with timesteps:\n",
    "r = np.random.rand(nin)\n",
    "xt = np.linspace(0.01, 20*np.pi, nin)\n",
    "#print(len(x))\n",
    "#dx=x[1]-x[0]\n",
    "dx=(10.*np.pi-0.01)/(nin-1)\n",
    "x = xt[r >= frac_points]\n",
    "print(x[len(x)-1],len(x),len(xt))"
   ]
  },
  {
   "cell_type": "code",
   "execution_count": 3,
   "metadata": {},
   "outputs": [
    {
     "name": "stdout",
     "output_type": "stream",
     "text": [
      "1000 1000\n"
     ]
    }
   ],
   "source": [
    "#Plot a sine wave for the selected times:\n",
    "\n",
    "y = A * np.sin(w*x+phi)\n",
    "\n",
    "# Define the array of frequencies for which to compute the periodogram:\n",
    "min_fraq=1./x[len(x)-1]\n",
    "max_fraq=1./(2.*dx)\n",
    "#f = np.linspace(0.01, 4., nout)\n",
    "f = np.linspace(min_fraq, max_fraq, nout)\n",
    "\n",
    "#Calculate Lomb-Scargle periodogram:\n",
    "#pgram = signal.lombscargle(x, y, f, normalize=False)\n",
    "pgram = signal.lombscargle(x, y, f)#,normalize=True)\n",
    "print(len(f),len(pgram))"
   ]
  },
  {
   "cell_type": "code",
   "execution_count": 4,
   "metadata": {},
   "outputs": [
    {
     "data": {
      "image/png": "[encoded data removed]",
      "text/plain": [
       "<Figure size 432x288 with 2 Axes>"
      ]
     },
     "metadata": {
      "needs_background": "light"
     },
     "output_type": "display_data"
    }
   ],
   "source": [
    "#Now make a plot of the input data:\n",
    "\n",
    "plt.subplot(2, 1, 1)\n",
    "plt.plot(x, y, 'b+')\n",
    "\n",
    "#Then plot the normalized periodogram:\n",
    "\n",
    "plt.subplot(2, 1, 2)\n",
    "plt.plot(f, pgram)\n",
    "plt.savefig(\"fig1.png\")"
   ]
  },
  {
   "cell_type": "code",
   "execution_count": 5,
   "metadata": {},
   "outputs": [
    {
     "data": {
      "text/plain": [
       "[<matplotlib.lines.Line2D at 0x985ff70>]"
      ]
     },
     "execution_count": 5,
     "metadata": {},
     "output_type": "execute_result"
    },
    {
     "data": {
      "image/png": "[encoded data removed]",
      "text/plain": [
       "<Figure size 432x288 with 1 Axes>"
      ]
     },
     "metadata": {
      "needs_background": "light"
     },
     "output_type": "display_data"
    }
   ],
   "source": [
    "period=[]\n",
    "period=2.*np.pi/f\n",
    "#plt.plot(period,'x')\n",
    "#plt.axis([4,8,0,1])\n",
    "plt.plot(period[40:-40],pgram[40:-40])"
   ]
  },
  {
   "cell_type": "markdown",
   "metadata": {},
   "source": [
    "## WINDOW LS transform"
   ]
  },
  {
   "cell_type": "code",
   "execution_count": 15,
   "metadata": {},
   "outputs": [
    {
     "name": "stdout",
     "output_type": "stream",
     "text": [
      "0.5659626402864493\n",
      "0.25153895123842196\n",
      "0.3144236890480274\n",
      "0.3144236890480272\n",
      "1.1948100183825041\n",
      "0.3144236890480272\n",
      "0.5030779024768437\n",
      "0.4401931646672388\n",
      "1.194810018382504\n",
      "1.9494268720977699\n",
      "1.6978879208593476\n",
      "1.3205794940017146\n",
      "0.377308426857633\n",
      "0.9432710671440816\n",
      "1.509233707430532\n",
      "2.4525047745746136\n",
      "3.8988537441955415\n",
      "0.5659626402864504\n",
      "1.3205794940017128\n",
      "0.06288473780960757\n",
      "0.3773084268576312\n",
      "1.0690405427632932\n",
      "1.2576947561921088\n",
      "0.754616853715266\n",
      "0.4401931646672388\n",
      "3.9617384820051456\n",
      "0.2515389512384232\n",
      "1.3205794940017128\n",
      "0.754616853715266\n",
      "0.5659626402864433\n",
      "2.1380810855265864\n",
      "0.8175015915248736\n",
      "0.6288473780960544\n",
      "1.6978879208593511\n",
      "2.2638505611457944\n",
      "0.18865421342881916\n",
      "0.8175015915248665\n",
      "3.5844300551475143\n",
      "0.2515389512384232\n",
      "0.2515389512384232\n",
      "2.7040437258130297\n",
      "2.1380810855265864\n",
      "2.3896200367650096\n",
      "3.270006366099487\n",
      "2.2638505611457944\n",
      "1.572118445240136\n",
      "1.6978879208593511\n",
      "0.06288473780960402\n",
      "1.0061558049536856\n"
     ]
    }
   ],
   "source": [
    "nx=len(x)\n",
    "for i in range(nx-1):\n",
    "    print(x[i+1]-x[i])"
   ]
  },
  {
   "cell_type": "code",
   "execution_count": 7,
   "metadata": {},
   "outputs": [],
   "source": [
    "# window size\n",
    "w_size=3.*np.pi\n",
    "# number of points in windows\n",
    "w_num=int(w_size/dx)\n",
    "# number of  \n",
    "w_frec=len(x)-1"
   ]
  },
  {
   "cell_type": "code",
   "execution_count": 8,
   "metadata": {},
   "outputs": [],
   "source": [
    "\n",
    "bord=[]\n",
    "i_st_end=np.zeros(2).astype(int)\n",
    "jstart=0\n",
    "jend=0\n",
    "# search windows\n",
    "for i in range(0,nin-w_num-1): # цикл по всем точкам xt\n",
    "   \n",
    "    ix_start=i\n",
    "    ix_end=i+w_num\n",
    "    x_s=xt[ix_start]\n",
    "    x_e=xt[ix_end]\n",
    "    #print(i,x_s,x_e)\n",
    "    #print(i_st_end)\n",
    "    while(x_s > x[jstart]):\n",
    "        jstart=jstart+1\n",
    "        jend=jstart\n",
    "        #print(jstart)\n",
    "    while (x_e > x[jend]):\n",
    "        jend=jend+1\n",
    "        if(jend>w_frec):\n",
    "            jend=w_frec\n",
    "            break\n",
    "         \n",
    "        \n",
    "    bord.append([jstart,jend])\n",
    "    "
   ]
  },
  {
   "cell_type": "code",
   "execution_count": 9,
   "metadata": {},
   "outputs": [],
   "source": [
    "# massive of spectrogramm\n",
    "\n",
    "w_spectr=len(bord)\n",
    "win_fraq_min=1./w_size\n",
    "win_fraq_max=1./(2.*dx)\n",
    "i_df=int((win_fraq_max-win_fraq_min)/win_fraq_min)+1\n",
    "freq=np.arange(win_fraq_min,win_fraq_max,win_fraq_min)\n",
    "#print(freq,len(bord))\n",
    "m_LS=np.zeros(i_df*w_spectr).reshape(i_df,w_spectr)\n",
    "\n",
    "# window LS transform\n",
    "\n",
    "i=0\n",
    "for gran in bord:\n",
    "    i_st=gran[0]\n",
    "    i_en=gran[1]\n",
    "    m_LS[0:i_df,i]=signal.lombscargle(x[i_st:i_en], y[i_st:i_en], freq)#,normalize=True)\n",
    "    i=i+1\n",
    "    \n",
    "         \n",
    "        "
   ]
  },
  {
   "cell_type": "code",
   "execution_count": 10,
   "metadata": {},
   "outputs": [
    {
     "name": "stdout",
     "output_type": "stream",
     "text": [
      "700 700 149 149\n"
     ]
    },
    {
     "data": {
      "image/png": "[encoded data removed]",
      "text/plain": [
       "<Figure size 432x288 with 2 Axes>"
      ]
     },
     "metadata": {
      "needs_background": "light"
     },
     "output_type": "display_data"
    }
   ],
   "source": [
    "print(len(xt[:-w_num-1]),len(m_LS[0,:]),len(m_LS[:,0]),len(freq))\n",
    "lev=np.arange(8,16,2)\n",
    "plt.contourf(xt[:-w_num-1],freq[:-50],m_LS[:-50,:],levels=lev,cmap=cm.rainbow)\n",
    "\n",
    "plt.colorbar()\n",
    "plt.savefig(\"LS\"+str(w_size).format(\"6.2f\")+\".png\")"
   ]
  },
  {
   "cell_type": "code",
   "execution_count": 11,
   "metadata": {},
   "outputs": [
    {
     "data": {
      "text/plain": [
       "[<matplotlib.lines.Line2D at 0xa96e250>]"
      ]
     },
     "execution_count": 11,
     "metadata": {},
     "output_type": "execute_result"
    },
    {
     "data": {
      "image/png": "[encoded data removed]",
      "text/plain": [
       "<Figure size 432x288 with 1 Axes>"
      ]
     },
     "metadata": {
      "needs_background": "light"
     },
     "output_type": "display_data"
    }
   ],
   "source": [
    "plt.plot(x,'b+-')"
   ]
  },
  {
   "cell_type": "code",
   "execution_count": null,
   "metadata": {},
   "outputs": [],
   "source": []
  }
 ],
 "metadata": {
  "kernelspec": {
   "display_name": "Python 3",
   "language": "python",
   "name": "python3"
  },
  "language_info": {
   "codemirror_mode": {
    "name": "ipython",
    "version": 3
   },
   "file_extension": ".py",
   "mimetype": "text/x-python",
   "name": "python",
   "nbconvert_exporter": "python",
   "pygments_lexer": "ipython3",
   "version": "3.8.5"
  }
 },
 "nbformat": 4,
 "nbformat_minor": 4
}

{
 "cells": [
  {
   "cell_type": "markdown",
   "metadata": {},
   "source": [
    "# Kp - Ap - индексы геомагнитной активности"
   ]
  },
  {
   "cell_type": "code",
   "execution_count": 73,
   "metadata": {
    "collapsed": true
   },
   "outputs": [],
   "source": [
    "import pandas as pd\n",
    "import numpy\n",
    "import math"
   ]
  },
  {
   "cell_type": "code",
   "execution_count": 74,
   "metadata": {},
   "outputs": [
    {
     "name": "stdout",
     "output_type": "stream",
     "text": [
      "Populating the interactive namespace from numpy and matplotlib\n"
     ]
    }
   ],
   "source": [
    "%pylab inline"
   ]
  },
  {
   "cell_type": "code",
   "execution_count": 75,
   "metadata": {},
   "outputs": [],
   "source": [
    "kp_index = pd.read_table('kp.txt', parse_dates=True,skiprows=1,sep=r'\\s*')"
   ]
  },
  {
   "cell_type": "code",
   "execution_count": 76,
   "metadata": {
    "scrolled": true
   },
   "outputs": [
    {
     "data": {
      "text/html": [
       "<div>\n",
       "<table border=\"1\" class=\"dataframe\">\n",
       "  <thead>\n",
       "    <tr style=\"text-align: right;\">\n",
       "      <th></th>\n",
       "      <th>20121201</th>\n",
       "      <th>1</th>\n",
       "      <th>1.1</th>\n",
       "      <th>0+</th>\n",
       "      <th>0+.1</th>\n",
       "      <th>1-</th>\n",
       "      <th>1-.1</th>\n",
       "      <th>2+</th>\n",
       "      <th>2+.1</th>\n",
       "      <th>9-</th>\n",
       "      <th>4</th>\n",
       "      <th>4.1</th>\n",
       "      <th>2</th>\n",
       "      <th>2.1</th>\n",
       "      <th>3</th>\n",
       "      <th>3.1</th>\n",
       "      <th>9</th>\n",
       "      <th>9.1</th>\n",
       "      <th>4.2</th>\n",
       "    </tr>\n",
       "  </thead>\n",
       "  <tbody>\n",
       "    <tr>\n",
       "      <th>0</th>\n",
       "      <td>20121202</td>\n",
       "      <td>3-</td>\n",
       "      <td>3-</td>\n",
       "      <td>3-</td>\n",
       "      <td>3-</td>\n",
       "      <td>2</td>\n",
       "      <td>1-</td>\n",
       "      <td>0+</td>\n",
       "      <td>0</td>\n",
       "      <td>14-</td>\n",
       "      <td>12</td>\n",
       "      <td>12</td>\n",
       "      <td>12</td>\n",
       "      <td>12</td>\n",
       "      <td>7</td>\n",
       "      <td>3</td>\n",
       "      <td>2</td>\n",
       "      <td>0</td>\n",
       "      <td>8</td>\n",
       "    </tr>\n",
       "    <tr>\n",
       "      <th>1</th>\n",
       "      <td>20121203</td>\n",
       "      <td>0+</td>\n",
       "      <td>1</td>\n",
       "      <td>1+</td>\n",
       "      <td>1-</td>\n",
       "      <td>1</td>\n",
       "      <td>1</td>\n",
       "      <td>1-</td>\n",
       "      <td>1+</td>\n",
       "      <td>7+</td>\n",
       "      <td>2</td>\n",
       "      <td>4</td>\n",
       "      <td>5</td>\n",
       "      <td>3</td>\n",
       "      <td>4</td>\n",
       "      <td>4</td>\n",
       "      <td>3</td>\n",
       "      <td>5</td>\n",
       "      <td>4</td>\n",
       "    </tr>\n",
       "    <tr>\n",
       "      <th>2</th>\n",
       "      <td>20121204</td>\n",
       "      <td>1+</td>\n",
       "      <td>3-</td>\n",
       "      <td>2</td>\n",
       "      <td>0+</td>\n",
       "      <td>0+</td>\n",
       "      <td>0</td>\n",
       "      <td>0+</td>\n",
       "      <td>0</td>\n",
       "      <td>7</td>\n",
       "      <td>5</td>\n",
       "      <td>12</td>\n",
       "      <td>7</td>\n",
       "      <td>2</td>\n",
       "      <td>2</td>\n",
       "      <td>0</td>\n",
       "      <td>2</td>\n",
       "      <td>0</td>\n",
       "      <td>4</td>\n",
       "    </tr>\n",
       "    <tr>\n",
       "      <th>3</th>\n",
       "      <td>20121205</td>\n",
       "      <td>0</td>\n",
       "      <td>0</td>\n",
       "      <td>0</td>\n",
       "      <td>0+</td>\n",
       "      <td>0</td>\n",
       "      <td>0</td>\n",
       "      <td>1-</td>\n",
       "      <td>1+</td>\n",
       "      <td>2+</td>\n",
       "      <td>0</td>\n",
       "      <td>0</td>\n",
       "      <td>0</td>\n",
       "      <td>2</td>\n",
       "      <td>0</td>\n",
       "      <td>0</td>\n",
       "      <td>3</td>\n",
       "      <td>5</td>\n",
       "      <td>1</td>\n",
       "    </tr>\n",
       "    <tr>\n",
       "      <th>4</th>\n",
       "      <td>20121206</td>\n",
       "      <td>0</td>\n",
       "      <td>0</td>\n",
       "      <td>0</td>\n",
       "      <td>0+</td>\n",
       "      <td>0+</td>\n",
       "      <td>0</td>\n",
       "      <td>0</td>\n",
       "      <td>0</td>\n",
       "      <td>1-</td>\n",
       "      <td>0</td>\n",
       "      <td>0</td>\n",
       "      <td>0</td>\n",
       "      <td>2</td>\n",
       "      <td>2</td>\n",
       "      <td>0</td>\n",
       "      <td>0</td>\n",
       "      <td>0</td>\n",
       "      <td>0</td>\n",
       "    </tr>\n",
       "  </tbody>\n",
       "</table>\n",
       "</div>"
      ],
      "text/plain": [
       "   20121201   1 1.1  0+ 0+.1  1- 1-.1  2+ 2+.1   9-   4  4.1   2  2.1  3  3.1  \\\n",
       "0  20121202  3-  3-  3-   3-   2   1-  0+    0  14-  12   12  12   12  7    3   \n",
       "1  20121203  0+   1  1+   1-   1    1  1-   1+   7+   2    4   5    3  4    4   \n",
       "2  20121204  1+  3-   2   0+  0+    0  0+    0    7   5   12   7    2  2    0   \n",
       "3  20121205   0   0   0   0+   0    0  1-   1+   2+   0    0   0    2  0    0   \n",
       "4  20121206   0   0   0   0+  0+    0   0    0   1-   0    0   0    2  2    0   \n",
       "\n",
       "   9  9.1  4.2  \n",
       "0  2    0    8  \n",
       "1  3    5    4  \n",
       "2  2    0    4  \n",
       "3  3    5    1  \n",
       "4  0    0    0  "
      ]
     },
     "execution_count": 76,
     "metadata": {},
     "output_type": "execute_result"
    }
   ],
   "source": [
    "# значение Kp - в баллах (символьная переменная) - трехчасовой индекс, Ap - в наноТеслах (число)\n",
    "kp_index.head()"
   ]
  },
  {
   "cell_type": "code",
   "execution_count": 77,
   "metadata": {},
   "outputs": [],
   "source": [
    "# переименуем столбцы\n",
    "kp=kp_index.rename(columns={'20121201':'Date','1':'Kp_1','1.1':'Kp_2','0+':'Kp_3','0+.1':'Kp_4','1-':'Kp_5','1-.1':'Kp_6','2+':'Kp_7','2+.1':'Kp_8','9-':'SumKp','4':'ap_1','4.1':'ap_2','2':'ap_3','2.1':'ap_4','3':'ap_5','3.1':'ap_6','9':'ap_7','9.1':'ap_8','4.2':'Av_ap'})"
   ]
  },
  {
   "cell_type": "code",
   "execution_count": 78,
   "metadata": {},
   "outputs": [
    {
     "data": {
      "text/html": [
       "<div>\n",
       "<table border=\"1\" class=\"dataframe\">\n",
       "  <thead>\n",
       "    <tr style=\"text-align: right;\">\n",
       "      <th></th>\n",
       "      <th>Date</th>\n",
       "      <th>Kp_1</th>\n",
       "      <th>Kp_2</th>\n",
       "      <th>Kp_3</th>\n",
       "      <th>Kp_4</th>\n",
       "      <th>Kp_5</th>\n",
       "      <th>Kp_6</th>\n",
       "      <th>Kp_7</th>\n",
       "      <th>Kp_8</th>\n",
       "      <th>SumKp</th>\n",
       "      <th>ap_1</th>\n",
       "      <th>ap_2</th>\n",
       "      <th>ap_3</th>\n",
       "      <th>ap_4</th>\n",
       "      <th>ap_5</th>\n",
       "      <th>ap_6</th>\n",
       "      <th>ap_7</th>\n",
       "      <th>ap_8</th>\n",
       "      <th>Av_ap</th>\n",
       "    </tr>\n",
       "  </thead>\n",
       "  <tbody>\n",
       "    <tr>\n",
       "      <th>0</th>\n",
       "      <td>20121202</td>\n",
       "      <td>3-</td>\n",
       "      <td>3-</td>\n",
       "      <td>3-</td>\n",
       "      <td>3-</td>\n",
       "      <td>2</td>\n",
       "      <td>1-</td>\n",
       "      <td>0+</td>\n",
       "      <td>0</td>\n",
       "      <td>14-</td>\n",
       "      <td>12</td>\n",
       "      <td>12</td>\n",
       "      <td>12</td>\n",
       "      <td>12</td>\n",
       "      <td>7</td>\n",
       "      <td>3</td>\n",
       "      <td>2</td>\n",
       "      <td>0</td>\n",
       "      <td>8</td>\n",
       "    </tr>\n",
       "    <tr>\n",
       "      <th>1</th>\n",
       "      <td>20121203</td>\n",
       "      <td>0+</td>\n",
       "      <td>1</td>\n",
       "      <td>1+</td>\n",
       "      <td>1-</td>\n",
       "      <td>1</td>\n",
       "      <td>1</td>\n",
       "      <td>1-</td>\n",
       "      <td>1+</td>\n",
       "      <td>7+</td>\n",
       "      <td>2</td>\n",
       "      <td>4</td>\n",
       "      <td>5</td>\n",
       "      <td>3</td>\n",
       "      <td>4</td>\n",
       "      <td>4</td>\n",
       "      <td>3</td>\n",
       "      <td>5</td>\n",
       "      <td>4</td>\n",
       "    </tr>\n",
       "    <tr>\n",
       "      <th>2</th>\n",
       "      <td>20121204</td>\n",
       "      <td>1+</td>\n",
       "      <td>3-</td>\n",
       "      <td>2</td>\n",
       "      <td>0+</td>\n",
       "      <td>0+</td>\n",
       "      <td>0</td>\n",
       "      <td>0+</td>\n",
       "      <td>0</td>\n",
       "      <td>7</td>\n",
       "      <td>5</td>\n",
       "      <td>12</td>\n",
       "      <td>7</td>\n",
       "      <td>2</td>\n",
       "      <td>2</td>\n",
       "      <td>0</td>\n",
       "      <td>2</td>\n",
       "      <td>0</td>\n",
       "      <td>4</td>\n",
       "    </tr>\n",
       "    <tr>\n",
       "      <th>3</th>\n",
       "      <td>20121205</td>\n",
       "      <td>0</td>\n",
       "      <td>0</td>\n",
       "      <td>0</td>\n",
       "      <td>0+</td>\n",
       "      <td>0</td>\n",
       "      <td>0</td>\n",
       "      <td>1-</td>\n",
       "      <td>1+</td>\n",
       "      <td>2+</td>\n",
       "      <td>0</td>\n",
       "      <td>0</td>\n",
       "      <td>0</td>\n",
       "      <td>2</td>\n",
       "      <td>0</td>\n",
       "      <td>0</td>\n",
       "      <td>3</td>\n",
       "      <td>5</td>\n",
       "      <td>1</td>\n",
       "    </tr>\n",
       "    <tr>\n",
       "      <th>4</th>\n",
       "      <td>20121206</td>\n",
       "      <td>0</td>\n",
       "      <td>0</td>\n",
       "      <td>0</td>\n",
       "      <td>0+</td>\n",
       "      <td>0+</td>\n",
       "      <td>0</td>\n",
       "      <td>0</td>\n",
       "      <td>0</td>\n",
       "      <td>1-</td>\n",
       "      <td>0</td>\n",
       "      <td>0</td>\n",
       "      <td>0</td>\n",
       "      <td>2</td>\n",
       "      <td>2</td>\n",
       "      <td>0</td>\n",
       "      <td>0</td>\n",
       "      <td>0</td>\n",
       "      <td>0</td>\n",
       "    </tr>\n",
       "  </tbody>\n",
       "</table>\n",
       "</div>"
      ],
      "text/plain": [
       "       Date Kp_1 Kp_2 Kp_3 Kp_4 Kp_5 Kp_6 Kp_7 Kp_8 SumKp  ap_1  ap_2  ap_3  \\\n",
       "0  20121202   3-   3-   3-   3-    2   1-   0+    0   14-    12    12    12   \n",
       "1  20121203   0+    1   1+   1-    1    1   1-   1+    7+     2     4     5   \n",
       "2  20121204   1+   3-    2   0+   0+    0   0+    0     7     5    12     7   \n",
       "3  20121205    0    0    0   0+    0    0   1-   1+    2+     0     0     0   \n",
       "4  20121206    0    0    0   0+   0+    0    0    0    1-     0     0     0   \n",
       "\n",
       "   ap_4  ap_5  ap_6  ap_7  ap_8  Av_ap  \n",
       "0    12     7     3     2     0      8  \n",
       "1     3     4     4     3     5      4  \n",
       "2     2     2     0     2     0      4  \n",
       "3     2     0     0     3     5      1  \n",
       "4     2     2     0     0     0      0  "
      ]
     },
     "execution_count": 78,
     "metadata": {},
     "output_type": "execute_result"
    }
   ],
   "source": [
    "kp.head()"
   ]
  },
  {
   "cell_type": "code",
   "execution_count": 79,
   "metadata": {},
   "outputs": [
    {
     "data": {
      "text/plain": [
       "<matplotlib.axes._subplots.AxesSubplot at 0xb055a70>"
      ]
     },
     "execution_count": 79,
     "metadata": {},
     "output_type": "execute_result"
    },
    {
     "data": {
      "image/png": "[encoded data removed]",
      "text/plain": [
       "<matplotlib.figure.Figure at 0xafbf110>"
      ]
     },
     "metadata": {},
     "output_type": "display_data"
    }
   ],
   "source": [
    "# строим среднесуточное значенеие\n",
    "kp['Av_ap'].plot()"
   ]
  },
  {
   "cell_type": "code",
   "execution_count": 80,
   "metadata": {},
   "outputs": [
    {
     "data": {
      "text/plain": [
       "4.7191011235955056"
      ]
     },
     "execution_count": 80,
     "metadata": {},
     "output_type": "execute_result"
    }
   ],
   "source": [
    "# создаем massiv Apdaily размерности N\n",
    "N=kp.shape[0]\n",
    "N\n",
    "t=zeros(N)\n",
    "Ap=zeros(N)\n",
    "Ap=kp['Av_ap']\n",
    "M=N/2\n",
    "\n",
    "A=zeros(N)\n",
    "B=zeros(N)\n",
    "A[0]=Ap.mean()\n",
    "B[0]=0.\n",
    "A[0]"
   ]
  },
  {
   "cell_type": "code",
   "execution_count": 81,
   "metadata": {},
   "outputs": [],
   "source": [
    "# интервал в сутках\n",
    "dt=1.\n",
    "t=arange(N)"
   ]
  },
  {
   "cell_type": "code",
   "execution_count": 82,
   "metadata": {},
   "outputs": [],
   "source": [
    "# периоды для Фурье разложения\n",
    "T=zeros(N)\n",
    "# частоты\n",
    "w=zeros(N)\n",
    "dw=2.*pi/(T)\n",
    "for k in range(1,N):\n",
    "    sumA=0.\n",
    "    sumB=0.\n",
    "    T[k]=T[k-1]+dt\n",
    "    for i in range(0,N):\n",
    "        sumA=sumA+Ap[i]*cos(2.*pi/T[k]*t[i])\n",
    "        sumB=sumB+Ap[i]*sin(2.*pi/T[k]*t[i])\n",
    "    A[k]=2./N*sumA\n",
    "    B[k]=2./N*sumB"
   ]
  },
  {
   "cell_type": "code",
   "execution_count": 83,
   "metadata": {},
   "outputs": [
    {
     "data": {
      "text/plain": [
       "[<matplotlib.lines.Line2D at 0xb2399d0>]"
      ]
     },
     "execution_count": 83,
     "metadata": {},
     "output_type": "execute_result"
    },
    {
     "data": {
      "image/png": "[encoded data removed]",
      "text/plain": [
       "<matplotlib.figure.Figure at 0xb003870>"
      ]
     },
     "metadata": {},
     "output_type": "display_data"
    }
   ],
   "source": [
    "#plot(T[1:M],sqrt(B[1:M]**2+A[1:M]**2),'r+')\n",
    "plot(T,sqrt(B**2+A**2),'r+')"
   ]
  },
  {
   "cell_type": "markdown",
   "metadata": {},
   "source": [
    "# Fust Furie transform"
   ]
  },
  {
   "cell_type": "code",
   "execution_count": 84,
   "metadata": {
    "scrolled": true
   },
   "outputs": [
    {
     "data": {
      "text/plain": [
       "<matplotlib.figure.Figure at 0xa169430>"
      ]
     },
     "metadata": {},
     "output_type": "display_data"
    },
    {
     "data": {
      "image/png": "[encoded data removed]",
      "text/plain": [
       "<matplotlib.figure.Figure at 0xb24fdd0>"
      ]
     },
     "metadata": {},
     "output_type": "display_data"
    }
   ],
   "source": [
    "frq=arange(N)\n",
    "#print float(N)/frq\n",
    "Y = fft.fft(Ap) # fft computing and normalization\n",
    "\n",
    "Y = Y[range(N)]\n",
    "#print Y\n",
    "figure(1, figsize=(6,6))\n",
    "fig,ax = plt.subplots(2, 1)\n",
    "ax[0].plot(t,Ap)\n",
    "ax[0].set_xlabel('Days')\n",
    "ax[0].set_ylabel('Ap')\n",
    "fig.subplots_adjust(hspace=0.5)\n",
    "ax[1].plot(float(N)/frq[1:N],abs(Y[1:N]),'r') # plotting the spectrum\n",
    "ax[1].set_xlim([0,N])\n",
    "ax[1].set_xlabel('Period, days')\n",
    "ax[1].set_ylabel('|Y|')\n",
    "savefig('same_size.png', dpi=600)\n",
    "show()"
   ]
  },
  {
   "cell_type": "markdown",
   "metadata": {
    "collapsed": true
   },
   "source": [
    "### Обратите внимание на различие в спектре, полученном \"вручную\" и fft"
   ]
  },
  {
   "cell_type": "code",
   "execution_count": 85,
   "metadata": {},
   "outputs": [
    {
     "data": {
      "text/plain": [
       "-1.1975439366743261e-15"
      ]
     },
     "execution_count": 85,
     "metadata": {},
     "output_type": "execute_result"
    }
   ],
   "source": [
    "# попробуем внести небольшие изменение в код:\n",
    "Ap=kp['Av_ap']-kp['Av_ap'].mean() # данные теперь варьируются около нуля \n",
    "# посмотрим, как это отразиться на вычисление спектра\n",
    "A[0]=Ap.mean()\n",
    "B[0]=0.\n",
    "A[0]"
   ]
  },
  {
   "cell_type": "code",
   "execution_count": 86,
   "metadata": {
    "collapsed": true
   },
   "outputs": [],
   "source": [
    "for k in range(1,N):\n",
    "    sumA=0.\n",
    "    sumB=0.\n",
    "    T[k]=T[k-1]+dt\n",
    "    for i in range(0,N):\n",
    "        sumA=sumA+Ap[i]*cos(2.*pi/T[k]*t[i])\n",
    "        sumB=sumB+Ap[i]*sin(2.*pi/T[k]*t[i])\n",
    "    A[k]=2./N*sumA\n",
    "    B[k]=2./N*sumB"
   ]
  },
  {
   "cell_type": "code",
   "execution_count": 87,
   "metadata": {},
   "outputs": [
    {
     "data": {
      "text/plain": [
       "[<matplotlib.lines.Line2D at 0xad866b0>]"
      ]
     },
     "execution_count": 87,
     "metadata": {},
     "output_type": "execute_result"
    },
    {
     "data": {
      "image/png": "[encoded data removed]",
      "text/plain": [
       "<matplotlib.figure.Figure at 0xb07e190>"
      ]
     },
     "metadata": {},
     "output_type": "display_data"
    }
   ],
   "source": [
    "subplot(2, 1,1)\n",
    "plot(T,Ap)\n",
    "subplot(2, 1,2)\n",
    "plot(T,sqrt(B**2+A**2),'g')"
   ]
  },
  {
   "cell_type": "markdown",
   "metadata": {},
   "source": [
    "Обратите на внимание на рост низкочастотных (с большим периодом) колебаний. Это следствие небольшого роста Ар после 50-го дня"
   ]
  }
 ],
 "metadata": {
  "kernelspec": {
   "display_name": "Python 3",
   "language": "python",
   "name": "python3"
  },
  "language_info": {
   "codemirror_mode": {
    "name": "ipython",
    "version": 3
   },
   "file_extension": ".py",
   "mimetype": "text/x-python",
   "name": "python",
   "nbconvert_exporter": "python",
   "pygments_lexer": "ipython3",
   "version": "3.7.4"
  }
 },
 "nbformat": 4,
 "nbformat_minor": 1
}

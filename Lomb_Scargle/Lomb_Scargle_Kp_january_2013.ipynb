{
 "cells": [
  {
   "cell_type": "markdown",
   "metadata": {},
   "source": [
    "# Kp - Ap - индексы геомагнитной активности"
   ]
  },
  {
   "cell_type": "code",
   "execution_count": 5,
   "metadata": {
    "collapsed": true
   },
   "outputs": [],
   "source": [
    "import pandas as pd\n",
    "import numpy\n",
    "import math"
   ]
  },
  {
   "cell_type": "code",
   "execution_count": 6,
   "metadata": {},
   "outputs": [
    {
     "name": "stdout",
     "output_type": "stream",
     "text": [
      "Populating the interactive namespace from numpy and matplotlib\n"
     ]
    }
   ],
   "source": [
    "%pylab inline"
   ]
  },
  {
   "cell_type": "code",
   "execution_count": 7,
   "metadata": {},
   "outputs": [],
   "source": [
    "kp_index = pd.read_table('kp.txt', parse_dates=True,skiprows=1,sep=r'\\s+')"
   ]
  },
  {
   "cell_type": "code",
   "execution_count": 8,
   "metadata": {
    "scrolled": true
   },
   "outputs": [
    {
     "data": {
      "text/html": [
       "<div>\n",
       "<table border=\"1\" class=\"dataframe\">\n",
       "  <thead>\n",
       "    <tr style=\"text-align: right;\">\n",
       "      <th></th>\n",
       "      <th>20121201</th>\n",
       "      <th>1</th>\n",
       "      <th>1.1</th>\n",
       "      <th>0+</th>\n",
       "      <th>0+.1</th>\n",
       "      <th>1-</th>\n",
       "      <th>1-.1</th>\n",
       "      <th>2+</th>\n",
       "      <th>2+.1</th>\n",
       "      <th>9-</th>\n",
       "      <th>4</th>\n",
       "      <th>4.1</th>\n",
       "      <th>2</th>\n",
       "      <th>2.1</th>\n",
       "      <th>3</th>\n",
       "      <th>3.1</th>\n",
       "      <th>9</th>\n",
       "      <th>9.1</th>\n",
       "      <th>4.2</th>\n",
       "    </tr>\n",
       "  </thead>\n",
       "  <tbody>\n",
       "    <tr>\n",
       "      <th>0</th>\n",
       "      <td>20121202</td>\n",
       "      <td>3-</td>\n",
       "      <td>3-</td>\n",
       "      <td>3-</td>\n",
       "      <td>3-</td>\n",
       "      <td>2</td>\n",
       "      <td>1-</td>\n",
       "      <td>0+</td>\n",
       "      <td>0</td>\n",
       "      <td>14-</td>\n",
       "      <td>12</td>\n",
       "      <td>12</td>\n",
       "      <td>12</td>\n",
       "      <td>12</td>\n",
       "      <td>7</td>\n",
       "      <td>3</td>\n",
       "      <td>2</td>\n",
       "      <td>0</td>\n",
       "      <td>8</td>\n",
       "    </tr>\n",
       "    <tr>\n",
       "      <th>1</th>\n",
       "      <td>20121203</td>\n",
       "      <td>0+</td>\n",
       "      <td>1</td>\n",
       "      <td>1+</td>\n",
       "      <td>1-</td>\n",
       "      <td>1</td>\n",
       "      <td>1</td>\n",
       "      <td>1-</td>\n",
       "      <td>1+</td>\n",
       "      <td>7+</td>\n",
       "      <td>2</td>\n",
       "      <td>4</td>\n",
       "      <td>5</td>\n",
       "      <td>3</td>\n",
       "      <td>4</td>\n",
       "      <td>4</td>\n",
       "      <td>3</td>\n",
       "      <td>5</td>\n",
       "      <td>4</td>\n",
       "    </tr>\n",
       "    <tr>\n",
       "      <th>2</th>\n",
       "      <td>20121204</td>\n",
       "      <td>1+</td>\n",
       "      <td>3-</td>\n",
       "      <td>2</td>\n",
       "      <td>0+</td>\n",
       "      <td>0+</td>\n",
       "      <td>0</td>\n",
       "      <td>0+</td>\n",
       "      <td>0</td>\n",
       "      <td>7</td>\n",
       "      <td>5</td>\n",
       "      <td>12</td>\n",
       "      <td>7</td>\n",
       "      <td>2</td>\n",
       "      <td>2</td>\n",
       "      <td>0</td>\n",
       "      <td>2</td>\n",
       "      <td>0</td>\n",
       "      <td>4</td>\n",
       "    </tr>\n",
       "    <tr>\n",
       "      <th>3</th>\n",
       "      <td>20121205</td>\n",
       "      <td>0</td>\n",
       "      <td>0</td>\n",
       "      <td>0</td>\n",
       "      <td>0+</td>\n",
       "      <td>0</td>\n",
       "      <td>0</td>\n",
       "      <td>1-</td>\n",
       "      <td>1+</td>\n",
       "      <td>2+</td>\n",
       "      <td>0</td>\n",
       "      <td>0</td>\n",
       "      <td>0</td>\n",
       "      <td>2</td>\n",
       "      <td>0</td>\n",
       "      <td>0</td>\n",
       "      <td>3</td>\n",
       "      <td>5</td>\n",
       "      <td>1</td>\n",
       "    </tr>\n",
       "    <tr>\n",
       "      <th>4</th>\n",
       "      <td>20121206</td>\n",
       "      <td>0</td>\n",
       "      <td>0</td>\n",
       "      <td>0</td>\n",
       "      <td>0+</td>\n",
       "      <td>0+</td>\n",
       "      <td>0</td>\n",
       "      <td>0</td>\n",
       "      <td>0</td>\n",
       "      <td>1-</td>\n",
       "      <td>0</td>\n",
       "      <td>0</td>\n",
       "      <td>0</td>\n",
       "      <td>2</td>\n",
       "      <td>2</td>\n",
       "      <td>0</td>\n",
       "      <td>0</td>\n",
       "      <td>0</td>\n",
       "      <td>0</td>\n",
       "    </tr>\n",
       "  </tbody>\n",
       "</table>\n",
       "</div>"
      ],
      "text/plain": [
       "   20121201   1 1.1  0+ 0+.1  1- 1-.1  2+ 2+.1   9-   4  4.1   2  2.1  3  3.1  \\\n",
       "0  20121202  3-  3-  3-   3-   2   1-  0+    0  14-  12   12  12   12  7    3   \n",
       "1  20121203  0+   1  1+   1-   1    1  1-   1+   7+   2    4   5    3  4    4   \n",
       "2  20121204  1+  3-   2   0+  0+    0  0+    0    7   5   12   7    2  2    0   \n",
       "3  20121205   0   0   0   0+   0    0  1-   1+   2+   0    0   0    2  0    0   \n",
       "4  20121206   0   0   0   0+  0+    0   0    0   1-   0    0   0    2  2    0   \n",
       "\n",
       "   9  9.1  4.2  \n",
       "0  2    0    8  \n",
       "1  3    5    4  \n",
       "2  2    0    4  \n",
       "3  3    5    1  \n",
       "4  0    0    0  "
      ]
     },
     "execution_count": 8,
     "metadata": {},
     "output_type": "execute_result"
    }
   ],
   "source": [
    "# значение Kp - в баллах (символьная переменная) - трехчасовой индекс, Ap - в наноТеслах (число)\n",
    "kp_index.head()"
   ]
  },
  {
   "cell_type": "code",
   "execution_count": 9,
   "metadata": {
    "collapsed": true
   },
   "outputs": [],
   "source": [
    "# переименуем столбцы\n",
    "kp=kp_index.rename(columns={'20121201':'Date','1':'Kp_1','1.1':'Kp_2','0+':'Kp_3','0+.1':'Kp_4','1-':'Kp_5','1-.1':'Kp_6','2+':'Kp_7','2+.1':'Kp_8','9-':'SumKp','4':'ap_1','4.1':'ap_2','2':'ap_3','2.1':'ap_4','3':'ap_5','3.1':'ap_6','9':'ap_7','9.1':'ap_8','4.2':'Av_ap'})"
   ]
  },
  {
   "cell_type": "code",
   "execution_count": 10,
   "metadata": {},
   "outputs": [
    {
     "data": {
      "text/html": [
       "<div>\n",
       "<table border=\"1\" class=\"dataframe\">\n",
       "  <thead>\n",
       "    <tr style=\"text-align: right;\">\n",
       "      <th></th>\n",
       "      <th>Date</th>\n",
       "      <th>Kp_1</th>\n",
       "      <th>Kp_2</th>\n",
       "      <th>Kp_3</th>\n",
       "      <th>Kp_4</th>\n",
       "      <th>Kp_5</th>\n",
       "      <th>Kp_6</th>\n",
       "      <th>Kp_7</th>\n",
       "      <th>Kp_8</th>\n",
       "      <th>SumKp</th>\n",
       "      <th>ap_1</th>\n",
       "      <th>ap_2</th>\n",
       "      <th>ap_3</th>\n",
       "      <th>ap_4</th>\n",
       "      <th>ap_5</th>\n",
       "      <th>ap_6</th>\n",
       "      <th>ap_7</th>\n",
       "      <th>ap_8</th>\n",
       "      <th>Av_ap</th>\n",
       "    </tr>\n",
       "  </thead>\n",
       "  <tbody>\n",
       "    <tr>\n",
       "      <th>0</th>\n",
       "      <td>20121202</td>\n",
       "      <td>3-</td>\n",
       "      <td>3-</td>\n",
       "      <td>3-</td>\n",
       "      <td>3-</td>\n",
       "      <td>2</td>\n",
       "      <td>1-</td>\n",
       "      <td>0+</td>\n",
       "      <td>0</td>\n",
       "      <td>14-</td>\n",
       "      <td>12</td>\n",
       "      <td>12</td>\n",
       "      <td>12</td>\n",
       "      <td>12</td>\n",
       "      <td>7</td>\n",
       "      <td>3</td>\n",
       "      <td>2</td>\n",
       "      <td>0</td>\n",
       "      <td>8</td>\n",
       "    </tr>\n",
       "    <tr>\n",
       "      <th>1</th>\n",
       "      <td>20121203</td>\n",
       "      <td>0+</td>\n",
       "      <td>1</td>\n",
       "      <td>1+</td>\n",
       "      <td>1-</td>\n",
       "      <td>1</td>\n",
       "      <td>1</td>\n",
       "      <td>1-</td>\n",
       "      <td>1+</td>\n",
       "      <td>7+</td>\n",
       "      <td>2</td>\n",
       "      <td>4</td>\n",
       "      <td>5</td>\n",
       "      <td>3</td>\n",
       "      <td>4</td>\n",
       "      <td>4</td>\n",
       "      <td>3</td>\n",
       "      <td>5</td>\n",
       "      <td>4</td>\n",
       "    </tr>\n",
       "    <tr>\n",
       "      <th>2</th>\n",
       "      <td>20121204</td>\n",
       "      <td>1+</td>\n",
       "      <td>3-</td>\n",
       "      <td>2</td>\n",
       "      <td>0+</td>\n",
       "      <td>0+</td>\n",
       "      <td>0</td>\n",
       "      <td>0+</td>\n",
       "      <td>0</td>\n",
       "      <td>7</td>\n",
       "      <td>5</td>\n",
       "      <td>12</td>\n",
       "      <td>7</td>\n",
       "      <td>2</td>\n",
       "      <td>2</td>\n",
       "      <td>0</td>\n",
       "      <td>2</td>\n",
       "      <td>0</td>\n",
       "      <td>4</td>\n",
       "    </tr>\n",
       "    <tr>\n",
       "      <th>3</th>\n",
       "      <td>20121205</td>\n",
       "      <td>0</td>\n",
       "      <td>0</td>\n",
       "      <td>0</td>\n",
       "      <td>0+</td>\n",
       "      <td>0</td>\n",
       "      <td>0</td>\n",
       "      <td>1-</td>\n",
       "      <td>1+</td>\n",
       "      <td>2+</td>\n",
       "      <td>0</td>\n",
       "      <td>0</td>\n",
       "      <td>0</td>\n",
       "      <td>2</td>\n",
       "      <td>0</td>\n",
       "      <td>0</td>\n",
       "      <td>3</td>\n",
       "      <td>5</td>\n",
       "      <td>1</td>\n",
       "    </tr>\n",
       "    <tr>\n",
       "      <th>4</th>\n",
       "      <td>20121206</td>\n",
       "      <td>0</td>\n",
       "      <td>0</td>\n",
       "      <td>0</td>\n",
       "      <td>0+</td>\n",
       "      <td>0+</td>\n",
       "      <td>0</td>\n",
       "      <td>0</td>\n",
       "      <td>0</td>\n",
       "      <td>1-</td>\n",
       "      <td>0</td>\n",
       "      <td>0</td>\n",
       "      <td>0</td>\n",
       "      <td>2</td>\n",
       "      <td>2</td>\n",
       "      <td>0</td>\n",
       "      <td>0</td>\n",
       "      <td>0</td>\n",
       "      <td>0</td>\n",
       "    </tr>\n",
       "  </tbody>\n",
       "</table>\n",
       "</div>"
      ],
      "text/plain": [
       "       Date Kp_1 Kp_2 Kp_3 Kp_4 Kp_5 Kp_6 Kp_7 Kp_8 SumKp  ap_1  ap_2  ap_3  \\\n",
       "0  20121202   3-   3-   3-   3-    2   1-   0+    0   14-    12    12    12   \n",
       "1  20121203   0+    1   1+   1-    1    1   1-   1+    7+     2     4     5   \n",
       "2  20121204   1+   3-    2   0+   0+    0   0+    0     7     5    12     7   \n",
       "3  20121205    0    0    0   0+    0    0   1-   1+    2+     0     0     0   \n",
       "4  20121206    0    0    0   0+   0+    0    0    0    1-     0     0     0   \n",
       "\n",
       "   ap_4  ap_5  ap_6  ap_7  ap_8  Av_ap  \n",
       "0    12     7     3     2     0      8  \n",
       "1     3     4     4     3     5      4  \n",
       "2     2     2     0     2     0      4  \n",
       "3     2     0     0     3     5      1  \n",
       "4     2     2     0     0     0      0  "
      ]
     },
     "execution_count": 10,
     "metadata": {},
     "output_type": "execute_result"
    }
   ],
   "source": [
    "kp.head()"
   ]
  },
  {
   "cell_type": "code",
   "execution_count": 11,
   "metadata": {},
   "outputs": [
    {
     "name": "stdout",
     "output_type": "stream",
     "text": [
      "(20121202, 20130228, 89)\n"
     ]
    }
   ],
   "source": [
    "print(kp.Date[0],kp.Date[len(kp.Date)-1],len(kp.Date))"
   ]
  },
  {
   "cell_type": "code",
   "execution_count": 12,
   "metadata": {},
   "outputs": [
    {
     "data": {
      "text/plain": [
       "<matplotlib.axes._subplots.AxesSubplot at 0x9aec780>"
      ]
     },
     "execution_count": 12,
     "metadata": {},
     "output_type": "execute_result"
    },
    {
     "data": {
      "image/png": "[encoded data removed]",
      "text/plain": [
       "<matplotlib.figure.Figure at 0x9aecd68>"
      ]
     },
     "metadata": {},
     "output_type": "display_data"
    }
   ],
   "source": [
    "# строим среднесуточное значенеие\n",
    "kp['Av_ap'].plot()"
   ]
  },
  {
   "cell_type": "markdown",
   "metadata": {},
   "source": [
    "### Собственно само Фурье"
   ]
  },
  {
   "cell_type": "code",
   "execution_count": 13,
   "metadata": {},
   "outputs": [
    {
     "name": "stdout",
     "output_type": "stream",
     "text": [
      "<type 'numpy.ndarray'>\n"
     ]
    }
   ],
   "source": [
    "# создаем massiv Ap-daily размерности N\n",
    "N=kp.shape[0] # длина измерений\n",
    "# для к-тов надо в 2 раза меньше длина\n",
    "Np=int(N/2)\n",
    "\n",
    "# Ap-massive\n",
    "\n",
    "Ap=asarray(kp['Av_ap'],dtype = float)\n",
    "print(type(Ap))"
   ]
  },
  {
   "cell_type": "code",
   "execution_count": 36,
   "metadata": {
    "collapsed": true
   },
   "outputs": [],
   "source": [
    "# интервал в сутках\n",
    "dt=1.\n",
    "t=linspace(0.,float(N),N)"
   ]
  },
  {
   "cell_type": "markdown",
   "metadata": {},
   "source": [
    "# Fust Furie transform"
   ]
  },
  {
   "cell_type": "code",
   "execution_count": 37,
   "metadata": {
    "collapsed": true,
    "scrolled": true
   },
   "outputs": [],
   "source": [
    "Y = fft.fft(Ap-mean(Ap)) # fft computing and normalization\n",
    "\n",
    "w=fftfreq(N, d=1.0)\n",
    "# Функция, которая расчитывает значения частот от минимальной до максимально возможной\n",
    "# задаем количество частот и шаг по частоте=частоте Котельникова\n",
    "# возвращает частоты для выходных массивов функций fft*.\n",
    "# \"нулевая\" частота соответствует среднему значению y\n",
    "# отрицательные частоты имеют смысл для комплексного сигнала\n",
    "# всего используем N/2 положительных частот\n",
    "frq=ones(Np)\n",
    "frq[0:Np-1]=w[1:Np]"
   ]
  },
  {
   "cell_type": "code",
   "execution_count": 38,
   "metadata": {},
   "outputs": [
    {
     "data": {
      "text/plain": [
       "<matplotlib.figure.Figure at 0xcc755f8>"
      ]
     },
     "metadata": {},
     "output_type": "display_data"
    },
    {
     "data": {
      "image/png": "[encoded data removed]",
      "text/plain": [
       "<matplotlib.figure.Figure at 0xcc75470>"
      ]
     },
     "metadata": {},
     "output_type": "display_data"
    }
   ],
   "source": [
    "figure(1, figsize=(6,6))\n",
    "fig,ax = plt.subplots(2, 1)\n",
    "ax[0].plot(t,Ap)\n",
    "ax[0].set_xlabel('Days')\n",
    "ax[0].set_ylabel('Ap')\n",
    "fig.subplots_adjust(hspace=0.5)\n",
    "ax[1].plot(1./frq[1:Np],abs(Y[1:Np]),'r') # plotting the spectrum\n",
    "ax[1].set_xlim([0,Np])\n",
    "ax[1].set_xlabel('Period, days')\n",
    "ax[1].set_ylabel('|Y|')\n",
    "savefig('same_size.png', dpi=600)\n",
    "show()"
   ]
  },
  {
   "cell_type": "markdown",
   "metadata": {},
   "source": [
    "Обратите на внимание на рост низкочастотных (с большим периодом) колебаний. Это следствие небольшого роста Ар после 50-го дня"
   ]
  },
  {
   "cell_type": "code",
   "execution_count": 39,
   "metadata": {},
   "outputs": [
    {
     "data": {
      "text/plain": [
       "[<matplotlib.lines.Line2D at 0xcfcda90>]"
      ]
     },
     "execution_count": 39,
     "metadata": {},
     "output_type": "execute_result"
    },
    {
     "data": {
      "image/png": "[encoded data removed]",
      "text/plain": [
       "<matplotlib.figure.Figure at 0xcc63e10>"
      ]
     },
     "metadata": {},
     "output_type": "display_data"
    }
   ],
   "source": [
    "# график в частотном диапазоне\n",
    "plot(w[1:Np],abs(Y[1:Np]))"
   ]
  },
  {
   "cell_type": "markdown",
   "metadata": {},
   "source": []
  },
  {
   "cell_type": "markdown",
   "metadata": {},
   "source": [
    "### Lomb-Scragle method"
   ]
  },
  {
   "cell_type": "code",
   "execution_count": 40,
   "metadata": {
    "collapsed": true
   },
   "outputs": [],
   "source": [
    "import scipy.signal as signal"
   ]
  },
  {
   "cell_type": "code",
   "execution_count": 41,
   "metadata": {
    "jupyter": {
     "source_hidden": true
    }
   },
   "outputs": [
    {
     "name": "stdout",
     "output_type": "stream",
     "text": [
      "[ 44.5         29.66666667  22.25        17.8         14.83333333\n",
      "  12.71428571  11.125        9.88888889   8.9          8.09090909\n",
      "   7.41666667   6.84615385   6.35714286   5.93333333   5.5625       5.23529412\n",
      "   4.94444444   4.68421053   4.45         4.23809524   4.04545455\n",
      "   3.86956522   3.70833333   3.56         3.42307692   3.2962963\n",
      "   3.17857143   3.06896552   2.96666667   2.87096774   2.78125      2.6969697\n",
      "   2.61764706   2.54285714   2.47222222   2.40540541   2.34210526\n",
      "   2.28205128   2.225        2.17073171   2.11904762   2.06976744   1.           1.        ]\n"
     ]
    }
   ],
   "source": [
    "# частоты расчитываются по правилу 1.*d/N, 2*d/N ... (N/2-1)*d/N\n",
    "Np=int(N/2)\n",
    "#f= arange(1.,N/2.)/N\n",
    "# периоды\n",
    "per=ones(Np)\n",
    "per[0:Np-1]=1./frq[1:Np]\n",
    "print(per)"
   ]
  },
  {
   "cell_type": "code",
   "execution_count": 42,
   "metadata": {
    "collapsed": true
   },
   "outputs": [],
   "source": [
    "# частоты с равномерным шагом\n",
    "fmin=float(1./Np)\n",
    "fmax=1.\n",
    "f=linspace(fmin,fmax,50)"
   ]
  },
  {
   "cell_type": "code",
   "execution_count": 43,
   "metadata": {},
   "outputs": [
    {
     "name": "stdout",
     "output_type": "stream",
     "text": [
      "<type 'numpy.float64'>\n"
     ]
    }
   ],
   "source": [
    "\n",
    "#Calculate Lomb-Scargle periodogram:\n",
    "#pgram = signal.lombscargle(t, Ap, f, normalize=True)\n",
    "pgram =signal.lombscargle(t, Ap, f)"
   ]
  },
  {
   "cell_type": "code",
   "execution_count": 45,
   "metadata": {},
   "outputs": [
    {
     "data": {
      "text/plain": [
       "<matplotlib.text.Text at 0xd482240>"
      ]
     },
     "execution_count": 45,
     "metadata": {},
     "output_type": "execute_result"
    },
    {
     "data": {
      "image/png": "[encoded data removed]",
      "text/plain": [
       "<matplotlib.figure.Figure at 0xcccb358>"
      ]
     },
     "metadata": {},
     "output_type": "display_data"
    }
   ],
   "source": [
    "subplot(2, 1,1)\n",
    "plot(t,Ap)\n",
    "xlabel('day')\n",
    "\n",
    "subplot(2, 1, 2)\n",
    "plot(f[:],pgram[:])\n",
    "xlabel('frequency,1/day')"
   ]
  },
  {
   "cell_type": "code",
   "execution_count": null,
   "metadata": {},
   "outputs": [],
   "source": [
    "period=[]\n",
    "\n",
    "period[:]=2.*pi/f[:]\n",
    "print(Ap[len(Ap)-1],len(Ap),len(period),period[len(period)-1])\n",
    "plot(period[:],pgram[:])\n"
   ]
  },
  {
   "cell_type": "code",
   "execution_count": null,
   "metadata": {},
   "outputs": [],
   "source": [
    "plot(period)"
   ]
  },
  {
   "cell_type": "code",
   "execution_count": null,
   "metadata": {
    "collapsed": true
   },
   "outputs": [],
   "source": []
  }
 ],
 "metadata": {
  "kernelspec": {
   "display_name": "Python 3",
   "language": "python",
   "name": "python3"
  },
  "language_info": {
   "codemirror_mode": {
    "name": "ipython",
    "version": 3
   },
   "file_extension": ".py",
   "mimetype": "text/x-python",
   "name": "python",
   "nbconvert_exporter": "python",
   "pygments_lexer": "ipython3",
   "version": "3.8.5"
  }
 },
 "nbformat": 4,
 "nbformat_minor": 4
}

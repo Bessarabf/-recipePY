{
 "cells": [
  {
   "cell_type": "code",
   "execution_count": 86,
   "metadata": {},
   "outputs": [],
   "source": [
    "import csv\n",
    "import glob\n",
    "import os\n",
    "import math\n",
    "import matplotlib.pyplot as plt\n",
    "import scipy.signal as signal\n",
    "from astropy.timeseries import LombScargle\n",
    "import numpy as np\n",
    "%matplotlib inline"
   ]
  },
  {
   "cell_type": "code",
   "execution_count": 87,
   "metadata": {},
   "outputs": [],
   "source": [
    "def read_file_data(filepath):\n",
    "    '''\n",
    "    Read data in [[val,time],[val, time]] format\n",
    "    '''\n",
    "\n",
    "    raw_data = None\n",
    "    data = list()\n",
    "\n",
    "    # Get raw data\n",
    "    with open(filepath, 'r') as dest_f:\n",
    "        data_iter = csv.reader(dest_f,delimiter=\"\\t\")\n",
    "        raw_data = [raw_data for raw_data in data_iter]\n",
    "\n",
    "    # Filter data with not-valid values or empty values\n",
    "    for raw_val in raw_data:\n",
    "        try:\n",
    "            amp = float(raw_val[0])\n",
    "            time = float(raw_val[1])\n",
    "            data.append([amp, time])\n",
    "        except:\n",
    "            pass\n",
    "        finally:\n",
    "            pass\n",
    "\n",
    "    return data"
   ]
  },
  {
   "cell_type": "code",
   "execution_count": 88,
   "metadata": {},
   "outputs": [],
   "source": [
    "def save_to_ascii_file(data_list, out_filepath, header=[]):\n",
    "    '''\n",
    "    Save data in format [[],[]] into DAT file \n",
    "    - CSV \n",
    "    - with \\t delimeter \n",
    "    - \\n line endings\n",
    "    '''\n",
    "    write_list = []\n",
    "    print(\"out_filepath=\",out_filepath)\n",
    "    for data in data_list:\n",
    "        output_str = \"\"\n",
    "        for val in data:\n",
    "            output_str += str(val) + \"\\t\"\n",
    "        output_str = output_str[:-1]\n",
    "        output_str += \"\\n\"\n",
    "        write_list.append(output_str)\n",
    "\n",
    "    with open(out_filepath,\"w\") as f:\n",
    "        f.writelines(write_list)"
   ]
  },
  {
   "cell_type": "code",
   "execution_count": 89,
   "metadata": {},
   "outputs": [],
   "source": [
    "def plot_graph(data, out_filepath, lb_freq_start=0.01, lb_freq_end=4.0, lb_freq_num=1000, to_display=False, save_to_disk=True):\n",
    "    '''\n",
    "    Plot grapth and return its data\n",
    "\n",
    "    Params\n",
    "    data - input data in list of lists with pair value and time\n",
    "    out_filepath - out file name path for create\n",
    "    lb_freq_start - start frequency of lombscargle graph\n",
    "    lb_freq_end - end frequency of lombscargle graph\n",
    "    lb_freq_num - number of points in lombscargle graph\n",
    "    to_display - if set to true then graph will be shown on the display\n",
    "    save_to_disk - if set to true then graph will be saved on the disk\n",
    "\n",
    "    Return\n",
    "    List of lists of graph values in form [freq, pgram_value]\n",
    "    '''\n",
    "\n",
    "    output_data = list()\n",
    "\n",
    "    x = list()\n",
    "    y = list()\n",
    "\n",
    "    for val_pair in data:\n",
    "        x.append(val_pair[1])\n",
    "        y.append(val_pair[0])\n",
    "\n",
    "    # Define the array of frequencies for which to compute the periodogram:\n",
    "    f = np.linspace(lb_freq_start, lb_freq_end, lb_freq_num)\n",
    "\n",
    "    #Calculate Lomb-Scargle periodogram:\n",
    "   \n",
    "    # define xar & yar\n",
    "    xar=np.asarray(x)\n",
    "    yar=np.asarray(y)\n",
    "    frequency, power = LombScargle(xar,yar).autopower()\n",
    "    # pgram = signal.lombscargle(xar, yar-np.mean(yar), f,normalize=True)\n",
    "\n",
    "    # Create figure with 2 subplots\n",
    "    fig = plt.figure()\n",
    "    source_ax = fig.add_subplot(211)\n",
    "    pgram_ax = fig.add_subplot(212)\n",
    "\n",
    "    #Now make a plot of the input data:\n",
    "    \n",
    "    #source_ax.plot(x, y, 'b+')\n",
    "    source_ax.plot(xar, yar, 'b+')\n",
    "\n",
    "    #Then plot the normalized periodogram:\n",
    "    #pgram_ax.plot(f, pgram)\n",
    "    pgram_ax.plot(2.*np.pi*frequency[:600], power[:600],'--g')\n",
    "    if to_display:\n",
    "        plt.show()\n",
    "\n",
    "    if save_to_disk:\n",
    "        plt.savefig(out_filepath)\n",
    "\n",
    "    # Generate output\n",
    "    for idx, freq in enumerate(frequency):\n",
    "        output_data.append([2.*np.pi*freq, power[idx]])\n",
    "\n",
    "    return output_data"
   ]
  },
  {
   "cell_type": "code",
   "execution_count": 90,
   "metadata": {},
   "outputs": [],
   "source": [
    "def main():\n",
    "    print(\"Script is started\")\n",
    "\n",
    "    files = glob.glob(\"./input/*.dat\")    \n",
    "\n",
    "    for filepath in files:\n",
    "        print(\"Process >> \" + filepath)\n",
    "\n",
    "        try:\n",
    "            read_data = read_file_data(filepath)\n",
    "            out_dat_filepath = \"./output/\" + \"astro_\"+os.path.basename(filepath) + \".dat\"\n",
    "            out_png_filepath = \"./output/\" + \"astro_\"+os.path.basename(filepath) + \".png\"\n",
    "            \n",
    "            print(read_data[0][1],read_data[1][1],read_data[len(read_data)-1])\n",
    "            dt=read_data[1][1]-read_data[0][1]\n",
    "            lb_freq_end=math.pi/dt\n",
    "            lb_freq_start=2.0*math.pi/(read_data[len(read_data)-1][1])\n",
    "            \n",
    "            period_min=2.*dt\n",
    "            period_max=read_data[len(read_data)-1][1]\n",
    "            lb_freq_num=int(period_max/dt)\n",
    "            \n",
    "            output_data = plot_graph(read_data, \n",
    "                                    out_png_filepath,\n",
    "                                    lb_freq_start,\n",
    "                                    lb_freq_end,\n",
    "                                    lb_freq_num)\n",
    "\n",
    "            print(\"Saved PNG to >> \" + out_png_filepath)\n",
    "\n",
    "            save_to_ascii_file(output_data, out_dat_filepath)\n",
    "            print(\"Saved DAT to >> \" + out_dat_filepath)\n",
    "    \n",
    "        except Exception as e:\n",
    "            print(\"Cannot process >> \", filepath)\n",
    "            print(\"Reason >> \" + str(e))\n",
    "            \n",
    "        finally:\n",
    "            print()\n",
    "    print(\"Script is finished\")"
   ]
  },
  {
   "cell_type": "code",
   "execution_count": 91,
   "metadata": {},
   "outputs": [
    {
     "name": "stdout",
     "output_type": "stream",
     "text": [
      "Script is started\n",
      "Process >> ./input\\2017-18.dat\n",
      "0.0 0.042 [2.08, 120.792]\n",
      "Saved PNG to >> ./output/astro_2017-18.dat.png\n",
      "out_filepath= ./output/astro_2017-18.dat.dat\n",
      "Saved DAT to >> ./output/astro_2017-18.dat.dat\n",
      "\n",
      "Script is finished\n"
     ]
    },
    {
     "data": {
      "image/png": "[encoded data removed]",
      "text/plain": [
       "<Figure size 432x288 with 2 Axes>"
      ]
     },
     "metadata": {
      "needs_background": "light"
     },
     "output_type": "display_data"
    }
   ],
   "source": [
    "if __name__ == \"__main__\":\n",
    "    main()"
   ]
  },
  {
   "cell_type": "code",
   "execution_count": null,
   "metadata": {},
   "outputs": [],
   "source": []
  },
  {
   "cell_type": "code",
   "execution_count": null,
   "metadata": {},
   "outputs": [],
   "source": []
  }
 ],
 "metadata": {
  "kernelspec": {
   "display_name": "Python 3",
   "language": "python",
   "name": "python3"
  },
  "language_info": {
   "codemirror_mode": {
    "name": "ipython",
    "version": 3
   },
   "file_extension": ".py",
   "mimetype": "text/x-python",
   "name": "python",
   "nbconvert_exporter": "python",
   "pygments_lexer": "ipython3",
   "version": "3.7.4"
  }
 },
 "nbformat": 4,
 "nbformat_minor": 4
}

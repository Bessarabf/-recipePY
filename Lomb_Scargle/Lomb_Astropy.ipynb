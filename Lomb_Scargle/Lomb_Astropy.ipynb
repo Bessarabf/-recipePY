{
 "cells": [
  {
   "cell_type": "markdown",
   "metadata": {},
   "source": [
    "### Compare Lomb-Scragle from SciPy and AstroPy module"
   ]
  },
  {
   "cell_type": "code",
   "execution_count": 20,
   "metadata": {},
   "outputs": [],
   "source": [
    "import matplotlib.pyplot as plt\n",
    "import scipy.signal as signal\n",
    "import numpy as np\n",
    "from astropy.timeseries import LombScargle\n",
    "%matplotlib inline"
   ]
  },
  {
   "cell_type": "code",
   "execution_count": 21,
   "metadata": {},
   "outputs": [
    {
     "name": "stdout",
     "output_type": "stream",
     "text": [
      "31.353051808098332 100\n"
     ]
    }
   ],
   "source": [
    "#First define some input parameters for the signal:\n",
    "#\n",
    "A = 2.\n",
    "w = 1.\n",
    "phi = 0.5 * np.pi\n",
    "nin = 1000\n",
    "nout = 1000\n",
    "frac_points = 0.9 # Fraction of points to select\n",
    "\n",
    "#Randomly select a fraction of an array with timesteps:\n",
    "r = np.random.rand(nin)\n",
    "x = np.linspace(0.01, 10*np.pi, nin)\n",
    "dx=x[1]-x[0]\n",
    "x = x[r >= frac_points]\n",
    "print(x[len(x)-1],len(x))"
   ]
  },
  {
   "cell_type": "code",
   "execution_count": 22,
   "metadata": {},
   "outputs": [],
   "source": [
    "#Plot a sine wave for the selected times:\n",
    "\n",
    "y = A * np.sin(w*x+phi)\n",
    "\n",
    "# Define the array of frequencies for which to compute the periodogram:\n",
    "min_fraq=1./x[len(x)-1]\n",
    "max_fraq=1./(2.*dx)\n",
    "#f = np.linspace(0.01, 4., nout)\n",
    "f = np.linspace(min_fraq, max_fraq, nout)\n",
    "\n",
    "#Calculate Lomb-Scargle periodogram:\n",
    "#pgram = signal.lombscargle(x, y, f, normalize=False)\n",
    "pgram = signal.lombscargle(x, y, f,normalize=True)\n"
   ]
  },
  {
   "cell_type": "code",
   "execution_count": 23,
   "metadata": {},
   "outputs": [
    {
     "name": "stdout",
     "output_type": "stream",
     "text": [
      "1251 1251\n"
     ]
    }
   ],
   "source": [
    "dy=0.1\n",
    "frequency, power = LombScargle(x,y,dy).autopower()\n",
    "print(len(frequency),len(power))"
   ]
  },
  {
   "cell_type": "code",
   "execution_count": 24,
   "metadata": {
    "scrolled": true
   },
   "outputs": [
    {
     "data": {
      "text/plain": [
       "<matplotlib.legend.Legend at 0x55c2b08>"
      ]
     },
     "execution_count": 24,
     "metadata": {},
     "output_type": "execute_result"
    },
    {
     "data": {
      "image/png": "[encoded data removed]",
      "text/plain": [
       "<Figure size 432x288 with 1 Axes>"
      ]
     },
     "metadata": {
      "needs_background": "light"
     },
     "output_type": "display_data"
    }
   ],
   "source": [
    "plt.plot(f,pgram,'r.',label=\"SciPy\")\n",
    "plt.plot(2.*np.pi*frequency[:200], power[:200],label=\"AstroPy\") \n",
    "plt.legend()"
   ]
  },
  {
   "cell_type": "code",
   "execution_count": null,
   "metadata": {},
   "outputs": [],
   "source": []
  }
 ],
 "metadata": {
  "kernelspec": {
   "display_name": "Python 3",
   "language": "python",
   "name": "python3"
  },
  "language_info": {
   "codemirror_mode": {
    "name": "ipython",
    "version": 3
   },
   "file_extension": ".py",
   "mimetype": "text/x-python",
   "name": "python",
   "nbconvert_exporter": "python",
   "pygments_lexer": "ipython3",
   "version": "3.7.4"
  }
 },
 "nbformat": 4,
 "nbformat_minor": 4
}

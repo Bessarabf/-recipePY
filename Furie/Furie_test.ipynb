{
 "cells": [
  {
   "cell_type": "markdown",
   "metadata": {},
   "source": [
    "# Преобразование Фурье"
   ]
  },
  {
   "cell_type": "markdown",
   "metadata": {},
   "source": [
    "Зададим периодическую функцию:"
   ]
  },
  {
   "cell_type": "code",
   "execution_count": 40,
   "metadata": {
    "collapsed": false
   },
   "outputs": [],
   "source": [
    "def Y(x):\n",
    "    z=2*sin(x)+cos(4*x)\n",
    "    return z"
   ]
  },
  {
   "cell_type": "code",
   "execution_count": 41,
   "metadata": {
    "collapsed": false
   },
   "outputs": [],
   "source": [
    "from math import *\n",
    "from numpy import *"
   ]
  },
  {
   "cell_type": "markdown",
   "metadata": {},
   "source": [
    "Создадим вектор размерности N"
   ]
  },
  {
   "cell_type": "code",
   "execution_count": 42,
   "metadata": {
    "collapsed": false
   },
   "outputs": [],
   "source": [
    "N=64\n",
    "x=zeros(N)"
   ]
  },
  {
   "cell_type": "code",
   "execution_count": 43,
   "metadata": {
    "collapsed": false
   },
   "outputs": [],
   "source": [
    "# интервал T=4pi\n",
    "T=4*pi"
   ]
  },
  {
   "cell_type": "code",
   "execution_count": 44,
   "metadata": {
    "collapsed": false
   },
   "outputs": [],
   "source": [
    "dx=T/N\n",
    "for i in range(0,N-1):\n",
    "    x[i+1]=x[i]+dx"
   ]
  },
  {
   "cell_type": "code",
   "execution_count": 45,
   "metadata": {
    "collapsed": false
   },
   "outputs": [],
   "source": [
    "fi=Y(x)\n"
   ]
  },
  {
   "cell_type": "code",
   "execution_count": 46,
   "metadata": {
    "collapsed": false
   },
   "outputs": [
    {
     "data": {
      "text/plain": [
       "array([ 1.        ,  1.09728743,  0.76536686,  0.40403368,  0.41421356,\n",
       "        0.95583244,  1.84775907,  2.66867734,  3.        ,  2.66867734,\n",
       "        1.84775907,  0.95583244,  0.41421356,  0.40403368,  0.76536686,\n",
       "        1.09728743,  1.        ,  0.31692614, -0.76536686, -1.81824725,\n",
       "       -2.41421356, -2.37004601, -1.84775907, -1.25446378, -1.        ,\n",
       "       -1.25446378, -1.84775907, -2.37004601, -2.41421356, -1.81824725,\n",
       "       -0.76536686,  0.31692614,  1.        ,  1.09728743,  0.76536686,\n",
       "        0.40403368,  0.41421356,  0.95583244,  1.84775907,  2.66867734,\n",
       "        3.        ,  2.66867734,  1.84775907,  0.95583244,  0.41421356,\n",
       "        0.40403368,  0.76536686,  1.09728743,  1.        ,  0.31692614,\n",
       "       -0.76536686, -1.81824725, -2.41421356, -2.37004601, -1.84775907,\n",
       "       -1.25446378, -1.        , -1.25446378, -1.84775907, -2.37004601,\n",
       "       -2.41421356, -1.81824725, -0.76536686,  0.31692614])"
      ]
     },
     "execution_count": 46,
     "metadata": {},
     "output_type": "execute_result"
    }
   ],
   "source": [
    "fi"
   ]
  },
  {
   "cell_type": "code",
   "execution_count": 47,
   "metadata": {
    "collapsed": false
   },
   "outputs": [
    {
     "data": {
      "text/plain": [
       "[<matplotlib.lines.Line2D at 0x4bc19f0>]"
      ]
     },
     "execution_count": 47,
     "metadata": {},
     "output_type": "execute_result"
    },
    {
     "data": {
      "image/png": "[encoded data removed]"
     },
     "metadata": {},
     "output_type": "display_data"
    }
   ],
   "source": [
    "plot(x,fi)"
   ]
  },
  {
   "cell_type": "code",
   "execution_count": 48,
   "metadata": {
    "collapsed": false
   },
   "outputs": [],
   "source": [
    "# M=N/2\n",
    "M=N/2\n",
    "\n",
    "# массивы А и В\n",
    "A=zeros(M)\n",
    "B=zeros(M)\n",
    "A[0]=1/N*fi.sum()\n",
    "B[0]=0.\n"
   ]
  },
  {
   "cell_type": "markdown",
   "metadata": {},
   "source": [
    "Зададим периоды"
   ]
  },
  {
   "cell_type": "code",
   "execution_count": 49,
   "metadata": {
    "collapsed": false
   },
   "outputs": [],
   "source": [
    "t=zeros(M)\n",
    "t[0]=2.*dx\n",
    "for k in range(1,M):\n",
    "    t[k]=t[k-1]+dx"
   ]
  },
  {
   "cell_type": "code",
   "execution_count": 50,
   "metadata": {
    "collapsed": false
   },
   "outputs": [],
   "source": [
    "for k in range(1,M):\n",
    "    sumA=0.\n",
    "    sumB=0.\n",
    "    for i in range(0,N):\n",
    "        sumA=sumA+fi[i]*cos(2*pi*x[i]/t[k])\n",
    "        sumB=sumB+fi[i]*sin(2*pi*x[i]/t[k])\n",
    "    A[k]=2./N*sumA\n",
    "    B[k]=2./N*sumB\n",
    "    "
   ]
  },
  {
   "cell_type": "code",
   "execution_count": 51,
   "metadata": {
    "collapsed": false
   },
   "outputs": [
    {
     "name": "stdout",
     "output_type": "stream",
     "text": [
      "(32,)\n"
     ]
    },
    {
     "data": {
      "text/plain": [
       "(32,)"
      ]
     },
     "execution_count": 51,
     "metadata": {},
     "output_type": "execute_result"
    },
    {
     "data": {
      "image/png": "[encoded data removed]"
     },
     "metadata": {},
     "output_type": "display_data"
    }
   ],
   "source": [
    "plot(t,B**2+A**2,'r+')\n",
    "print A.shape\n",
    "t.shape"
   ]
  },
  {
   "cell_type": "markdown",
   "metadata": {},
   "source": [
    "# Выводы"
   ]
  },
  {
   "cell_type": "raw",
   "metadata": {},
   "source": [
    "Выбор количества гармоник и их величины очень важно для точного описания исходной функции. Медленное узменение длиннопериодной части выбранного приводит к \"размыванию\" спектра"
   ]
  }
 ],
 "metadata": {
  "kernelspec": {
   "display_name": "Python 2",
   "language": "python",
   "name": "python2"
  },
  "language_info": {
   "codemirror_mode": {
    "name": "ipython",
    "version": 2
   },
   "file_extension": ".py",
   "mimetype": "text/x-python",
   "name": "python",
   "nbconvert_exporter": "python",
   "pygments_lexer": "ipython2",
   "version": "2.7.10"
  }
 },
 "nbformat": 4,
 "nbformat_minor": 0
}

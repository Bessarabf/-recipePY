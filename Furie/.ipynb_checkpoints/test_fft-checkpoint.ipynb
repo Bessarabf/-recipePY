{
 "cells": [
  {
   "cell_type": "markdown",
   "metadata": {},
   "source": [
    "### Рассмотрим на тестовом примере использование преобразования Фурье"
   ]
  },
  {
   "cell_type": "code",
   "execution_count": 30,
   "metadata": {},
   "outputs": [
    {
     "name": "stdout",
     "output_type": "stream",
     "text": [
      "Populating the interactive namespace from numpy and matplotlib\n"
     ]
    }
   ],
   "source": [
    "import numpy\n",
    "import matplotlib\n",
    "from matplotlib.ticker import MultipleLocator, FormatStrFormatter, AutoMinorLocator, NullFormatter\n",
    "%pylab inline"
   ]
  },
  {
   "cell_type": "code",
   "execution_count": 31,
   "metadata": {},
   "outputs": [
    {
     "name": "stdout",
     "output_type": "stream",
     "text": [
      "0.0416666666667 0.142857142857\n"
     ]
    }
   ],
   "source": [
    "N=64 # число точек\n",
    "t=arange(N)# \"время\" с шагом единица\n",
    "# Функция, состоящая из двух синусоид с периодом 24 и 7\n",
    "y=sin(2.*pi/24.*t)+5.*sin(2.*pi/7.*t)\n",
    "w1=1./24. # частоты, соответствующие заданным периодам\n",
    "w2=1./7.\n",
    "print w1,w2"
   ]
  },
  {
   "cell_type": "markdown",
   "metadata": {},
   "source": [
    "### Результат применения функции fft - массив к-тов Фурье преобразования размерностью N+1"
   ]
  },
  {
   "cell_type": "code",
   "execution_count": 32,
   "metadata": {
    "collapsed": true
   },
   "outputs": [],
   "source": [
    "Y=fft.fft(y)"
   ]
  },
  {
   "cell_type": "code",
   "execution_count": 33,
   "metadata": {},
   "outputs": [
    {
     "data": {
      "text/plain": [
       "[<matplotlib.lines.Line2D at 0x90690f0>]"
      ]
     },
     "execution_count": 33,
     "metadata": {},
     "output_type": "execute_result"
    },
    {
     "data": {
      "image/png": "[encoded data removed]",
      "text/plain": [
       "<matplotlib.figure.Figure at 0x9517850>"
      ]
     },
     "metadata": {},
     "output_type": "display_data"
    }
   ],
   "source": [
    "plot(abs(Y))"
   ]
  },
  {
   "cell_type": "markdown",
   "metadata": {},
   "source": [
    "Для действительных значений y, fft()  вычисляет N/2 значение к-тов от минимальной до максимально возможной fc(fc = Котельникова-Найквиста/2). Заметим, что значение к-тов симметричны относительно N/2"
   ]
  },
  {
   "cell_type": "code",
   "execution_count": 34,
   "metadata": {},
   "outputs": [
    {
     "name": "stdout",
     "output_type": "stream",
     "text": [
      "[ 0.        0.015625  0.03125   0.046875  0.0625    0.078125  0.09375\n",
      "  0.109375  0.125     0.140625  0.15625   0.171875  0.1875    0.203125\n",
      "  0.21875   0.234375  0.25      0.265625  0.28125   0.296875  0.3125\n",
      "  0.328125  0.34375   0.359375  0.375     0.390625  0.40625   0.421875\n",
      "  0.4375    0.453125  0.46875   0.484375 -0.5      -0.484375 -0.46875\n",
      " -0.453125 -0.4375   -0.421875 -0.40625  -0.390625 -0.375    -0.359375\n",
      " -0.34375  -0.328125 -0.3125   -0.296875 -0.28125  -0.265625 -0.25\n",
      " -0.234375 -0.21875  -0.203125 -0.1875   -0.171875 -0.15625  -0.140625\n",
      " -0.125    -0.109375 -0.09375  -0.078125 -0.0625   -0.046875 -0.03125\n",
      " -0.015625]\n"
     ]
    }
   ],
   "source": [
    "# Функция, которая расчитывает значения частот от минимальной до максимально возможной\n",
    "# задаем количество частот и шаг по частоте=частоте Котельникова\n",
    "w=fftfreq(N, d=1.0)\n",
    "print w # — возвращает частоты для выходных массивов функций fft*.\n",
    "# \"нулевая\" частота соответствует среднему значению y\n",
    "# отрицательные частоты имеют смысл для комплексного сигнала"
   ]
  },
  {
   "cell_type": "code",
   "execution_count": 35,
   "metadata": {},
   "outputs": [
    {
     "name": "stdout",
     "output_type": "stream",
     "text": [
      "[ 0.015625  0.03125   0.046875  0.0625    0.078125  0.09375   0.109375\n",
      "  0.125     0.140625  0.15625   0.171875  0.1875    0.203125  0.21875\n",
      "  0.234375  0.25      0.265625  0.28125   0.296875  0.3125    0.328125\n",
      "  0.34375   0.359375  0.375     0.390625  0.40625   0.421875  0.4375\n",
      "  0.453125  0.46875   0.484375]\n"
     ]
    }
   ],
   "source": [
    "#Убедимся, что частоты расчитываются по правилу 1.*d/N, 2*d/N ... (N/2-1)*d/N\n",
    "print arange(1,N/2.)/N"
   ]
  },
  {
   "cell_type": "code",
   "execution_count": null,
   "metadata": {},
   "outputs": [],
   "source": []
  },
  {
   "cell_type": "code",
   "execution_count": 36,
   "metadata": {},
   "outputs": [
    {
     "data": {
      "text/plain": [
       "[<matplotlib.lines.Line2D at 0x8d7a790>]"
      ]
     },
     "execution_count": 36,
     "metadata": {},
     "output_type": "execute_result"
    },
    {
     "data": {
      "image/png": "[encoded data removed]",
      "text/plain": [
       "<matplotlib.figure.Figure at 0x9187f70>"
      ]
     },
     "metadata": {},
     "output_type": "display_data"
    }
   ],
   "source": [
    "\n",
    "plot(w[0:N/2],abs(Y[0:N/2]))\n"
   ]
  },
  {
   "cell_type": "code",
   "execution_count": 37,
   "metadata": {},
   "outputs": [
    {
     "name": "stdout",
     "output_type": "stream",
     "text": [
      "(32,)\n",
      "[  0.          64.          32.          21.33333333  16.          12.8\n",
      "  10.66666667   9.14285714   8.           7.11111111   6.4          5.81818182\n",
      "   5.33333333   4.92307692   4.57142857   4.26666667   4.           3.76470588\n",
      "   3.55555556   3.36842105   3.2          3.04761905   2.90909091\n",
      "   2.7826087    2.66666667   2.56         2.46153846   2.37037037\n",
      "   2.28571429   2.20689655   2.13333333   2.06451613]\n"
     ]
    }
   ],
   "source": [
    "# рассчитаем периоды для соответствующих частот\n",
    "per=zeros(N/2)\n",
    "per[1:N/2]=1./w[1:N/2]\n",
    "print shape(per)\n",
    "print per"
   ]
  },
  {
   "cell_type": "markdown",
   "metadata": {},
   "source": [
    "Обратите внимание - разбиение по частотам - равномерно, а по периодам - НЕТ!"
   ]
  },
  {
   "cell_type": "code",
   "execution_count": 38,
   "metadata": {},
   "outputs": [
    {
     "data": {
      "text/plain": [
       "[<matplotlib.lines.Line2D at 0x8edc0d0>]"
      ]
     },
     "execution_count": 38,
     "metadata": {},
     "output_type": "execute_result"
    },
    {
     "data": {
      "image/png": "[encoded data removed]",
      "text/plain": [
       "<matplotlib.figure.Figure at 0x79f3430>"
      ]
     },
     "metadata": {},
     "output_type": "display_data"
    }
   ],
   "source": [
    "subplot(2,1,1)\n",
    "plot(w[0:N/2],'ro')\n",
    "subplot(2,1,2)\n",
    "plot(per[0:N/2],'ro')"
   ]
  },
  {
   "cell_type": "markdown",
   "metadata": {},
   "source": [
    "Построим коэффициенты разложения, в зависимости от периода"
   ]
  },
  {
   "cell_type": "code",
   "execution_count": 49,
   "metadata": {},
   "outputs": [
    {
     "data": {
      "text/plain": [
       "<matplotlib.text.Text at 0xa066c10>"
      ]
     },
     "execution_count": 49,
     "metadata": {},
     "output_type": "execute_result"
    },
    {
     "data": {
      "image/png": "[encoded data removed]",
      "text/plain": [
       "<matplotlib.figure.Figure at 0x96f1670>"
      ]
     },
     "metadata": {},
     "output_type": "display_data"
    }
   ],
   "source": [
    "fig, ax = subplots()\n",
    "xminorLocator=AutoMinorLocator(n=5)\n",
    "plot(per[1:N/2],abs(Y[1:N/2]),'g-+')\n",
    "ax.xaxis.set_minor_locator(xminorLocator) # добавляем промежуточные метки на ось х\n",
    "xlabel(u'Период',{'fontname':'Arial'})\n"
   ]
  },
  {
   "cell_type": "markdown",
   "metadata": {},
   "source": [
    "Крестиками нанесены значения к-тов разложения. Видно, что значения периодов не равномерны, и в нашей \"сетке\" периодов, равных 24 и 7 нет! К-ты максимальны в точках (периодах), ближайшим к ним."
   ]
  },
  {
   "cell_type": "code",
   "execution_count": null,
   "metadata": {},
   "outputs": [],
   "source": [
    "print abs(Y[9]),per[9]"
   ]
  },
  {
   "cell_type": "code",
   "execution_count": null,
   "metadata": {},
   "outputs": [],
   "source": [
    "print abs(Y[3]),per[3]"
   ]
  },
  {
   "cell_type": "code",
   "execution_count": null,
   "metadata": {
    "collapsed": true
   },
   "outputs": [],
   "source": []
  }
 ],
 "metadata": {
  "kernelspec": {
   "display_name": "Python 3",
   "language": "python",
   "name": "python3"
  },
  "language_info": {
   "codemirror_mode": {
    "name": "ipython",
    "version": 3
   },
   "file_extension": ".py",
   "mimetype": "text/x-python",
   "name": "python",
   "nbconvert_exporter": "python",
   "pygments_lexer": "ipython3",
   "version": "3.7.4"
  }
 },
 "nbformat": 4,
 "nbformat_minor": 1
}

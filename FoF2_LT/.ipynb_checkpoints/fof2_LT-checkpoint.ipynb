{
 "metadata": {
  "name": "",
  "signature": "sha256:e2a8ec47de1ac007e1da9d605a5b94f908a2468d193462db74b1be4d75afe727"
 },
 "nbformat": 3,
 "nbformat_minor": 0,
 "worksheets": [
  {
   "cells": [
    {
     "cell_type": "code",
     "collapsed": false,
     "input": [
      "import pandas as pd"
     ],
     "language": "python",
     "metadata": {},
     "outputs": [],
     "prompt_number": 1
    },
    {
     "cell_type": "code",
     "collapsed": false,
     "input": [
      "# \u043f\u0440\u043e\u0432\u0435\u0440\u044f\u0435\u043c \u0447\u0442\u0435\u043d\u0438\u0435 \u0444\u0430\u0439\u043b\u0430\n",
      "# \u0447\u0442\u0435\u043d\u0438\u0435 \u0434\u0430\u043d\u043d\u044b\u0445 \u0438\u0437 \u0444\u0430\u0439\u043b\u0430\n",
      "fof2_01=pd.read_table(\"foF2_01_LT.dat\",header=None,sep=r'\\s*')\n",
      "fof2_01.columns = ['x','y','f0_f2']\n",
      "fof2_01.head()\n"
     ],
     "language": "python",
     "metadata": {},
     "outputs": [
      {
       "html": [
        "<div style=\"max-height:1000px;max-width:1500px;overflow:auto;\">\n",
        "<table border=\"1\" class=\"dataframe\">\n",
        "  <thead>\n",
        "    <tr style=\"text-align: right;\">\n",
        "      <th></th>\n",
        "      <th>x</th>\n",
        "      <th>y</th>\n",
        "      <th>f0_f2</th>\n",
        "    </tr>\n",
        "  </thead>\n",
        "  <tbody>\n",
        "    <tr>\n",
        "      <th>0</th>\n",
        "      <td> 0</td>\n",
        "      <td> 90</td>\n",
        "      <td> 1.165251</td>\n",
        "    </tr>\n",
        "    <tr>\n",
        "      <th>1</th>\n",
        "      <td> 0</td>\n",
        "      <td> 85</td>\n",
        "      <td> 1.303898</td>\n",
        "    </tr>\n",
        "    <tr>\n",
        "      <th>2</th>\n",
        "      <td> 0</td>\n",
        "      <td> 80</td>\n",
        "      <td> 1.279596</td>\n",
        "    </tr>\n",
        "    <tr>\n",
        "      <th>3</th>\n",
        "      <td> 0</td>\n",
        "      <td> 75</td>\n",
        "      <td> 1.027926</td>\n",
        "    </tr>\n",
        "    <tr>\n",
        "      <th>4</th>\n",
        "      <td> 0</td>\n",
        "      <td> 70</td>\n",
        "      <td> 0.730121</td>\n",
        "    </tr>\n",
        "  </tbody>\n",
        "</table>\n",
        "<p>5 rows \u00d7 3 columns</p>\n",
        "</div>"
       ],
       "metadata": {},
       "output_type": "pyout",
       "prompt_number": 2,
       "text": [
        "   x   y     f0_f2\n",
        "0  0  90  1.165251\n",
        "1  0  85  1.303898\n",
        "2  0  80  1.279596\n",
        "3  0  75  1.027926\n",
        "4  0  70  0.730121\n",
        "\n",
        "[5 rows x 3 columns]"
       ]
      }
     ],
     "prompt_number": 2
    },
    {
     "cell_type": "code",
     "collapsed": false,
     "input": [
      "num=['01','02','03','04','05','06','07','08','09']"
     ],
     "language": "python",
     "metadata": {},
     "outputs": [],
     "prompt_number": 3
    },
    {
     "cell_type": "heading",
     "level": 3,
     "metadata": {},
     "source": [
      "\u0447\u0442\u0435\u043d\u0438\u0435 \u0438\u0437 24 \u0444\u0430\u0439\u043b\u043e\u0432 \u0441 \u0434\u0430\u043d\u043d\u044b\u043c\u0438 \u0438 \u043e\u0442\u0431\u043e\u0440 \u0441 \u043a\u0430\u0436\u0434\u043e\u0439 \u0434\u043e\u043b\u0433\u043e\u0442\u044b \u0434\u043b\u044f \u0448\u0438\u0440\u043e\u0442\u044b "
     ]
    },
    {
     "cell_type": "code",
     "collapsed": false,
     "input": [
      "fof2D=zeros(25*24*37).reshape(25,24,37)\n",
      "lat=90\n",
      "for ilat in range(0,37):  # \u0437\u0430\u0434\u0430\u0435\u043c \u0448\u0438\u0440\u043e\u0442\u0443\n",
      "    for j in range(0,25):                                  #\n",
      "        for i in range(0,9):                               # \u0444\u043e\u0440\u043c\u0438\u0440\u0443\u0435\u043c \u0438\u043c\u0435\u043d\u0430 \u0434\u043b\u044f \u0447\u0442\u0435\u043d\u0438\u044f \u043f\u0435\u0440\u0432\u044b\u0445 10 \u0444\u0430\u0439\u043b\u043e\u0432\n",
      "            name='foF2_'+num[i]+\"_LT.dat\"                  #\n",
      "            fof2_=pd.read_table(name,header=None,sep=r'\\s*')\n",
      "            fof2_.columns = ['x','y','f0_f2']              # \u043f\u0435\u0440\u0435\u0438\u043c\u0435\u043d\u043e\u0432\u044b\u0432\u0430\u0435\u043c \u043a\u043e\u043b\u043e\u043d\u043a\u0438\n",
      "            mask=(fof2_.x==j*15)*(fof2_.y==lat)            # \u0437\u0430\u0434\u0430\u0435\u043c \u043c\u0430\u0441\u043a\u0443 \u043f\u043e \u0434\u043e\u043b\u0433\u043e\u0442\u0435(15 \u0433\u0440\u0430\u0434 \u0448\u0430\u0433 ) \u0438 \u0448\u0438\u0440\u043e\u0442\u0435 lat\n",
      "            fof2D[j,i,ilat]=fof2_[mask]['f0_f2']           #\n",
      "        for i in range(9,24):                              # \u0444\u043e\u0440\u043c\u0438\u0440\u0443\u0435\u043c \u0438\u043c\u0435\u043d\u0430 \u0434\u043b\u044f \u0447\u0442\u0435\u043d\u0438\u044f \u043e\u0441\u0442\u0430\u043b\u044c\u043d\u044b\u0445 \u0444\u0430\u0439\u043b\u043e\u0432\n",
      "            name='foF2_'+str(i+1)+\"_LT.dat\"                #  \n",
      "            fof2_=pd.read_table(name,header=None,sep=r'\\s*')  \n",
      "            fof2_.columns = ['x','y','f0_f2']\n",
      "            mask=(fof2_.x==j*15)*(fof2_.y==lat)            #   \n",
      "            fof2D[j,i,ilat]=fof2_[mask]['f0_f2']\n",
      "    lat=lat-5.\n",
      "           "
     ],
     "language": "python",
     "metadata": {},
     "outputs": [],
     "prompt_number": 29
    },
    {
     "cell_type": "code",
     "collapsed": false,
     "input": [
      "# \u0441\u0442\u0440\u043e\u0438\u043c \u0432\u0441\u0435 \u0441\u0443\u0442\u043e\u0447\u043d\u044b\u0435  - \u0432\u0430\u0440\u0438\u0430\u0446\u0438\u0438 \u0434\u043b\u044f \u0432\u0441\u0435\u0445 \u0434\u043e\u043b\u0433\u043e\u0442 \u043d\u0430 \u0448\u0438\u0440\u043e\u0442\u0435 lat\n",
      "#for i in range(0,24):\n",
      "#    plot(arange(24),fof2D[i,:])        "
     ],
     "language": "python",
     "metadata": {},
     "outputs": [],
     "prompt_number": 5
    },
    {
     "cell_type": "code",
     "collapsed": false,
     "input": [
      "#fname='fof2Dvar.dat'\n",
      "#savetxt(fname, fof2D, fmt='%10.3f', delimiter=' ', newline='\\n')"
     ],
     "language": "python",
     "metadata": {},
     "outputs": [],
     "prompt_number": 6
    },
    {
     "cell_type": "heading",
     "level": 3,
     "metadata": {},
     "source": [
      "\u0420\u0438\u0441\u043e\u0432\u0430\u043d\u0438\u0435 \u0438\u0437\u043e\u043b\u0438\u043d\u0438\u0439, \u0438\u043b\u043b\u044e\u0441\u0442\u0440\u0438\u0440\u0443\u044e\u0449\u0438\u0445 \u0434\u043e\u043b\u0433\u043e\u0442\u043d\u044b\u0435 \u0432\u0430\u0440\u0438\u0430\u0446\u0438\u0438"
     ]
    },
    {
     "cell_type": "markdown",
     "metadata": {},
     "source": [
      "\u0418\u0437\u043e\u043b\u0438\u043d\u0438\u0438, \u0443\u0441\u0440\u0435\u0434\u043d\u0435\u043d\u043d\u044b\u0435 \u043f\u043e LT \u0437\u0430 \u0441\u0443\u0442\u043a\u0438"
     ]
    },
    {
     "cell_type": "code",
     "collapsed": false,
     "input": [
      "its,ids=37,25\n",
      "x=linspace(0,360,ids)\n",
      "y=linspace(-90,90,its)\n",
      "z=zeros(its*ids).reshape(its,ids)\n",
      "print shape(z),shape(x)"
     ],
     "language": "python",
     "metadata": {},
     "outputs": [
      {
       "output_type": "stream",
       "stream": "stdout",
       "text": [
        "(37, 25) (25,)\n"
       ]
      }
     ],
     "prompt_number": 37
    },
    {
     "cell_type": "code",
     "collapsed": false,
     "input": [
      "# \u0444\u0443\u043d\u043a\u0446\u0438\u044f \u0437\u0430\u043f\u0438\u0441\u0438 \u0443\u0441\u0440\u0435\u0434\u043d\u0435\u043d\u0438\u0439 \u0432 surf-file\n",
      "def writeZ(fname):\n",
      "    set_printoptions(precision = 4, suppress = True)\n",
      "    with open(fname,\"w\") as out:\n",
      "        for j in range(ids):\n",
      "            lon=15.*j\n",
      "            for i in range(its):\n",
      "                lat=5.*i-90.\n",
      "                st=str(lon)+'  '+str(lat)+'  '+str(float(\"{0:.2f}\".format(z[i,j])))\n",
      "                out.write(st+'\\n')\n",
      "    out.close()\n"
     ],
     "language": "python",
     "metadata": {},
     "outputs": [
      {
       "output_type": "stream",
       "stream": "stdout",
       "text": [
        "(37, 25) (25,)\n"
       ]
      }
     ],
     "prompt_number": 38
    },
    {
     "cell_type": "code",
     "collapsed": false,
     "input": [
      "k=0\n",
      "for j in range(ids):\n",
      "    for i in range(its):\n",
      "        #z[its-i-1,j]=mean(fof2D[j,:,its-i-1])\n",
      "        z[its-i-1,j]=mean(fof2D[j,:,i]) \n",
      "        k=k+1\n",
      "contourf(x,y,z,20,cmap=cm.rainbow)\n",
      "colorbar()\n",
      "writeZ(\"fof2_day.dat\")"
     ],
     "language": "python",
     "metadata": {},
     "outputs": [
      {
       "metadata": {},
       "output_type": "display_data",
       "png": "[encoded data removed]",
       "text": [
        "<matplotlib.figure.Figure at 0xa87d190>"
       ]
      }
     ],
     "prompt_number": 39
    },
    {
     "cell_type": "markdown",
     "metadata": {},
     "source": [
      "\u0418\u0437\u043e\u043b\u0438\u043d\u0438\u0438, \u043f\u043e\u043b\u0443\u0447\u0435\u043d\u043d\u044b\u0435 \u0443\u0441\u0440\u0435\u0434\u043d\u0435\u043d\u0438\u0435\u043c \u043f\u043e \u0432\u044b\u0431\u0440\u0430\u043d\u043d\u043e\u043c\u0443 \u0432\u0440\u0435\u043c\u0435\u043d\u043d\u043e\u043c\u0443 \u0438\u043d\u0442\u0435\u0440\u0432\u0430\u043b\u0443 "
     ]
    },
    {
     "cell_type": "code",
     "collapsed": false,
     "input": [
      "k=0\n",
      "kSTART=21\n",
      "kEND=3\n",
      "\n",
      "for j in range(ids):\n",
      "    for i in range(its):\n",
      "        if kSTART>kEND:\n",
      "            s1=sum(fof2D[j,kSTART:24,i])+sum(fof2D[j,1:kEND,i])\n",
      "            z[its-i-1,j]=s1/(24-kSTART+kEND-1)\n",
      "        else:\n",
      "            z[its-i-1,j]=mean(fof2D[j,kSTART:kEND,i])  # \n",
      "        k=k+1\n",
      "contourf(x,y,z,20,cmap=cm.rainbow)\n",
      "colorbar()\n",
      "writeZ(\"fof2_mon.dat\")\n"
     ],
     "language": "python",
     "metadata": {},
     "outputs": [
      {
       "metadata": {},
       "output_type": "display_data",
       "png": "[encoded data removed]",
       "text": [
        "<matplotlib.figure.Figure at 0xa647a90>"
       ]
      }
     ],
     "prompt_number": 46
    },
    {
     "cell_type": "code",
     "collapsed": false,
     "input": [
      "a=arange(1,25)\n",
      "a"
     ],
     "language": "python",
     "metadata": {},
     "outputs": [
      {
       "metadata": {},
       "output_type": "pyout",
       "prompt_number": 43,
       "text": [
        "array([ 1,  2,  3,  4,  5,  6,  7,  8,  9, 10, 11, 12, 13, 14, 15, 16, 17,\n",
        "       18, 19, 20, 21, 22, 23, 24])"
       ]
      }
     ],
     "prompt_number": 43
    },
    {
     "cell_type": "code",
     "collapsed": false,
     "input": [
      "a[21:24]\n"
     ],
     "language": "python",
     "metadata": {},
     "outputs": [
      {
       "metadata": {},
       "output_type": "pyout",
       "prompt_number": 44,
       "text": [
        "array([22, 23, 24])"
       ]
      }
     ],
     "prompt_number": 44
    },
    {
     "cell_type": "code",
     "collapsed": false,
     "input": [],
     "language": "python",
     "metadata": {},
     "outputs": [],
     "prompt_number": 10
    }
   ],
   "metadata": {}
  }
 ]
}